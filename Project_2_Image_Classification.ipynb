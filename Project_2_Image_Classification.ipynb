{
 "cells": [
  {
   "cell_type": "markdown",
   "metadata": {
    "collapsed": true,
    "deletable": true,
    "editable": true
   },
   "source": [
    "# Image Classification\n",
    "In this project, you'll classify images from the [CIFAR-10 dataset](https://www.cs.toronto.edu/~kriz/cifar.html).  The dataset consists of airplanes, dogs, cats, and other objects. You'll preprocess the images, then train a convolutional neural network on all the samples. The images need to be normalized and the labels need to be one-hot encoded.  You'll get to apply what you learned and build a convolutional, max pooling, dropout, and fully connected layers.  At the end, you'll get to see your neural network's predictions on the sample images.\n",
    "## Get the Data\n",
    "Run the following cell to download the [CIFAR-10 dataset for python](https://www.cs.toronto.edu/~kriz/cifar-10-python.tar.gz)."
   ]
  },
  {
   "cell_type": "code",
   "execution_count": 2,
   "metadata": {
    "collapsed": false,
    "deletable": true,
    "editable": true
   },
   "outputs": [
    {
     "name": "stdout",
     "output_type": "stream",
     "text": [
      "All files found!\n"
     ]
    }
   ],
   "source": [
    "\"\"\"\n",
    "DON'T MODIFY ANYTHING IN THIS CELL THAT IS BELOW THIS LINE\n",
    "\"\"\"\n",
    "from urllib.request import urlretrieve\n",
    "from os.path import isfile, isdir\n",
    "from tqdm import tqdm\n",
    "import problem_unittests as tests\n",
    "import tarfile\n",
    "\n",
    "cifar10_dataset_folder_path = 'cifar-10-batches-py'\n",
    "\n",
    "class DLProgress(tqdm):\n",
    "    last_block = 0\n",
    "\n",
    "    def hook(self, block_num=1, block_size=1, total_size=None):\n",
    "        self.total = total_size\n",
    "        self.update((block_num - self.last_block) * block_size)\n",
    "        self.last_block = block_num\n",
    "\n",
    "if not isfile('cifar-10-python.tar.gz'):\n",
    "    with DLProgress(unit='B', unit_scale=True, miniters=1, desc='CIFAR-10 Dataset') as pbar:\n",
    "        urlretrieve(\n",
    "            'https://www.cs.toronto.edu/~kriz/cifar-10-python.tar.gz',\n",
    "            'cifar-10-python.tar.gz',\n",
    "            pbar.hook)\n",
    "\n",
    "if not isdir(cifar10_dataset_folder_path):\n",
    "    with tarfile.open('cifar-10-python.tar.gz') as tar:\n",
    "        tar.extractall()\n",
    "        tar.close()\n",
    "\n",
    "\n",
    "tests.test_folder_path(cifar10_dataset_folder_path)"
   ]
  },
  {
   "cell_type": "markdown",
   "metadata": {
    "deletable": true,
    "editable": true
   },
   "source": [
    "## Explore the Data\n",
    "The dataset is broken into batches to prevent your machine from running out of memory.  The CIFAR-10 dataset consists of 5 batches, named `data_batch_1`, `data_batch_2`, etc.. Each batch contains the labels and images that are one of the following:\n",
    "* airplane\n",
    "* automobile\n",
    "* bird\n",
    "* cat\n",
    "* deer\n",
    "* dog\n",
    "* frog\n",
    "* horse\n",
    "* ship\n",
    "* truck\n",
    "\n",
    "Understanding a dataset is part of making predictions on the data.  Play around with the code cell below by changing the `batch_id` and `sample_id`. The `batch_id` is the id for a batch (1-5). The `sample_id` is the id for a image and label pair in the batch.\n",
    "\n",
    "Ask yourself \"What are all possible labels?\", \"What is the range of values for the image data?\", \"Are the labels in order or random?\".  Answers to questions like these will help you preprocess the data and end up with better predictions."
   ]
  },
  {
   "cell_type": "code",
   "execution_count": 3,
   "metadata": {
    "collapsed": false,
    "deletable": true,
    "editable": true
   },
   "outputs": [
    {
     "name": "stdout",
     "output_type": "stream",
     "text": [
      "\n",
      "Stats of batch 5:\n",
      "Samples: 10000\n",
      "Label Counts: {0: 1014, 1: 1014, 2: 952, 3: 1016, 4: 997, 5: 1025, 6: 980, 7: 977, 8: 1003, 9: 1022}\n",
      "First 20 Labels: [1, 8, 5, 1, 5, 7, 4, 3, 8, 2, 7, 2, 0, 1, 5, 9, 6, 2, 0, 8]\n",
      "\n",
      "Example of Image 3:\n",
      "Image - Min Value: 0 Max Value: 252\n",
      "Image - Shape: (32, 32, 3)\n",
      "Label - Label Id: 1 Name: automobile\n"
     ]
    },
    {
     "data": {
      "image/png": "[encoded data removed]",
      "text/plain": [
       "<matplotlib.figure.Figure at 0x7f79ce206198>"
      ]
     },
     "metadata": {
      "image/png": {
       "height": 250,
       "width": 253
      }
     },
     "output_type": "display_data"
    }
   ],
   "source": [
    "%matplotlib inline\n",
    "%config InlineBackend.figure_format = 'retina'\n",
    "\n",
    "import helper\n",
    "import numpy as np\n",
    "\n",
    "# Explore the dataset\n",
    "batch_id = 5\n",
    "sample_id = 3\n",
    "helper.display_stats(cifar10_dataset_folder_path, batch_id, sample_id)"
   ]
  },
  {
   "cell_type": "markdown",
   "metadata": {
    "deletable": true,
    "editable": true
   },
   "source": [
    "## Implement Preprocess Functions\n",
    "### Normalize\n",
    "In the cell below, implement the `normalize` function to take in image data, `x`, and return it as a normalized Numpy array. The values should be in the range of 0 to 1, inclusive.  The return object should be the same shape as `x`."
   ]
  },
  {
   "cell_type": "code",
   "execution_count": 4,
   "metadata": {
    "collapsed": false,
    "deletable": true,
    "editable": true
   },
   "outputs": [
    {
     "name": "stdout",
     "output_type": "stream",
     "text": [
      "0\n",
      "255\n",
      "Tests Passed\n"
     ]
    }
   ],
   "source": [
    "def normalize(x):\n",
    "    \"\"\"\n",
    "    Normalize a list of sample image data in the range of 0 to 1\n",
    "    : x: List of image data.  The image shape is (32, 32, 3)\n",
    "    : return: Numpy array of normalize data\n",
    "    \"\"\"\n",
    "    # TODO: Implement Function\n",
    "    #print(np.shape(x))\n",
    "    #a = 0\n",
    "    #b = 1\n",
    "    #rgb_min = 0\n",
    "    #rgb_max = 256\n",
    "    #return a + ( ( (x - rgb_min)*(b - a) )/( rgb_max - rgb_min ) )\n",
    "    #print(np.shape(x))\n",
    "    \n",
    "    x_min = np.min(x)\n",
    "    x_max = np.max(x)\n",
    "    print(x_min)\n",
    "    print(x_max)\n",
    "    return (x - x_min) / (x_max - x_min)\n",
    " \n",
    "\n",
    "\n",
    "\"\"\"\n",
    "DON'T MODIFY ANYTHING IN THIS CELL THAT IS BELOW THIS LINE\n",
    "\"\"\"\n",
    "tests.test_normalize(normalize)"
   ]
  },
  {
   "cell_type": "markdown",
   "metadata": {
    "deletable": true,
    "editable": true
   },
   "source": [
    "### One-hot encode\n",
    "Just like the previous code cell, you'll be implementing a function for preprocessing.  This time, you'll implement the `one_hot_encode` function. The input, `x`, are a list of labels.  Implement the function to return the list of labels as One-Hot encoded Numpy array.  The possible values for labels are 0 to 9. The one-hot encoding function should return the same encoding for each value between each call to `one_hot_encode`.  Make sure to save the map of encodings outside the function.\n",
    "\n",
    "Hint: Don't reinvent the wheel."
   ]
  },
  {
   "cell_type": "code",
   "execution_count": 5,
   "metadata": {
    "collapsed": false,
    "deletable": true,
    "editable": true
   },
   "outputs": [
    {
     "name": "stdout",
     "output_type": "stream",
     "text": [
      "[6 2 3 1 9 3 1 4 3 3 9 4 7 6 3 8 1 5 2 0 9 6 3 7 2 0 6 2 3 1 4 4 1 8 2 5 6\n",
      " 5 4 7 7 2 3 1 5 8 4 9 5 4 2 1 8 1 4 7 6 2 8 0 4 1 3 3 4 8 6 0 3 8 2 4 0 5\n",
      " 3 5 3 4 0 8 4 6 8 6 7 7 2 2 2 5 0 6 6 6 7 3 9 3 5 4 3 1 7 9 8 5 8 9 2 7 5\n",
      " 7 3 6 1 4 3 7 0 2 5 4 6 5 5 7 7 6 7 0 7 6 6 4 3 2 4 2 8 7 4 9 1 7 7 2 9 8\n",
      " 2 2 2 6 9 7 7 8 7 9 7 9 1 2 2 8 7 4 2 5 0 2 1 7 9 0 1 9 2 4 9 1 8 9 1 1 0\n",
      " 2 8 7 7 3 4 1 8 0 3 5 1 3 5 0 1 7 8 5 8 7 9 5 2 2 2 4 1 8 5 7 9 2 3 8 9 8\n",
      " 3 7 5 4 5 8 0 3 0 5 2 4 3 4 1 5 8 0 5 8 4 4 6 4 5 2 0 5 2 4 8 0 1 7 8 9 8\n",
      " 9 1 3 4 1 5 9 7 2 4 3 8 4 8 3 7 9 6 8 0 1 8 7 6 0 2 0 9 6 9 7 8 6 2 1 5 5\n",
      " 4 3 4 9 9 4 6 4 0 2 7 6 1 2 7 6 4 9 3 5 0 6 4 1 4 2 4 5 0 8 5 8 9 9 6 9 0\n",
      " 1 4 0 9 6 2 9 6 0 8 9 8 8 2 4 3 3 1 7 4 1 4 2 6 5 3 9 3 3 8 8 2 9 7 4 4 8\n",
      " 4 8 8 3 2 2 0 4 6 8 4 4 5 6 8 4 8 1 3 0 1 0 5 9 0 5 4 7 3 4 5 2 6 4 1 3 5\n",
      " 7 1 4 5 8 5 1 2 7 0 5 7 4 9 6 9 3 4 2 3 8 6 5 8 9 6 9 1 5 9 1 2 7 9 7 8 1\n",
      " 7 1 2 1 4 0 8 4 6 4 3 6 9 3 6 4 0 1 3 3 3 9 9 9 5 3 7 6 2 7 6 0 7 3 9 2 3\n",
      " 0 6 9 0 2 0 9 8 9 8 8 1 5 5 4 6 4 2 2 3 1 8 8 0 5 4 1 3 8 8 3 3 6 4 7 8 7\n",
      " 8 5 4 2 0 6 3 3 0 4 3 6 4 4 0 0 9 0 5 8 0 3 0 5 2 4 4 6 3 5 4 9 6 7 8 7 7\n",
      " 1 0 0 8 8 2 8 4 0 8 3 4 8 1 3 8 0 2 6 7 8 5 3 7 8 6 5 4 8 0 6 5 7 8 9 8 8\n",
      " 9 5 9 0 6 8 3 4 9 2 5 6 9 2 2 4 1 2 3 0 2 1 7 4 6 4 8 9 0 7 2 6 5 9 8 4 5\n",
      " 6 4 2 3 5 0 3 3 5 7 9 5 7 0 1 6 8 0 0 9 4 8 0 8 4 0 9 2 5 4 9 5 7 1 5 4 5\n",
      " 2 7 6 8 0 8 2 0 5 2 2 8 5 5 9 3 5 2 5 4 9 1 4 9 1 6 7 8 8 9 7 0 1 5 5 7 5\n",
      " 9 4 7 0 9 2 4 2 5 4 7 7 4 5 2 7 9 6 4 4 2 9 2 8 8 0 8 3 5 9 1 8 2 3 7 0 2\n",
      " 6 1 2 7 2 1 3 6 9 9 4 5 0 3 1 7 8 9 8 7]\n",
      "(760, 10)\n",
      "[5, 3, 2, 8, 6]\n",
      "(5, 10)\n",
      "Tests Passed\n"
     ]
    }
   ],
   "source": [
    "from sklearn.preprocessing import LabelBinarizer\n",
    "\n",
    "\n",
    "def one_hot_encode(x):\n",
    "    \"\"\"\n",
    "    One hot encode a list of sample labels. Return a one-hot encoded vector for each label.\n",
    "    : x: List of sample Labels\n",
    "    : return: Numpy array of one-hot encoded labels\n",
    "    \"\"\"\n",
    "    print(x)\n",
    "    # TODO: Implement Function\n",
    "    encoder = LabelBinarizer()\n",
    "    encoder.fit([0,1,2,3,4,5,6,7,8,9])\n",
    "    x = encoder.transform(x)\n",
    "    print(np.shape(x))\n",
    "    return x\n",
    "\n",
    "\n",
    "\"\"\"\n",
    "DON'T MODIFY ANYTHING IN THIS CELL THAT IS BELOW THIS LINE\n",
    "\"\"\"\n",
    "tests.test_one_hot_encode(one_hot_encode)"
   ]
  },
  {
   "cell_type": "markdown",
   "metadata": {
    "deletable": true,
    "editable": true
   },
   "source": [
    "### Randomize Data\n",
    "As you saw from exploring the data above, the order of the samples are randomized.  It doesn't hurt to randomize it again, but you don't need to for this dataset."
   ]
  },
  {
   "cell_type": "markdown",
   "metadata": {
    "deletable": true,
    "editable": true
   },
   "source": [
    "## Preprocess all the data and save it\n",
    "Running the code cell below will preprocess all the CIFAR-10 data and save it to file. The code below also uses 10% of the training data for validation."
   ]
  },
  {
   "cell_type": "code",
   "execution_count": 6,
   "metadata": {
    "collapsed": false,
    "deletable": true,
    "editable": true
   },
   "outputs": [
    {
     "name": "stdout",
     "output_type": "stream",
     "text": [
      "0\n",
      "255\n",
      "[6, 9, 9, 4, 1, 1, 2, 7, 8, 3, 4, 7, 7, 2, 9, 9, 9, 3, 2, 6, 4, 3, 6, 6, 2, 6, 3, 5, 4, 0, 0, 9, 1, 3, 4, 0, 3, 7, 3, 3, 5, 2, 2, 7, 1, 1, 1, 2, 2, 0, 9, 5, 7, 9, 2, 2, 5, 2, 4, 3, 1, 1, 8, 2, 1, 1, 4, 9, 7, 8, 5, 9, 6, 7, 3, 1, 9, 0, 3, 1, 3, 5, 4, 5, 7, 7, 4, 7, 9, 4, 2, 3, 8, 0, 1, 6, 1, 1, 4, 1, 8, 3, 9, 6, 6, 1, 8, 5, 2, 9, 9, 8, 1, 7, 7, 0, 0, 6, 9, 1, 2, 2, 9, 2, 6, 6, 1, 9, 5, 0, 4, 7, 6, 7, 1, 8, 1, 1, 2, 8, 1, 3, 3, 6, 2, 4, 9, 9, 5, 4, 3, 6, 7, 4, 6, 8, 5, 5, 4, 3, 1, 8, 4, 7, 6, 0, 9, 5, 1, 3, 8, 2, 7, 5, 3, 4, 1, 5, 7, 0, 4, 7, 5, 5, 1, 0, 9, 6, 9, 0, 8, 7, 8, 8, 2, 5, 2, 3, 5, 0, 6, 1, 9, 3, 6, 9, 1, 3, 9, 6, 6, 7, 1, 0, 9, 5, 8, 5, 2, 9, 0, 8, 8, 0, 6, 9, 1, 1, 6, 3, 7, 6, 6, 0, 6, 6, 1, 7, 1, 5, 8, 3, 6, 6, 8, 6, 8, 4, 6, 6, 1, 3, 8, 3, 4, 1, 7, 1, 3, 8, 5, 1, 1, 4, 0, 9, 3, 7, 4, 9, 9, 2, 4, 9, 9, 1, 0, 5, 9, 0, 8, 2, 1, 2, 0, 5, 6, 3, 2, 7, 8, 8, 6, 0, 7, 9, 4, 5, 6, 4, 2, 1, 1, 2, 1, 5, 9, 9, 0, 8, 4, 1, 1, 6, 3, 3, 9, 0, 7, 9, 7, 7, 9, 1, 5, 1, 6, 6, 8, 7, 1, 3, 0, 3, 3, 2, 4, 5, 7, 5, 9, 0, 3, 4, 0, 4, 4, 6, 0, 0, 6, 6, 0, 8, 1, 6, 2, 9, 2, 5, 9, 6, 7, 4, 1, 8, 7, 3, 6, 9, 3, 0, 4, 0, 5, 1, 0, 3, 4, 8, 5, 4, 7, 2, 3, 9, 7, 6, 7, 1, 4, 7, 0, 1, 7, 3, 1, 8, 4, 4, 2, 0, 2, 2, 0, 0, 9, 0, 9, 6, 8, 2, 7, 7, 4, 0, 3, 0, 8, 9, 4, 2, 7, 2, 5, 2, 5, 1, 9, 4, 8, 5, 1, 7, 4, 4, 0, 6, 9, 0, 7, 8, 8, 9, 9, 3, 3, 4, 0, 4, 5, 6, 6, 0, 1, 0, 8, 0, 4, 8, 8, 1, 5, 2, 6, 8, 1, 0, 0, 7, 7, 5, 9, 6, 2, 8, 3, 4, 7, 3, 9, 0, 1, 2, 4, 8, 1, 8, 6, 4, 4, 5, 7, 1, 3, 9, 8, 0, 1, 7, 5, 8, 2, 8, 0, 4, 1, 8, 9, 8, 2, 9, 9, 2, 7, 5, 7, 3, 8, 8, 4, 4, 2, 7, 1, 6, 4, 0, 4, 6, 9, 7, 6, 2, 5, 5, 1, 7, 2, 2, 2, 9, 5, 4, 2, 7, 8, 1, 3, 4, 3, 7, 6, 9, 8, 0, 6, 0, 2, 2, 2, 1, 8, 4, 0, 1, 8, 8, 1, 5, 7, 6, 4, 5, 8, 7, 1, 9, 1, 9, 8, 4, 7, 3, 8, 8, 2, 6, 6, 7, 1, 6, 8, 1, 9, 7, 8, 3, 0, 1, 0, 8, 8, 3, 0, 0, 1, 5, 0, 8, 8, 7, 9, 9, 0, 9, 4, 1, 3, 6, 6, 4, 4, 7, 5, 6, 0, 8, 0, 3, 2, 8, 4, 6, 9, 9, 7, 0, 3, 3, 6, 7, 4, 9, 1, 6, 2, 7, 2, 2, 0, 6, 7, 5, 7, 6, 8, 9, 0, 9, 4, 4, 7, 0, 9, 4, 9, 6, 9, 4, 5, 7, 9, 2, 4, 5, 1, 4, 3, 9, 6, 5, 6, 9, 3, 3, 5, 0, 7, 2, 1, 3, 6, 4, 0, 0, 2, 5, 0, 1, 0, 2, 3, 9, 8, 4, 9, 8, 0, 2, 6, 4, 4, 0, 1, 8, 8, 3, 6, 9, 6, 6, 7, 8, 2, 4, 5, 7, 6, 5, 3, 0, 5, 0, 5, 0, 8, 2, 6, 7, 3, 8, 2, 1, 7, 6, 7, 1, 0, 9, 5, 5, 0, 1, 7, 6, 9, 0, 4, 7, 7, 1, 5, 9, 4, 0, 8, 5, 9, 9, 6, 7, 1, 8, 3, 2, 3, 8, 2, 2, 4, 6, 0, 0, 5, 3, 8, 2, 3, 7, 2, 9, 3, 8, 7, 8, 2, 7, 9, 0, 2, 3, 2, 2, 2, 3, 3, 6, 2, 3, 2, 8, 0, 5, 5, 1, 4, 5, 6, 6, 2, 7, 0, 1, 7, 7, 8, 2, 9, 2, 2, 4, 2, 1, 1, 1, 6, 6, 6, 5, 1, 1, 7, 0, 4, 3, 3, 7, 1, 2, 3, 5, 5, 5, 6, 1, 4, 3, 7, 8, 8, 3, 6, 6, 2, 3, 0, 9, 4, 3, 8, 0, 0, 1, 1, 5, 4, 9, 3, 1, 8, 9, 3, 9, 9, 2, 9, 4, 8, 2, 9, 8, 8, 1, 5, 3, 6, 8, 7, 6, 9, 8, 0, 6, 4, 0, 0, 2, 5, 8, 2, 0, 2, 7, 6, 9, 7, 1, 5, 5, 6, 6, 3, 6, 2, 4, 7, 0, 5, 6, 4, 6, 5, 2, 4, 6, 1, 6, 0, 4, 0, 3, 1, 8, 5, 4, 4, 1, 7, 3, 9, 4, 7, 9, 7, 3, 7, 2, 8, 4, 6, 6, 1, 2, 9, 0, 4, 8, 7, 3, 9, 8, 7, 7, 0, 2, 4, 1, 1, 4, 1, 5, 4, 0, 5, 6, 2, 8, 5, 0, 2, 1, 3, 5, 7, 3, 5, 1, 3, 5, 9, 4, 3, 2, 4, 4, 1, 4, 2, 2, 3, 8, 0, 6, 8, 5, 6, 6, 4, 7, 1, 1, 4, 6, 2, 3, 9, 6, 9, 1, 3, 6, 8, 5, 9, 6, 8, 1, 6, 0, 2, 3, 7, 9, 0, 9, 7, 6, 3, 9, 2, 6, 1, 6, 7, 3, 8, 3, 8, 3, 8, 5, 9, 6, 1, 2, 5, 2, 1, 4, 3, 7, 5, 9, 3, 9, 3, 2, 9, 1, 8, 5, 9, 7, 2, 6, 0, 8, 5, 7, 1, 5, 8, 5, 7, 1, 5, 0, 3, 9, 3, 6, 9, 1, 3, 9, 8, 2, 2, 3, 2, 5, 9, 7, 9, 9, 8, 9, 7, 0, 3, 3, 2, 0, 3, 7, 6, 3, 3, 2, 0, 6, 6, 5, 5, 7, 5, 9, 8, 2, 9, 8, 0, 4, 0, 1, 2, 0, 4, 7, 3, 8, 5, 1, 6, 6, 5, 5, 4, 6, 3, 6, 8, 2, 3, 7, 0, 7, 0, 4, 1, 9, 5, 7, 8, 6, 6, 8, 0, 7, 2, 8, 4, 8, 2, 0, 9, 0, 0, 2, 9, 6, 6, 5, 6, 0, 3, 7, 5, 5, 7, 9, 3, 4, 5, 0, 5, 2, 3, 2, 6, 0, 4, 9, 0, 7, 0, 9, 7, 2, 6, 4, 6, 9, 5, 4, 7, 0, 6, 8, 8, 9, 9, 9, 0, 9, 8, 6, 4, 8, 1, 9, 1, 0, 5, 8, 6, 9, 6, 0, 8, 1, 3, 9, 4, 8, 4, 3, 2, 6, 0, 8, 9, 9, 4, 3, 0, 2, 4, 4, 0, 3, 5, 7, 5, 7, 7, 9, 0, 9, 5, 3, 8, 2, 4, 2, 3, 1, 2, 8, 9, 2, 8, 1, 4, 2, 0, 4, 5, 4, 8, 1, 7, 4, 1, 1, 0, 2, 7, 7, 4, 4, 4, 4, 8, 4, 3, 6, 6, 0, 1, 3, 9, 8, 4, 8, 9, 6, 2, 0, 5, 5, 9, 4, 2, 0, 8, 8, 0, 4, 0, 7, 6, 9, 5, 3, 5, 4, 4, 4, 4, 3, 7, 9, 2, 5, 1, 8, 3, 2, 6, 9, 6, 3, 1, 7, 4, 6, 3, 7, 8, 6, 2, 4, 6, 8, 0, 1, 9, 9, 1, 0, 0, 8, 9, 4, 7, 4, 4, 1, 9, 8, 8, 6, 1, 7, 4, 8, 8, 8, 0, 5, 6, 6, 8, 3, 4, 4, 1, 2, 1, 5, 7, 1, 7, 2, 8, 5, 9, 5, 6, 1, 9, 5, 0, 4, 3, 3, 0, 8, 2, 8, 0, 9, 0, 4, 6, 9, 2, 8, 2, 7, 7, 2, 2, 7, 1, 6, 1, 3, 4, 4, 8, 6, 0, 1, 9, 4, 2, 7, 5, 3, 9, 0, 1, 9, 0, 9, 8, 7, 0, 4, 9, 0, 5, 2, 1, 0, 2, 8, 8, 0, 5, 7, 6, 6, 5, 3, 7, 7, 7, 4, 2, 0, 1, 7, 3, 2, 7, 3, 2, 2, 1, 5, 9, 9, 8, 0, 8, 4, 3, 3, 8, 5, 0, 8, 4, 5, 7, 5, 1, 5, 0, 2, 0, 5, 4, 2, 3, 6, 2, 6, 2, 2, 3, 4, 6, 6, 5, 3, 0, 1, 2, 7, 7, 5, 3, 1, 1, 7, 6, 1, 6, 3, 3, 3, 3, 4, 8, 1, 0, 7, 7, 6, 8, 1, 2, 5, 3, 4, 1, 1, 9, 3, 1, 4, 2, 7, 1, 6, 5, 7, 7, 7, 6, 6, 1, 9, 5, 0, 9, 5, 7, 0, 0, 4, 6, 8, 0, 1, 5, 0, 9, 3, 1, 1, 2, 0, 3, 2, 9, 1, 9, 6, 2, 4, 8, 8, 5, 9, 2, 1, 9, 4, 4, 3, 0, 6, 6, 0, 4, 1, 0, 9, 5, 6, 5, 6, 9, 4, 4, 2, 6, 8, 4, 7, 6, 5, 9, 8, 7, 1, 9, 5, 4, 3, 5, 4, 3, 4, 1, 5, 5, 4, 0, 8, 4, 4, 0, 9, 2, 8, 9, 8, 0, 2, 2, 2, 6, 7, 8, 1, 9, 8, 0, 3, 8, 6, 8, 1, 6, 5, 4, 2, 1, 4, 3, 9, 7, 8, 3, 0, 8, 3, 4, 2, 9, 1, 0, 0, 3, 0, 4, 5, 9, 0, 7, 5, 9, 5, 8, 8, 6, 3, 1, 9, 5, 2, 4, 7, 6, 1, 8, 6, 9, 3, 1, 3, 7, 4, 0, 6, 7, 6, 9, 2, 4, 1, 9, 8, 5, 8, 2, 2, 5, 0, 2, 0, 7, 0, 6, 6, 4, 8, 7, 9, 6, 9, 2, 3, 8, 8, 3, 9, 9, 8, 7, 2, 3, 5, 5, 1, 8, 7, 4, 3, 5, 2, 2, 2, 1, 4, 2, 2, 8, 4, 9, 8, 2, 1, 2, 5, 6, 3, 4, 5, 7, 6, 7, 6, 5, 0, 2, 4, 4, 3, 0, 4, 2, 6, 1, 8, 8, 3, 0, 7, 4, 9, 7, 9, 2, 0, 4, 7, 3, 7, 6, 6, 2, 3, 7, 3, 6, 8, 2, 3, 3, 5, 5, 5, 2, 4, 2, 8, 7, 4, 3, 7, 7, 8, 5, 2, 8, 4, 3, 5, 4, 2, 9, 1, 4, 0, 0, 5, 6, 5, 6, 8, 0, 3, 4, 4, 4, 2, 2, 0, 5, 0, 3, 4, 7, 7, 3, 9, 7, 3, 7, 3, 7, 7, 7, 1, 7, 4, 4, 7, 9, 1, 7, 7, 4, 5, 9, 0, 8, 7, 3, 6, 2, 3, 8, 2, 5, 4, 8, 4, 0, 7, 5, 2, 7, 7, 2, 6, 4, 0, 2, 4, 3, 8, 9, 4, 5, 5, 6, 7, 1, 9, 6, 5, 0, 3, 4, 4, 0, 6, 6, 8, 3, 6, 0, 3, 3, 3, 8, 3, 3, 8, 4, 3, 8, 2, 9, 1, 4, 9, 5, 0, 6, 5, 0, 2, 6, 5, 4, 1, 5, 9, 0, 6, 2, 5, 4, 5, 8, 2, 8, 7, 5, 0, 7, 9, 9, 8, 2, 1, 0, 2, 7, 5, 0, 3, 8, 5, 0, 7, 9, 5, 8, 6, 9, 0, 7, 1, 9, 3, 5, 0, 5, 1, 7, 8, 9, 2, 0, 0, 8, 1, 1, 1, 6, 2, 3, 6, 2, 7, 1, 9, 3, 7, 6, 3, 1, 0, 5, 9, 4, 3, 9, 5, 0, 9, 2, 7, 5, 8, 0, 1, 3, 4, 8, 5, 1, 5, 7, 7, 2, 8, 4, 2, 2, 5, 3, 3, 1, 4, 9, 2, 4, 5, 2, 2, 3, 2, 1, 5, 8, 9, 2, 6, 6, 1, 7, 7, 5, 4, 4, 0, 5, 8, 8, 6, 6, 7, 2, 6, 4, 5, 1, 7, 5, 2, 4, 4, 6, 5, 2, 3, 8, 9, 3, 4, 3, 2, 6, 7, 2, 3, 2, 7, 7, 3, 0, 1, 4, 0, 6, 5, 5, 1, 6, 7, 6, 1, 3, 4, 0, 9, 9, 6, 8, 8, 3, 2, 3, 3, 8, 5, 3, 0, 9, 0, 8, 1, 3, 4, 8, 2, 4, 6, 1, 3, 5, 5, 1, 1, 1, 9, 5, 0, 4, 2, 9, 2, 5, 7, 4, 3, 3, 9, 1, 7, 2, 6, 1, 2, 9, 7, 9, 0, 4, 7, 8, 4, 9, 9, 4, 2, 9, 9, 8, 8, 6, 3, 2, 4, 6, 1, 7, 8, 2, 5, 8, 0, 4, 4, 5, 2, 4, 6, 5, 6, 5, 7, 7, 4, 5, 2, 0, 1, 1, 9, 6, 4, 3, 8, 7, 4, 0, 1, 5, 5, 0, 7, 0, 8, 5, 6, 1, 2, 3, 5, 8, 9, 6, 7, 6, 0, 7, 3, 1, 9, 4, 1, 8, 8, 1, 0, 6, 1, 7, 2, 5, 4, 5, 6, 6, 4, 8, 6, 4, 7, 9, 9, 4, 5, 1, 3, 9, 8, 6, 7, 3, 9, 5, 2, 5, 2, 1, 7, 1, 7, 0, 8, 3, 8, 3, 4, 1, 4, 0, 7, 9, 8, 5, 5, 6, 3, 9, 1, 2, 0, 0, 2, 8, 0, 2, 9, 3, 2, 0, 9, 9, 3, 2, 0, 6, 9, 7, 3, 7, 5, 1, 4, 6, 0, 7, 5, 8, 6, 7, 5, 2, 5, 5, 3, 3, 2, 2, 9, 9, 8, 8, 3, 5, 4, 3, 2, 8, 1, 1, 0, 7, 2, 1, 8, 7, 7, 5, 7, 6, 0, 4, 0, 3, 7, 3, 6, 2, 6, 5, 6, 3, 0, 3, 4, 5, 8, 4, 4, 0, 0, 1, 0, 6, 3, 8, 0, 1, 0, 7, 1, 3, 1, 8, 0, 2, 9, 8, 6, 5, 8, 4, 3, 4, 1, 0, 3, 9, 7, 4, 0, 3, 0, 8, 1, 1, 5, 7, 0, 0, 4, 8, 8, 8, 4, 1, 2, 9, 1, 2, 8, 7, 0, 7, 6, 2, 9, 0, 6, 7, 7, 5, 8, 2, 4, 4, 8, 4, 8, 0, 2, 7, 7, 6, 9, 1, 9, 9, 7, 5, 3, 7, 6, 0, 3, 9, 2, 9, 5, 6, 1, 0, 0, 2, 4, 5, 6, 3, 6, 4, 3, 5, 8, 9, 3, 9, 3, 4, 9, 3, 9, 5, 2, 8, 2, 6, 2, 2, 7, 2, 7, 6, 2, 4, 1, 2, 9, 9, 5, 2, 9, 8, 7, 7, 5, 6, 2, 8, 3, 7, 2, 3, 7, 3, 3, 6, 2, 1, 1, 1, 6, 9, 4, 0, 2, 4, 8, 0, 5, 4, 3, 1, 6, 1, 9, 8, 1, 1, 2, 8, 4, 8, 8, 3, 2, 6, 1, 0, 8, 1, 7, 6, 8, 5, 6, 3, 6, 7, 9, 2, 7, 7, 0, 7, 1, 7, 0, 6, 2, 7, 5, 0, 6, 9, 6, 2, 3, 1, 4, 1, 6, 9, 0, 5, 8, 9, 9, 6, 0, 8, 2, 0, 8, 9, 9, 8, 4, 3, 3, 6, 7, 0, 6, 4, 9, 1, 5, 8, 0, 0, 1, 0, 8, 9, 3, 8, 9, 3, 7, 8, 9, 4, 4, 6, 0, 9, 7, 2, 8, 0, 6, 2, 0, 6, 5, 5, 8, 5, 8, 6, 4, 0, 2, 6, 4, 3, 6, 2, 3, 7, 7, 2, 4, 2, 4, 9, 0, 2, 5, 4, 5, 4, 6, 0, 7, 7, 5, 0, 2, 0, 8, 5, 3, 7, 4, 5, 1, 9, 6, 5, 1, 8, 5, 4, 8, 5, 2, 3, 3, 8, 2, 2, 8, 2, 5, 7, 5, 5, 8, 7, 6, 1, 1, 8, 5, 1, 9, 9, 2, 2, 9, 1, 5, 2, 1, 3, 9, 9, 1, 3, 1, 2, 0, 6, 1, 7, 6, 8, 4, 0, 3, 3, 7, 2, 3, 6, 4, 5, 2, 7, 2, 4, 9, 5, 1, 6, 8, 8, 2, 1, 7, 1, 8, 0, 8, 5, 7, 0, 3, 6, 4, 2, 7, 7, 8, 2, 8, 9, 8, 8, 4, 6, 7, 0, 1, 2, 1, 1, 9, 4, 6, 4, 2, 7, 4, 6, 1, 9, 4, 9, 1, 4, 5, 1, 9, 2, 8, 0, 1, 5, 1, 7, 9, 2, 0, 4, 8, 4, 0, 2, 0, 1, 0, 5, 3, 6, 2, 2, 2, 2, 6, 6, 8, 6, 2, 3, 5, 2, 8, 9, 8, 0, 1, 5, 0, 9, 1, 6, 7, 9, 7, 3, 6, 2, 0, 4, 7, 6, 4, 4, 5, 2, 3, 4, 4, 5, 2, 9, 6, 1, 4, 7, 4, 8, 6, 5, 9, 8, 9, 9, 4, 4, 8, 6, 6, 4, 2, 1, 8, 3, 3, 0, 3, 8, 9, 2, 6, 2, 6, 5, 6, 8, 4, 3, 5, 0, 3, 2, 0, 0, 4, 8, 9, 8, 6, 9, 2, 1, 0, 7, 9, 0, 5, 0, 6, 2, 0, 6, 7, 6, 2, 6, 7, 8, 2, 4, 7, 6, 8, 7, 7, 3, 2, 5, 9, 3, 8, 2, 6, 4, 9, 6, 2, 1, 4, 0, 6, 6, 4, 3, 4, 5, 3, 6, 5, 9, 9, 5, 1, 6, 0, 2, 7, 9, 5, 3, 5, 6, 2, 1, 5, 5, 9, 0, 1, 3, 4, 5, 7, 4, 5, 9, 6, 1, 7, 4, 2, 8, 8, 5, 6, 0, 3, 4, 9, 4, 5, 6, 0, 7, 0, 3, 0, 7, 5, 8, 3, 8, 1, 5, 9, 1, 0, 1, 8, 0, 8, 2, 5, 6, 7, 1, 0, 2, 9, 0, 4, 1, 9, 5, 3, 5, 7, 3, 1, 9, 3, 9, 4, 9, 6, 0, 8, 8, 6, 6, 9, 6, 9, 3, 2, 0, 1, 7, 3, 6, 5, 3, 3, 3, 6, 4, 0, 0, 8, 4, 2, 2, 2, 1, 8, 6, 8, 5, 3, 9, 9, 0, 9, 8, 1, 5, 4, 3, 7, 0, 9, 7, 6, 0, 4, 1, 9, 8, 4, 7, 7, 5, 9, 7, 7, 5, 5, 6, 8, 5, 7, 5, 8, 8, 2, 5, 5, 2, 8, 4, 5, 6, 8, 8, 5, 3, 5, 5, 9, 4, 3, 3, 9, 0, 2, 4, 1, 0, 2, 7, 5, 3, 4, 3, 7, 6, 2, 3, 5, 2, 0, 5, 9, 6, 3, 9, 6, 0, 2, 5, 6, 7, 7, 2, 0, 1, 7, 0, 8, 9, 4, 3, 4, 3, 5, 3, 6, 0, 4, 2, 6, 9, 5, 1, 1, 9, 1, 9, 2, 4, 9, 1, 9, 8, 6, 3, 6, 8, 2, 0, 9, 3, 5, 8, 7, 4, 2, 2, 7, 9, 1, 8, 2, 4, 7, 6, 0, 5, 5, 6, 9, 8, 8, 5, 5, 7, 1, 2, 7, 9, 0, 5, 7, 5, 2, 5, 4, 7, 1, 3, 3, 4, 3, 6, 2, 0, 5, 8, 0, 4, 2, 9, 2, 4, 2, 3, 8, 0, 8, 4, 6, 4, 2, 8, 6, 9, 8, 4, 1, 9, 7, 0, 8, 3, 2, 4, 6, 8, 2, 4, 1, 3, 0, 8, 2, 0, 8, 0, 0, 0, 0, 2, 2, 3, 6, 9, 7, 0, 9, 1, 0, 7, 2, 8, 3, 0, 8, 4, 3, 5, 8, 7, 8, 4, 0, 0, 9, 7, 3, 1, 5, 2, 6, 5, 3, 2, 3, 7, 0, 3, 4, 1, 1, 8, 9, 0, 4, 8, 3, 1, 1, 5, 7, 2, 3, 9, 4, 5, 2, 5, 4, 7, 1, 7, 6, 2, 6, 1, 8, 8, 9, 4, 9, 5, 6, 6, 7, 1, 1, 2, 2, 4, 8, 5, 5, 9, 2, 9, 8, 5, 7, 2, 3, 8, 5, 7, 4, 7, 6, 2, 6, 0, 6, 2, 0, 4, 0, 1, 4, 2, 3, 5, 8, 7, 5, 1, 5, 2, 2, 5, 3, 6, 5, 4, 3, 2, 9, 4, 4, 0, 1, 8, 8, 6, 5, 3, 7, 2, 3, 2, 9, 0, 9, 2, 7, 8, 1, 2, 1, 3, 7, 2, 9, 3, 5, 5, 8, 4, 5, 5, 8, 5, 5, 6, 9, 5, 8, 6, 1, 2, 4, 2, 4, 9, 2, 1, 9, 3, 0, 8, 2, 8, 4, 2, 6, 4, 1, 3, 6, 9, 4, 6, 8, 6, 9, 6, 4, 7, 2, 0, 9, 4, 4, 4, 8, 9, 7, 7, 9, 3, 5, 0, 0, 3, 3, 3, 7, 6, 1, 4, 5, 2, 4, 4, 8, 5, 6, 0, 3, 4, 6, 3, 2, 0, 3, 5, 7, 0, 3, 5, 4, 7, 8, 5, 7, 0, 2, 8, 0, 2, 4, 6, 6, 6, 3, 7, 6, 3, 5, 9, 9, 7, 4, 9, 1, 9, 6, 5, 1, 7, 0, 2, 0, 2, 7, 4, 9, 8, 3, 5, 3, 0, 5, 1, 6, 7, 7, 8, 8, 2, 7, 9, 2, 4, 6, 5, 9, 8, 4, 6, 7, 8, 2, 8, 5, 8, 9, 0, 2, 3, 0, 9, 7, 3, 7, 9, 5, 3, 6, 6, 9, 9, 1, 5, 1, 2, 2, 4, 0, 9, 5, 4, 2, 8, 9, 9, 2, 0, 2, 6, 9, 1, 3, 8, 8, 6, 6, 4, 9, 6, 4, 4, 0, 4, 9, 2, 2, 0, 4, 0, 9, 6, 7, 9, 0, 9, 3, 9, 9, 9, 6, 2, 3, 6, 7, 6, 0, 5, 7, 6, 4, 4, 9, 8, 0, 9, 4, 6, 0, 7, 1, 3, 6, 6, 0, 4, 7, 1, 1, 4, 9, 8, 6, 8, 0, 6, 1, 1, 8, 5, 5, 5, 3, 4, 5, 5, 8, 6, 9, 3, 4, 3, 4, 2, 4, 3, 3, 8, 8, 9, 5, 7, 2, 8, 2, 3, 1, 9, 6, 4, 8, 5, 1, 6, 1, 7, 6, 4, 3, 2, 3, 9, 0, 5, 2, 3, 9, 5, 3, 2, 4, 4, 5, 8, 3, 4, 5, 6, 6, 7, 3, 1, 6, 5, 9, 8, 3, 2, 0, 4, 7, 3, 9, 9, 4, 1, 6, 7, 6, 6, 1, 5, 8, 1, 0, 8, 6, 3, 7, 1, 5, 9, 4, 1, 6, 0, 3, 7, 2, 9, 2, 2, 6, 9, 1, 0, 5, 7, 4, 2, 8, 9, 0, 8, 6, 4, 3, 3, 6, 4, 5, 4, 2, 3, 1, 4, 6, 8, 3, 9, 7, 9, 4, 0, 8, 9, 8, 0, 8, 1, 9, 3, 2, 7, 0, 6, 0, 5, 9, 5, 4, 8, 1, 0, 2, 5, 0, 8, 3, 0, 1, 4, 0, 3, 1, 6, 4, 7, 9, 5, 5, 0, 4, 7, 9, 1, 9, 1, 4, 6, 3, 9, 9, 9, 8, 9, 7, 1, 1, 4, 1, 0, 7, 0, 9, 6, 6, 2, 4, 7, 6, 4, 5, 8, 0, 4, 7, 1, 7, 3, 4, 7, 5, 5, 2, 0, 2, 0, 5, 5, 8, 5, 8, 4, 0, 8, 4, 9, 7, 6, 9, 8, 0, 8, 4, 2, 9, 1, 4, 6, 0, 7, 7, 1, 6, 1, 5, 6, 5, 7, 3, 8, 4, 5, 8, 5, 8, 5, 9, 1, 3, 2, 5, 3, 1, 2, 1, 2, 6, 7, 2, 0, 5, 3, 1, 6, 2, 7, 3, 6, 0, 9, 8, 0, 6, 4, 3, 2, 6, 8, 7, 2, 1, 1, 9, 5, 4, 5, 8, 0, 1, 0, 9, 1, 8, 2, 4, 7, 4, 2, 4, 4, 7, 0, 0, 6, 4, 6, 7, 8, 5, 9, 9, 2, 9, 3, 3, 5, 7, 7, 6, 7, 0, 0, 0, 6, 3, 1, 2, 6, 3, 7, 3, 2, 2, 8, 8, 6, 6, 0, 0, 3, 1, 1, 1, 3, 4, 4, 6, 4, 7, 3, 2, 3, 9, 7, 2, 7, 9, 2, 3, 6, 7, 5, 9, 2, 6, 3, 5, 6, 5, 3, 4, 6, 9, 1, 7, 7, 5, 9, 4, 2, 3, 8, 0, 9, 6, 6, 1, 3, 6, 6, 3, 9, 3, 6, 5, 2, 0, 4, 7, 4, 8, 5, 5, 0, 0, 9, 0, 3, 6, 2, 9, 8, 1, 1, 4, 3, 4, 0, 3, 7, 3, 8, 6, 4, 2, 4, 1, 2, 7, 5, 2, 6, 8, 0, 4, 6, 4, 2, 3, 2, 4, 1, 6, 0, 5, 8, 8, 1, 8, 6, 2, 8, 2, 4, 4, 0, 9, 7, 6, 7, 4, 2, 3, 8, 9, 4, 8, 8, 4, 2, 0, 1, 4, 4, 8, 6, 6, 7, 2, 7, 0, 0, 7, 2, 3, 1, 8, 9, 7, 7, 0, 1, 7, 9, 7, 7, 5, 9, 2, 7, 5, 5, 1, 4, 4, 7, 1, 3, 6, 3, 0, 0, 0, 8, 0, 8, 5, 6, 8, 6, 6, 4, 0, 0, 8, 6, 7, 4, 8, 3, 9, 4, 9, 8, 2, 3, 0, 4, 4, 8, 1, 8, 4, 3, 8, 8, 4, 2, 4, 3, 6, 3, 0, 5, 8, 0, 7, 5, 4, 7, 5, 8, 9, 0, 4, 6, 7, 1, 1, 4, 3, 5, 7, 1, 7, 1, 9, 3, 0, 0, 8, 9, 7, 2, 8, 9, 9, 3, 5, 0, 3, 3, 2, 1, 0, 1, 5, 2, 7, 1, 4, 1, 3, 5, 1, 9, 8, 5, 2, 0, 7, 2, 9, 2, 0, 9, 2, 2, 6, 2, 1, 8, 4, 4, 8, 4, 1, 7, 0, 3, 6, 1, 6, 3, 7, 4, 4, 7, 8, 2, 7, 4, 7, 3, 6, 6, 3, 5, 9, 8, 6, 0, 0, 8, 4, 3, 6, 9, 6, 2, 5, 0, 6, 3, 1, 5, 2, 2, 7, 3, 4, 6, 2, 8, 7, 6, 3, 9, 3, 4, 3, 6, 7, 7, 1, 1, 7, 8, 4, 5, 3, 6, 5, 6, 2, 9, 2, 5, 9, 1, 1, 7, 8, 3, 5, 1, 3, 8, 5, 0, 8, 0, 2, 3, 9, 8, 3, 0, 0, 7, 5, 7, 3, 2, 3, 3, 7, 5, 5, 6, 9, 0, 2, 1, 2, 5, 5, 1, 4, 0, 7, 1, 8, 8, 4, 0, 1, 7, 8, 9, 0, 7, 2, 5, 7, 8, 3, 0, 1, 2, 3, 9, 2, 7, 0, 0, 2, 2, 4, 1, 5, 3, 3, 5, 1, 5, 5, 9, 0, 9, 8, 0, 9, 3, 0, 7, 9, 6, 5, 5, 2, 6, 8, 0, 1, 7, 7, 7, 1, 3, 0, 1, 4, 1, 0, 3, 1, 9, 0, 6, 3, 6, 0, 5, 4, 0, 8, 8, 0, 1, 5, 8, 3, 7, 2, 9, 1, 9, 9, 2, 7, 6, 1, 0, 9, 8, 8, 6, 0, 2, 0, 5, 0, 8, 9, 2, 6, 6, 1, 2, 1, 5, 8, 9, 7, 4, 1, 2, 8, 9, 0, 2, 0, 9, 9, 1, 1, 5, 5, 3, 9, 3, 1, 5, 2, 2, 5, 1, 6, 9, 5, 4, 5, 4, 9, 6, 0, 8, 2, 1, 9, 7, 0, 8, 0, 1, 0, 2, 3, 8, 6, 4, 1, 5, 6, 1, 9, 4, 9, 6, 3, 8, 7, 3, 0, 3, 9, 7, 2, 6, 2, 9, 4, 6, 0, 9, 6, 7, 4, 7, 0, 9, 9, 5, 6, 5, 4, 1, 3, 5, 5, 2, 9, 5, 2, 9, 7, 7, 4, 9, 4, 4, 8, 7, 8, 7, 4, 5, 0, 8, 2, 3, 0, 0, 8, 8, 4, 0, 2, 5, 7, 2, 6, 2, 5, 6, 9, 7, 3, 4, 1, 5, 4, 8, 8, 4, 3, 0, 7, 2, 9, 4, 6, 6, 4, 9, 2, 4, 8, 8, 0, 3, 8, 1, 4, 1, 0, 6, 6, 9, 1, 6, 2, 3, 4, 0, 1, 2, 2, 0, 8, 8, 4, 7, 9, 9, 6, 6, 0, 5, 6, 7, 3, 6, 7, 8, 7, 3, 1, 0, 3, 8, 4, 5, 1, 8, 6, 2, 8, 5, 7, 6, 2, 8, 6, 5, 8, 0, 5, 9, 2, 7, 0, 5, 8, 6, 8, 9, 3, 8, 3, 2, 6, 8, 7, 8, 3, 3, 8, 5, 4, 1, 2, 9, 6, 5, 9, 4, 3, 8, 5, 5, 8, 8, 2, 0, 3, 1, 4, 1, 0, 8, 0, 5, 8, 4, 9, 1, 8, 0, 0, 6, 7, 7, 7, 5, 6, 3, 6, 5, 8, 2, 6, 5, 7, 5, 4, 7, 3, 2, 9, 5, 8, 8, 5, 7, 2, 2, 8, 7, 6, 7, 7, 2, 7, 6, 4, 0, 6, 3, 1, 4, 6, 3, 9, 8, 3, 8, 1, 0, 0, 5, 3, 5, 8, 4, 0, 6, 1, 7, 0, 2, 2, 1, 7, 3, 0, 8, 6, 7, 7, 0, 0, 1, 4, 1, 1, 6, 6, 6, 1, 3, 6, 0, 1, 3, 8, 5, 0, 1, 6, 5, 5, 4, 3, 9, 8, 6, 0, 5, 4, 9, 2, 8, 4, 8, 8, 2, 1, 4, 8, 6, 7, 3, 1, 3, 4, 9, 4, 8, 4, 5, 0, 9, 1, 3, 8, 7, 5, 4, 6, 6, 7, 9, 0, 5, 2, 3, 3, 3, 9, 0, 9, 2, 9, 1, 0, 2, 3, 9, 6, 6, 1, 6, 3, 7, 6, 2, 7, 0, 4, 8, 9, 6, 0, 7, 7, 5, 0, 4, 5, 9, 6, 4, 5, 7, 9, 3, 7, 8, 5, 0, 4, 1, 3, 8, 6, 9, 5, 7, 6, 7, 7, 3, 4, 2, 3, 6, 4, 5, 0, 1, 9, 3, 8, 4, 4, 1, 9, 8, 9, 3, 6, 0, 9, 1, 6, 3, 2, 3, 0, 5, 8, 8, 0, 0, 6, 2, 3, 5, 1, 5, 7, 1, 0, 9, 8, 3, 3, 5, 6, 3, 2, 1, 3, 7, 0, 7, 7, 2, 4, 7, 7, 6, 2, 6, 1, 7, 2, 3, 3, 0, 2, 2, 9, 6, 5, 5, 1, 9, 7, 9, 4, 6, 4, 1, 9, 1, 3, 6, 1, 2, 2, 5, 8, 0, 8, 5, 1, 7, 6, 7, 9, 3, 0, 9, 2, 2, 6, 7, 6, 9, 1, 9, 4, 0, 5, 6, 6, 4, 4, 4, 1, 6, 3, 2, 8, 9, 4, 7, 2, 3, 9, 3, 4, 0, 1, 1, 1, 9, 9, 7, 5, 1, 9, 2, 5, 6, 1, 5, 3, 0, 1, 4, 9, 4, 2, 0, 8, 3, 2, 7, 3, 8, 6, 1, 4, 2, 4, 9, 4, 6, 9, 1, 5, 9, 9, 1, 4, 2, 7, 2, 7, 3, 1, 9, 8, 8, 1, 2, 0, 8, 8, 2, 8, 7, 8, 4, 1, 7, 4, 3, 1, 8, 6, 4, 5, 0, 5, 6, 7, 5, 9, 8, 8, 8, 9, 7, 3, 8, 7, 8, 2, 1, 8, 8, 4, 9, 1, 5, 4, 2, 6, 6, 9, 2, 7, 2, 8, 4, 2, 9, 1, 6, 5, 8, 5, 9, 7, 6, 2, 9, 1, 8, 7, 0, 9, 9, 7, 6, 3, 9, 3, 0, 0, 0, 7, 7, 0, 7, 3, 9, 0, 9, 2, 1, 5, 7, 1, 6, 8, 2, 0, 4, 2, 1, 4, 0, 4, 8, 0, 4, 9, 9, 6, 3, 6, 1, 7, 4, 6, 8, 6, 0, 7, 4, 8, 7, 5, 7, 5, 2, 0, 5, 8, 6, 6, 6, 8, 8, 5, 6, 6, 9, 9, 2, 7, 2, 1, 9, 3, 9, 0, 1, 5, 9, 9, 7, 9, 6, 5, 3, 7, 6, 7, 0, 4, 2, 3, 9, 6, 2, 5, 7, 5, 0, 2, 8, 2, 9, 6, 1, 5, 1, 3, 6, 3, 0, 8, 0, 6, 3, 5, 0, 1, 4, 6, 7, 9, 1, 5, 4, 0, 4, 6, 2, 3, 8, 7, 5, 7, 3, 4, 8, 9, 8, 3, 6, 0, 5, 1, 1, 9, 4, 8, 9, 9, 9, 5, 0, 8, 0, 2, 0, 3, 6, 3, 9, 0, 3, 3, 8, 0, 8, 8, 0, 9, 4, 8, 4, 6, 4, 4, 3, 3, 0, 4, 9, 6, 7, 9, 5, 4, 3, 5, 5, 5, 2, 3, 6, 5, 5, 9, 1, 6, 4, 1, 0, 5, 7, 9, 3, 0, 6, 8, 9, 7, 6, 2, 8, 0, 0, 2, 9, 0, 3, 2, 7, 2, 7, 3, 2, 3, 7, 7, 5, 3, 8, 5, 4, 0, 2, 9, 1, 3, 2, 5, 8, 0, 6, 1, 7, 5, 9, 7, 7, 5, 0, 1, 1, 9, 4, 2, 1, 8, 2, 2, 2, 7, 3, 7, 0, 4, 6, 6, 2, 9, 3, 0, 6, 0, 1, 9, 3, 5, 4, 9, 6, 7, 3, 6, 8, 3, 9, 2, 0, 9, 5, 4, 7, 2, 3, 9, 9, 5, 0, 3, 1, 7, 2, 4, 7, 9, 9, 0, 4, 4, 5, 1, 7, 1, 8, 4, 1, 4, 2, 1, 6, 9, 2, 2, 0, 8, 0, 8, 8, 5, 5, 2, 8, 0, 9, 5, 7, 4, 9, 5, 2, 0, 8, 0, 2, 6, 9, 1, 3, 0, 1, 8, 9, 4, 5, 9, 8, 0, 7, 8, 4, 4, 3, 6, 6, 5, 6, 1, 0, 1, 2, 8, 9, 6, 5, 9, 9, 9, 6, 5, 0, 9, 5, 0, 5, 8, 0, 0, 4, 3, 4, 2, 6, 1, 7, 6, 2, 3, 1, 2, 8, 2, 6, 0, 3, 4, 1, 6, 2, 3, 4, 2, 6, 5, 8, 9, 8, 3, 5, 7, 5, 7, 0, 4, 6, 3, 4, 0, 3, 6, 2, 1, 7, 5, 8, 5, 8, 7, 4, 5, 4, 0, 2, 1, 5, 7, 2, 6, 8, 0, 7, 7, 4, 1, 0, 7, 9, 2, 7, 0, 9, 8, 7, 7, 5, 2, 7, 9, 7, 6, 4, 8, 4, 6, 4, 1, 7, 9, 8, 8, 6, 3, 7, 3, 3, 9, 7, 0, 7, 1, 8, 8, 5, 7, 1, 1, 7, 4, 0, 4, 1, 2, 2, 9, 8, 7, 1, 3, 2, 2, 4, 1, 0, 4, 5, 1, 5, 6, 1, 8, 2, 5, 3, 9, 5, 1, 7, 0, 4, 6, 7, 2, 3, 5, 5, 9, 0, 5, 7, 8, 3, 6, 0, 3, 1, 9, 2, 7, 0, 9, 8, 2, 9, 8, 3, 2, 5, 0, 0, 8, 3, 3, 6, 6, 4, 9, 6, 0, 9, 1, 5, 7, 0, 2, 7, 8, 2, 9, 4, 1, 3, 1, 6, 5, 6, 2, 4, 2, 8, 5, 8, 6, 4, 4, 8, 8, 6, 2, 3, 3, 8, 1, 3, 4, 5, 6, 2, 9, 0, 7, 2, 7, 0, 8, 7, 4, 8, 2, 7, 7, 7, 9, 9, 1, 4, 8, 3, 7, 4, 3, 4, 1, 8, 8, 4, 1, 0, 8, 0, 0, 0, 4, 7, 1, 5, 5, 5, 3, 6, 5, 3, 2, 9, 0, 5, 1, 0, 0, 9, 1, 7, 8, 9, 2, 3, 5, 7, 1, 0, 8, 8, 8, 0, 7, 2, 7, 2, 5, 0, 7, 7, 9, 4, 8, 6, 5, 9, 6, 8, 6, 9, 4, 0, 4, 7, 2, 9, 0, 3, 0, 9, 5, 2, 2, 1, 4, 4, 2, 5, 6, 2, 4, 2, 5, 3, 1, 7, 5, 9, 6, 9, 5, 9, 4, 1, 2, 5, 9, 8, 3, 6, 5, 5, 4, 8, 7, 9, 5, 0, 8, 4, 9, 5, 7, 3, 3, 0, 2, 1, 5, 9, 0, 1, 2, 3, 3, 7, 2, 1, 0, 7, 7, 1, 3, 4, 2, 5, 9, 4, 0, 8, 9, 5, 3, 0, 5, 5, 6, 5, 6, 6, 2, 0, 8, 5, 6, 5, 4, 5, 5, 2, 6, 3, 1, 4, 9, 0, 0, 9, 4, 9, 7, 6, 7, 1, 1, 1, 8, 0, 6, 2, 6, 4, 9, 1, 5, 0, 2, 8, 3, 1, 1, 8, 8, 5, 1, 0, 8, 4, 6, 2, 7, 6, 9, 9, 3, 9, 8, 5, 5, 2, 7, 9, 8, 8, 1, 3, 9, 7, 0, 8, 3, 4, 3, 0, 9, 6, 4, 9, 4, 8, 2, 9, 6, 4, 4, 8, 9, 5, 3, 3, 0, 0, 7, 0, 1, 8, 6, 7, 9, 1, 7, 3, 3, 3, 9, 5, 4, 4, 3, 4, 3, 3, 2, 2, 4, 4, 6, 4, 5, 7, 3, 7, 8, 5, 0, 5, 3, 6, 8, 1, 2, 2, 3, 2, 1, 5, 1, 4, 7, 2, 9, 8, 7, 0, 1, 0, 4, 1, 9, 6, 8, 5, 4, 8, 4, 6, 5, 6, 7, 3, 7, 9, 5, 0, 7, 6, 3, 9, 2, 4, 6, 9, 1, 4, 7, 1, 6, 4, 9, 0, 6, 7, 5, 4, 4, 9, 7, 3, 1, 9, 7, 9, 4, 6, 7, 4, 9, 6, 1, 2, 6, 4, 7, 6, 7, 1, 4, 3, 2, 3, 7, 0, 3, 9, 4, 0, 0, 4, 2, 8, 2, 1, 3, 7, 7, 8, 2, 3, 1, 7, 2, 0, 7, 3, 4, 3, 5, 2, 7, 6, 8, 5, 4, 5, 2, 8, 3, 4, 5, 8, 1, 3, 1, 6, 3, 5, 1, 0, 5, 1, 9, 5, 2, 9, 4, 2, 7, 9, 9, 1, 6, 3, 2, 0, 1, 7, 0, 0, 1, 0, 5, 4, 8, 0, 9, 0, 1, 9, 3, 7, 4, 2, 4, 2, 6, 2, 0, 3, 6, 0, 8, 7, 0, 0, 7, 3, 8, 3, 3, 6, 8, 2, 7, 4, 1, 2, 9, 2, 4, 6, 6, 8, 5, 1, 4, 3, 7, 5, 0, 9, 2, 0, 1, 3, 9, 4, 3, 1, 8, 5, 4, 9, 9, 0, 7, 6, 5, 5, 2, 1, 6, 2, 7, 4, 6, 4, 1, 6, 5, 1, 9, 3, 8, 7, 2, 3, 6, 1, 4, 3, 2, 8, 2, 8, 6, 4, 6, 8, 4, 5, 2, 8, 0, 9, 7, 3, 5, 2, 4, 6, 7, 2, 1, 3, 3, 3, 3, 1, 1, 3, 7, 4, 2, 6, 8, 2, 0, 0, 4, 6, 3, 8, 4, 6, 3, 0, 7, 8, 1, 9, 6, 0, 5, 2, 6, 7, 6, 4, 9, 6, 4, 7, 8, 5, 9, 4, 5, 1, 4, 6, 6, 7, 9, 3, 8, 2, 0, 1, 6, 9, 2, 6, 2, 1, 6, 7, 0, 6, 3, 3, 3, 2, 1, 4, 5, 4, 0, 7, 8, 6, 3, 7, 4, 0, 9, 6, 7, 3, 5, 8, 5, 6, 9, 5, 6, 6, 2, 3, 3, 4, 9, 7, 1, 3, 4, 6, 2, 4, 3, 3, 0, 8, 6, 7, 7, 3, 4, 5, 4, 2, 3, 1, 0, 9, 4, 4, 4, 2, 5, 2, 0, 3, 3, 6, 2, 5, 1, 7, 9, 2, 8, 2, 0, 1, 8, 8, 7, 2, 3, 4, 3, 2, 1, 0, 7, 5, 9, 9, 6, 8, 6, 2, 3, 0, 8, 4, 7, 4, 7, 1, 9, 3, 1, 2, 1, 9, 0, 6, 0, 9, 8, 1, 3, 1, 9, 6, 1, 3, 5, 7, 7, 1, 8, 7, 4, 0, 1, 3, 2, 6, 0, 0, 5, 3, 2, 9, 9, 5, 7, 7, 5, 5, 7, 3, 1, 0, 1, 2, 9, 9, 5, 9, 1, 4, 0, 6, 7, 3, 7, 3, 8, 8, 0, 4, 6, 6, 5, 3, 1, 7, 9, 8, 3, 5, 1, 3, 1, 7, 0, 1, 1, 2, 7, 8, 6, 3, 0, 2, 6, 9, 6, 7, 6, 6, 1, 7, 3, 6, 6, 8, 2, 3, 7, 5, 0, 8, 7, 7, 1, 9, 3, 6, 1, 4, 5, 2, 8, 2, 8, 7, 6, 5, 1, 4, 5, 3, 3, 9, 4, 1, 3, 8, 8, 3, 8, 7, 7, 5, 6, 8, 5, 1, 2, 7, 2, 2, 8, 6, 2, 8, 5, 7, 4, 6, 9, 3, 1, 1, 5, 2, 8, 7, 1, 1, 7, 7, 8, 6, 8, 6, 7, 1, 6, 8, 1, 6, 0, 9, 9, 2, 3, 4, 7, 4, 7, 7, 2, 4, 9, 8, 3, 8, 3, 7, 1, 4, 5, 6, 3, 2, 2, 0, 6, 0, 9, 8, 4, 7, 7, 5, 0, 3, 1, 9, 1, 3, 5, 5, 4, 7, 4, 5, 4, 8, 8, 8, 3, 2, 1, 2, 9, 6, 1, 9, 4, 7, 6, 4, 1, 1, 4, 8, 1, 9, 2, 3, 9, 0, 3, 9, 4, 1, 8, 3, 4, 8, 3, 3, 1, 8, 2, 6, 0, 0, 2, 1, 0, 4, 6, 6, 2, 1, 0, 3, 1, 6, 1, 9, 6, 3, 9, 6, 7, 4, 6, 8, 4, 2, 3, 2, 0, 8, 6, 4, 9, 0, 7, 0, 1, 2, 5, 5, 1, 6, 3, 6, 2, 8, 5, 7, 1, 6, 1, 2, 1, 0, 0, 8, 8, 2, 8, 5, 7, 3, 3, 5, 4, 9, 4, 7, 6, 1, 8, 4, 9, 7, 4, 3, 8, 2, 9, 7, 7, 5, 6, 0, 6, 3, 1, 3, 8, 2, 2, 9, 7, 8, 8, 0, 0, 7, 5, 1, 1, 6, 5, 8, 7, 4, 6, 2, 7, 7, 8, 7, 5, 5, 7, 6, 4, 6, 2, 2, 8, 9, 6, 9, 4, 6, 8, 8, 2, 1, 3, 3, 8, 4, 0, 4, 7, 2, 5, 4, 4, 0, 8, 4, 3, 6, 3, 8, 8, 2, 9, 6, 9, 5, 6, 2, 3, 7, 1, 4, 7, 9, 0, 5, 8, 6, 7, 3, 1, 7, 2, 5, 6, 6, 0, 5, 0, 8, 4, 2, 4, 4, 7, 1, 5, 8, 5, 2, 3, 8, 8, 4, 9, 8, 5, 9, 5, 2, 5, 8, 4, 7, 3, 3, 3, 1, 3, 8, 9, 3, 8, 1, 8, 3, 6, 9, 2, 2, 6, 3, 5, 5, 7, 3, 6, 0, 1, 2, 1, 1, 8, 5, 2, 7, 3, 4, 4, 8, 5, 5, 6, 5, 3, 5, 4, 5, 2, 2, 9, 0, 8, 9, 3, 6, 1, 0, 6, 1, 1, 2, 0, 3, 5, 7, 0, 2, 7, 7, 0, 4, 5, 6, 7, 5, 7, 2, 5, 0, 7, 1, 9, 3, 7, 6, 0, 7, 3, 4, 4, 5, 2, 9, 2, 0, 3, 1, 6, 2, 2, 4, 7, 3, 1, 8, 7, 3, 0, 6, 5, 3, 5, 3, 8, 6, 8, 3, 3, 5, 8, 1, 6, 9, 5, 6, 0, 9, 9, 5, 6, 8, 9, 6, 0, 6, 3, 6, 1, 0, 6, 2, 3, 5, 1, 9, 0, 6, 6, 5, 6, 3, 4, 5, 1, 6, 7, 4, 2, 9, 6, 6, 2, 5, 8, 8, 4, 1, 7, 1, 8, 1, 1, 3, 7, 9, 5, 8, 4, 4, 1, 2, 0, 1, 4, 9, 2, 7, 5, 8, 3, 2, 3, 8, 0, 1, 3, 7, 6, 6, 4, 3, 5, 0, 6, 4, 7, 1, 7, 1, 0, 0, 8, 2, 7, 2, 7, 8, 6, 2, 9, 1, 6, 2, 6, 1, 3, 0, 5, 3, 0, 6, 1, 1, 5, 1, 7, 5, 3, 4, 1, 1, 4, 0, 8, 4, 2, 5, 4, 8, 3, 4, 3, 1, 1, 7, 9, 1, 1, 8, 0, 1, 1, 2, 1, 4, 4, 8, 7, 4, 8, 6, 3, 1, 9, 6, 6, 4, 4, 0, 2, 5, 9, 7, 1, 7, 6, 4, 7, 5, 4, 1, 0, 2, 3, 3, 8, 9, 9, 7, 5, 9, 9, 7, 9, 6, 0, 4, 5, 3, 3, 1, 5, 1, 8, 3, 8, 0, 5, 4, 8, 1, 3, 8, 9, 1, 8, 0, 0, 5, 8, 1, 2, 7, 8, 2, 9, 5, 8, 9, 9, 6, 4, 3, 9, 0, 7, 0, 2, 2, 3, 8, 3, 0, 9, 5, 6, 3, 1, 5, 2, 3, 9, 2, 6, 7, 3, 8, 3, 6, 3, 7, 3, 0, 6, 3, 3, 9, 1, 8, 8, 3, 8, 3, 3, 0, 1, 0, 0, 7, 8, 8, 0, 5, 0, 9, 1, 8, 5, 6, 3, 5, 3, 0, 2, 2, 8, 6, 2, 9, 0, 0, 1, 0, 4, 3, 3, 8, 8, 4, 0, 6, 3, 1, 6, 2, 0, 7, 5, 7, 0, 1, 6, 0, 3, 2, 6, 9, 2, 9, 4, 7, 4, 5, 8, 5, 4, 7, 7, 3, 3, 7, 8, 9, 9, 1, 0, 4, 6, 2, 7, 5, 1, 8, 0, 7, 9, 3, 4, 2, 1, 0, 2, 5, 6, 0, 3, 9, 4, 2, 1, 7, 0, 1, 5, 4, 3, 7, 1, 7, 1, 9, 7, 8, 7, 0, 7, 8, 3, 2, 8, 7, 4, 5, 7, 1, 4, 7, 4, 4, 8, 9, 9, 8, 0, 6, 2, 4, 2, 4, 7, 6, 8, 1, 7, 4, 0, 2, 9, 8, 0, 6, 1, 6, 3, 9, 2, 0, 0, 4, 9, 2, 1, 0, 2, 2, 0, 2, 3, 7, 3, 8, 6, 4, 3, 7, 1, 0, 6, 4, 5, 8, 5, 3, 3, 7, 1, 7, 5, 7, 9, 2, 3, 4, 9, 9, 8, 9, 8, 2, 5, 9, 5, 0, 6, 8, 9, 9, 6, 1, 1, 9, 1, 6, 9, 4, 2, 2, 6, 8, 7, 1, 3, 6, 1, 1, 1, 5, 7, 5, 0, 1, 5, 8, 0, 6, 4, 3, 1, 7, 8, 1, 2, 1, 2, 5, 4, 8, 2, 9, 0, 8, 3, 5, 4, 9, 3, 6, 5, 7, 0, 7, 9, 9, 2, 6, 9, 9, 3, 2, 4, 3, 5, 0, 3, 0, 5, 1, 4, 5, 1, 1, 5, 5, 7, 0, 2, 0, 5, 9, 4, 0, 3, 8, 9, 0, 9, 8, 6, 1, 2, 7, 6, 7, 0, 3, 3, 3, 0, 6, 2, 0, 7, 0, 4, 3, 7, 3, 5, 7, 7, 4, 7, 6, 1, 4, 6, 6, 6, 0, 1, 4, 7, 7, 7, 1, 7, 8, 3, 7, 3, 9, 3, 2, 1, 0, 6, 2, 7, 5, 0, 6, 7, 2, 4, 3, 2, 9, 4, 9, 8, 2, 0, 6, 1, 1, 7, 5, 0, 6, 6, 2, 3, 5, 8, 3, 5, 7, 1, 8, 2, 2, 1, 4, 6, 2, 0, 1, 7, 8, 1, 2, 0, 2, 9, 9, 3, 7, 7, 4, 2, 0, 6, 8, 5, 9, 4, 9, 2, 3, 0, 5, 3, 4, 6, 1, 1, 0, 1, 6, 9, 6, 2, 9, 5, 7, 7, 3, 0, 5, 6, 3, 2, 0, 3, 3, 4, 8, 5, 1, 6, 5, 7, 7, 8, 2, 9, 9, 7, 3, 8, 2, 8, 6, 2, 2, 1, 4, 7, 4, 4, 6, 6, 9, 7, 2, 4, 6, 0, 8, 6, 6, 7, 0, 0, 0, 8, 2, 6, 6, 1, 5, 0, 9, 5, 6, 1, 4, 0, 7, 3, 1, 7, 9, 0, 1, 6, 6, 8, 8, 3, 0, 3, 3, 1, 6, 9, 4, 8, 8, 8, 6, 6, 2, 3, 9, 3, 8, 6, 2, 2, 0, 2, 5, 6, 8, 0, 2, 2, 8, 8, 3, 3, 3, 8, 2, 6, 6, 1, 7, 2, 7, 5, 5, 3, 8, 2, 0, 8, 4, 4, 8, 4, 5, 5, 7, 6, 3, 2, 3, 8, 1, 1, 6, 9, 0, 6, 7, 2, 4, 3, 4, 6, 8, 6, 0, 8, 8, 9, 7, 2, 7, 0, 4, 2, 3, 0, 6, 1, 0, 9, 3, 9, 1, 6, 2, 1, 1, 1, 0, 0, 0, 0, 2, 3, 0, 9, 3, 3, 7, 1, 6, 7, 9, 8, 2, 8, 4, 7, 0, 4, 0, 1, 8, 2, 3, 8, 1, 9, 9, 1, 6, 7, 1, 4, 0, 3, 5, 1, 0, 4, 8, 3, 5, 9, 7, 4, 2, 9, 9, 0, 2, 1, 8, 3, 9, 3, 5, 0, 5, 2, 3, 9, 0, 3, 3, 8, 3, 2, 2, 5, 8, 2, 6, 6, 2, 2, 1, 1, 7, 4, 2, 3, 8, 1, 2, 3, 4, 0, 2, 7, 5, 1, 0, 1, 2, 3, 6, 2, 5, 1, 5, 0, 0, 1, 7, 7, 5, 5, 6, 0, 4, 0, 3, 8, 6, 9, 8, 6, 1, 0, 2, 2, 6, 1, 8, 5, 3, 1, 9, 1, 1, 8, 5, 6, 1, 4, 2, 8, 4, 2, 7, 5, 5, 8, 0, 5, 1, 9, 3, 4, 8, 0, 8, 3, 5, 6, 4, 3, 6, 4, 0, 3, 4, 5, 3, 4, 2, 5, 3, 8, 0, 5, 8, 4, 0, 8, 5, 2, 5, 7, 8, 4, 2, 9, 5, 8, 8, 3, 3, 5, 3, 4, 9, 5, 0, 6, 1, 9, 0, 0, 9, 7, 1, 8, 3, 9, 2, 1, 7, 1, 9, 6, 9, 7, 7, 0, 2, 7, 7, 9, 9, 3, 5, 2, 2, 9, 2, 5, 5, 9, 5, 8, 3, 4, 1, 2, 5, 6, 3, 8, 4, 1, 2, 2, 0, 7, 6, 7, 1, 2, 8, 3, 1, 7, 4, 5, 9, 0, 3, 7, 8, 0, 7, 4, 2, 6, 9, 0, 2, 7, 4, 7, 3, 1, 7, 5, 1, 4, 0, 2, 4, 4, 3, 3, 0, 0, 8, 3, 3, 0, 9, 1, 7, 7, 0, 6, 9, 2, 4, 8, 5, 8, 5, 8, 9, 4, 4, 4, 8, 5, 3, 7, 0, 2, 5, 9, 8, 4, 9, 4, 2, 1, 3, 0, 3, 4, 8, 0, 1, 1, 9, 8, 7, 6, 1, 6, 3, 9, 6, 0, 2, 9, 2, 9, 6, 0, 0, 8, 6, 4, 9, 1, 1, 0, 5, 0, 2, 8, 4, 5, 9, 2, 6, 7, 4, 5, 5, 7, 6, 3, 8, 7, 9, 8, 4, 4, 6, 1, 1, 2, 0, 9, 1, 7, 2, 8, 8, 2, 1, 4, 4, 8, 4, 4, 6, 9, 5, 8, 5, 5, 7, 7, 5, 9, 5, 3, 4, 9, 9, 3, 7, 6, 9, 5, 8, 6, 6, 0, 7, 9, 2, 8, 3, 7, 0, 4, 0, 8, 8, 6, 2, 1, 2, 8, 9, 7, 2, 0, 2, 7, 6, 9, 1, 4, 8, 2, 8, 6, 7, 1, 1, 0, 1, 4, 6, 0, 4, 7, 1, 6, 0, 1, 9, 9, 8, 1, 6, 9, 1, 9, 9, 0, 1, 1, 7, 1, 8, 9, 1, 0, 0, 5, 7, 4, 4, 6, 5, 2, 5, 9, 8, 6, 5, 5, 3, 7, 8, 7, 7, 6, 3, 3, 1, 5, 9, 6, 7, 7, 3, 1, 7, 3, 2, 6, 6, 9, 8, 7, 2, 6, 8, 7, 7, 5, 1, 0, 7, 1, 7, 2, 1, 3, 4, 4, 9, 6, 2, 3, 8, 8, 0, 4, 7, 2, 7, 7, 9, 3, 7, 6, 8, 3, 9, 6, 4, 7, 4, 0, 3, 8, 9, 7, 0, 0, 5, 0, 7, 8, 8, 1, 8, 2, 9, 5, 8, 9, 5, 5, 2, 4, 8, 6, 3, 7, 2, 5, 5, 0, 3, 7, 4, 8, 1, 5, 1, 1, 7, 0, 1, 6, 7, 6, 8, 4, 0, 6, 6, 4, 2, 8, 7, 6, 3, 3, 7, 2, 3, 8, 9, 8, 7, 7, 4, 8, 3, 8, 7, 9, 2, 9, 9, 1, 5, 5, 4, 0, 6, 1, 2, 6, 3, 3, 2, 0, 5, 9, 7, 7, 0, 5, 0, 9, 2, 7, 7, 0, 9, 5, 5, 1, 9, 0, 3, 3, 9, 6, 7, 4, 8, 2, 5, 8, 2, 1, 4, 9, 0, 8, 2, 4, 0, 1, 2, 3, 0, 9, 4, 8, 3, 8, 9, 2, 3, 1, 4, 5, 1, 5, 1, 0, 2, 5, 2, 1, 8, 6, 4, 5, 0, 9, 3, 1, 0, 9, 1, 0, 7, 6, 6, 7, 7, 2, 6, 9, 3, 4, 5, 1, 9, 6, 6, 4, 8, 8, 6, 0, 4, 9, 5, 9, 9, 3, 9, 9, 0, 2, 2, 7, 3, 5, 1, 0, 9, 5, 8, 0, 8, 1, 1, 0, 0, 7, 4, 8, 2, 3, 3, 2, 5, 6, 0, 1, 8, 2, 6, 6, 2, 1, 3, 6, 5, 8, 3, 2, 0, 8, 1, 7, 9, 7, 2, 0, 4, 6, 8, 1, 5, 7, 9, 7, 0, 4, 1, 7, 5, 8, 7, 4, 8, 7, 3, 7, 4, 4, 0, 4, 7, 4, 3, 5, 3, 8, 1, 7, 8, 5, 7, 0, 8, 7, 5, 5, 4, 7, 1, 9, 0, 5, 2, 6, 1, 4, 8, 0, 6, 3, 1, 9, 7, 3, 5, 6, 6, 9, 8, 0, 5, 9, 6, 2, 6, 9, 5, 8, 3, 0, 5, 1, 7, 2, 8, 0, 4, 0, 8, 1, 3, 9, 7, 1, 3, 6, 7, 4, 8, 6, 7, 5, 3, 4, 3, 5, 2, 6, 9, 5, 0, 1, 7, 4, 8, 9]\n",
      "(9000, 10)\n",
      "0\n",
      "255\n",
      "[1, 6, 6, 8, 8, 3, 4, 6, 0, 6, 0, 3, 6, 6, 5, 4, 8, 3, 2, 6, 0, 3, 1, 4, 0, 6, 6, 2, 7, 6, 9, 0, 4, 5, 7, 1, 6, 7, 9, 1, 7, 7, 8, 0, 3, 7, 4, 7, 3, 1, 0, 4, 6, 6, 1, 4, 9, 2, 6, 4, 5, 0, 4, 6, 0, 8, 3, 4, 8, 8, 3, 9, 5, 7, 1, 9, 4, 7, 9, 1, 9, 7, 5, 2, 7, 3, 4, 8, 8, 2, 1, 5, 9, 2, 7, 8, 8, 6, 8, 8, 1, 3, 8, 8, 5, 4, 7, 1, 6, 6, 1, 6, 1, 6, 7, 0, 4, 6, 9, 5, 8, 7, 1, 9, 0, 3, 3, 7, 6, 9, 0, 4, 7, 1, 4, 3, 4, 3, 9, 8, 7, 0, 8, 3, 9, 1, 0, 8, 0, 9, 4, 0, 2, 1, 4, 2, 7, 1, 7, 0, 2, 9, 7, 9, 8, 6, 4, 4, 1, 1, 7, 8, 8, 6, 4, 5, 6, 3, 9, 4, 2, 5, 3, 6, 7, 7, 3, 9, 1, 3, 1, 8, 3, 3, 5, 6, 4, 0, 9, 6, 6, 5, 0, 6, 2, 0, 5, 4, 9, 3, 4, 6, 0, 6, 7, 0, 7, 2, 6, 9, 6, 5, 4, 5, 4, 7, 7, 6, 8, 1, 5, 9, 7, 8, 8, 7, 1, 4, 6, 4, 2, 2, 5, 0, 3, 8, 9, 4, 1, 1, 4, 1, 9, 6, 3, 3, 6, 9, 5, 7, 6, 9, 4, 2, 4, 0, 0, 0, 8, 7, 5, 1, 8, 6, 7, 0, 1, 7, 7, 8, 2, 7, 4, 8, 8, 9, 8, 9, 8, 2, 8, 9, 1, 3, 5, 7, 4, 0, 1, 4, 4, 0, 8, 4, 3, 7, 9, 7, 7, 9, 3, 6, 9, 8, 1, 5, 9, 8, 5, 5, 3, 3, 3, 0, 5, 1, 0, 6, 7, 3, 0, 9, 0, 7, 0, 4, 8, 8, 0, 7, 0, 3, 9, 0, 8, 6, 8, 7, 7, 6, 4, 9, 1, 0, 8, 0, 6, 6, 7, 1, 2, 8, 1, 1, 6, 0, 5, 4, 7, 8, 1, 7, 4, 9, 6, 9, 8, 1, 2, 6, 1, 8, 5, 3, 7, 4, 7, 1, 9, 2, 9, 2, 4, 1, 0, 8, 2, 5, 2, 0, 6, 0, 8, 1, 4, 9, 2, 5, 8, 2, 5, 8, 2, 5, 3, 4, 8, 2, 3, 4, 1, 9, 7, 5, 5, 0, 4, 3, 2, 5, 3, 6, 5, 2, 8, 7, 2, 8, 2, 3, 2, 3, 8, 8, 6, 8, 1, 4, 9, 7, 1, 4, 3, 1, 3, 0, 8, 2, 1, 7, 6, 2, 3, 3, 3, 7, 7, 9, 3, 2, 0, 5, 4, 9, 2, 8, 1, 4, 4, 1, 2, 7, 5, 8, 5, 4, 0, 0, 3, 4, 7, 1, 3, 0, 9, 1, 7, 9, 2, 0, 4, 3, 7, 5, 9, 2, 3, 7, 3, 5, 6, 8, 2, 0, 5, 5, 0, 6, 3, 4, 9, 5, 1, 9, 8, 4, 0, 3, 7, 7, 8, 1, 6, 9, 3, 1, 4, 8, 7, 4, 7, 5, 5, 8, 1, 0, 7, 7, 0, 5, 6, 6, 7, 0, 6, 5, 5, 3, 3, 9, 7, 4, 7, 6, 1, 3, 5, 2, 1, 1, 4, 1, 8, 7, 0, 3, 1, 0, 0, 6, 7, 9, 2, 7, 7, 8, 5, 3, 2, 0, 9, 2, 4, 4, 2, 3, 6, 5, 7, 5, 6, 0, 7, 5, 4, 4, 8, 0, 2, 4, 8, 3, 2, 8, 1, 4, 2, 0, 3, 3, 8, 7, 9, 7, 2, 8, 9, 1, 2, 4, 1, 6, 5, 4, 3, 6, 6, 0, 8, 8, 4, 4, 1, 7, 1, 8, 8, 6, 1, 6, 0, 2, 1, 3, 4, 1, 0, 5, 9, 9, 2, 4, 9, 8, 8, 6, 7, 0, 5, 5, 5, 2, 7, 8, 0, 0, 6, 8, 1, 1, 8, 0, 8, 2, 7, 7, 0, 7, 8, 0, 0, 5, 5, 1, 4, 7, 5, 4, 9, 4, 2, 4, 8, 5, 6, 3, 4, 4, 8, 5, 5, 1, 7, 0, 1, 5, 0, 9, 6, 4, 4, 8, 3, 9, 5, 2, 5, 7, 4, 0, 7, 3, 0, 6, 7, 7, 4, 5, 6, 5, 5, 0, 2, 9, 5, 3, 3, 1, 1, 3, 2, 9, 3, 3, 7, 1, 2, 6, 5, 5, 5, 0, 9, 8, 0, 4, 4, 2, 5, 9, 3, 1, 7, 8, 6, 8, 0, 0, 7, 7, 5, 9, 0, 6, 3, 8, 6, 0, 3, 7, 1, 9, 6, 9, 6, 1, 0, 1, 0, 9, 5, 2, 2, 5, 0, 8, 9, 2, 4, 3, 8, 0, 0, 7, 3, 6, 7, 8, 7, 1, 5, 6, 8, 7, 1, 3, 1, 9, 6, 9, 9, 5, 1, 2, 4, 5, 8, 6, 4, 1, 8, 6, 2, 3, 5, 9, 1, 0, 8, 4, 9, 4, 7, 9, 3, 0, 8, 3, 7, 9, 2, 4, 5, 5, 8, 4, 2, 0, 1, 3, 3, 7, 0, 7, 7, 4, 8, 4, 5, 7, 5, 9, 1, 3, 7, 2, 7, 7, 4, 6, 4, 7, 7, 0, 9, 1, 0, 5, 2, 9, 4, 2, 1, 8, 4, 7, 8, 5, 6, 6, 1, 0, 1, 4, 5, 9, 7, 8, 3, 8, 6, 5, 6, 8, 5, 4, 2, 7, 8, 3, 9, 3, 7, 2, 9, 2, 6, 3, 6, 6, 2, 9, 3, 9, 2, 5, 6, 4, 3, 3, 4, 4, 0, 1, 0, 0, 8, 7, 3, 2, 3, 6, 8, 1, 1, 8, 4, 3, 2, 1, 4, 5, 9, 4, 8, 8, 2, 1, 5, 4, 8, 3, 4, 9, 6, 6, 8, 0, 7, 0, 0, 2, 1, 3, 7, 5, 9, 8, 7, 3, 1, 8, 0, 2, 5, 8, 2, 1, 0, 6, 8, 3, 2, 8, 0, 2, 5, 2, 0, 7, 4, 4, 0, 0, 5, 3, 3, 8, 3, 0, 2, 0, 5, 4, 5, 2, 4, 1, 6, 7, 3, 6, 8, 5, 6, 4, 7, 3, 6, 8, 2, 7, 3, 7, 0, 3, 0, 7, 8, 7, 0, 5, 5, 8, 4, 7, 6, 3, 7, 8, 6, 5, 5, 0, 4, 1, 0, 5, 0, 3, 0, 4, 1, 5, 2, 9, 8, 2, 7, 2, 6, 8, 4, 6, 5, 8, 9, 5, 6, 2, 0, 6, 7, 3, 9, 3, 2, 0, 7, 1, 6, 9, 5, 6, 0, 2, 4, 8, 4, 3, 3, 5, 0, 2, 6, 4, 9, 9, 9, 4, 1, 3, 1, 1, 1, 6, 7, 2, 4, 9, 9, 8, 5, 5, 6, 5, 7, 6, 8, 8, 6, 0, 9, 5, 7, 5, 2, 9, 8, 8, 5, 4, 7, 1, 5, 5, 5, 7, 2, 0, 9, 2, 9, 9, 5, 2, 0, 8, 0, 1, 8, 6, 6, 3, 9, 5, 5, 2, 3, 5, 4, 6, 3, 2, 2, 3, 1, 2, 2, 3, 8, 5, 2, 7, 6, 3, 8, 8, 0, 4, 9, 3, 6, 9, 7, 6, 0, 5, 0, 6, 2, 2, 3, 1, 0, 9, 4, 9, 7, 0, 9, 3, 9, 6, 3, 4, 3, 0, 0, 6, 0, 2, 1, 1, 8, 5, 6, 5, 8, 4, 4, 0, 2, 8, 4, 0, 2, 3, 9, 5, 7, 8, 5, 0, 1, 8, 8, 5, 3, 5, 2, 3, 8, 6, 5, 9, 0, 8, 7, 4, 0, 7, 4, 0, 7, 5, 2, 6, 2, 7, 6, 3, 9, 3, 3, 2, 9, 0, 5, 4, 7, 1, 0, 6, 0, 0, 8, 3, 1, 8, 6, 9, 9, 2, 5, 4, 9, 5, 6, 6, 3, 7, 5, 7, 3, 0, 2, 8, 5, 7, 5, 6, 9, 3, 7, 2, 1, 3, 7, 3, 2, 5, 2, 8, 3, 8, 6, 5, 2, 2, 7, 5, 8, 3, 2, 7, 0, 3, 6, 3, 9, 1, 2, 6, 3, 5, 3, 1, 8, 6, 3, 6, 0, 9, 0, 5, 5, 7, 8, 3, 2, 6, 2, 9, 4, 2, 3, 3, 9, 3, 7, 7, 6, 7, 6, 1, 5, 6, 4, 9, 0, 4, 4, 1, 6, 5, 6, 1, 6, 3, 7, 7, 6, 8, 7, 2, 0, 7, 1, 3, 2, 1, 9, 4, 0, 0, 7, 1, 7, 6, 9, 0, 6, 2, 3, 4, 2, 5, 6, 6, 0, 5, 5, 2, 1, 6, 7, 3, 7, 3, 5, 0, 2, 9, 2, 2, 2, 9, 3, 6, 7, 8, 5, 5, 1, 5, 6, 2, 6, 7, 1, 2, 9, 1, 0, 0, 3, 3, 2, 0, 3, 4, 1, 7, 7, 9, 2, 0, 8, 6, 8, 5, 3, 5, 5, 5, 5, 1, 3, 4, 2, 8, 7, 8, 9, 8, 4, 5, 6, 0, 4, 2, 3, 5, 0, 1, 9, 9, 2, 5, 7, 4, 1, 5, 8, 5, 4, 7, 2, 8, 5, 3, 1, 9, 3, 0, 5, 6, 2, 6, 3, 9, 4, 1, 3, 2, 1, 9, 2, 9, 4, 5, 9, 7, 0, 9, 3, 9, 1, 8, 5, 7, 4, 0, 3, 4, 8, 4, 3, 8, 7, 1, 0, 4, 1, 5, 8, 8, 3, 1, 1, 7, 4, 0, 6, 1, 4, 2, 6, 9, 4, 8, 9, 8, 9, 7, 3, 9, 8, 9, 5, 9, 6, 5, 9, 7, 2, 9, 7, 6, 5, 7, 0, 8, 1, 0, 8, 3, 0, 1, 9, 7, 5, 3, 5, 3, 4, 8, 3, 2, 2, 1, 3, 0, 6, 4, 5, 5, 6, 3, 1, 2, 0, 0, 6, 1, 1, 6, 7, 4, 2, 6, 8, 3, 6, 3, 7, 6, 9, 9, 9, 0, 5, 1, 1, 8, 2, 8, 3, 7, 4, 0, 6, 8, 8, 6, 8, 9, 9, 1, 3, 9, 0, 1, 2, 9, 1, 6, 9, 0, 6, 0, 1, 8, 5, 1, 1, 7, 1, 6, 9, 5, 1, 9, 7, 2, 8, 1, 1, 0, 2, 6, 5, 2, 3, 9, 1, 9, 3, 6, 9, 0, 5, 5, 3, 5, 6, 3, 6, 6, 2, 2, 0, 6, 0, 5, 3, 5, 3, 3, 5, 7, 7, 3, 1, 2, 2, 9, 6, 7, 1, 6, 3, 5, 6, 9, 6, 4, 3, 4, 3, 7, 0, 3, 3, 4, 2, 1, 0, 4, 5, 9, 0, 9, 9, 0, 1, 9, 7, 2, 6, 7, 1, 0, 6, 4, 9, 1, 7, 2, 5, 1, 6, 8, 4, 5, 7, 9, 8, 1, 6, 9, 0, 9, 1, 3, 9, 4, 8, 3, 4, 2, 0, 2, 9, 2, 2, 1, 5, 5, 4, 6, 1, 6, 1, 2, 5, 6, 9, 1, 8, 1, 8, 6, 9, 0, 3, 7, 0, 4, 7, 7, 8, 2, 0, 4, 7, 5, 7, 0, 1, 6, 5, 5, 5, 3, 9, 1, 3, 4, 4, 5, 4, 8, 3, 9, 8, 7, 3, 4, 7, 4, 4, 2, 3, 6, 9, 7, 4, 0, 5, 7, 2, 9, 2, 2, 8, 0, 4, 9, 1, 2, 4, 5, 3, 1, 1, 0, 8, 5, 8, 9, 3, 6, 6, 5, 8, 8, 0, 7, 1, 6, 0, 0, 4, 2, 1, 6, 9, 0, 1, 2, 5, 2, 5, 4, 7, 4, 5, 3, 4, 9, 6, 5, 2, 7, 2, 0, 3, 0, 9, 9, 8, 2, 0, 4, 0, 5, 8, 5, 7, 7, 4, 5, 1, 1, 4, 4, 0, 2, 3, 2, 2, 0, 6, 8, 1, 4, 6, 3, 3, 1, 1, 2, 7, 0, 3, 8, 8, 0, 5, 6, 4, 4, 9, 2, 8, 6, 5, 0, 7, 2, 2, 8, 4, 5, 7, 4, 3, 6, 6, 9, 9, 6, 6, 5, 4, 3, 9, 0, 0, 9, 5, 3, 6, 5, 3, 6, 7, 6, 8, 2, 4, 7, 8, 1, 4, 1, 0, 0, 0, 6, 3, 3, 6, 9, 7, 0, 1, 3, 9, 8, 3, 2, 2, 3, 2, 1, 6, 1, 3, 5, 0, 5, 1, 6, 0, 6, 2, 4, 2, 9, 0, 9, 1, 8, 6, 2, 5, 5, 2, 1, 0, 0, 2, 4, 3, 6, 0, 0, 1, 6, 5, 0, 4, 9, 9, 8, 5, 5, 8, 3, 8, 8, 4, 0, 3, 7, 5, 7, 1, 6, 1, 4, 9, 3, 4, 2, 4, 2, 4, 3, 9, 3, 1, 8, 9, 4, 3, 5, 8, 0, 6, 1, 4, 8, 8, 1, 8, 0, 0, 0, 4, 0, 4, 5, 4, 2, 6, 0, 2, 2, 7, 4, 5, 3, 6, 3, 2, 0, 1, 6, 9, 8, 4, 3, 2, 7, 1, 9, 4, 2, 9, 7, 1, 0, 2, 1, 6, 1, 1, 6, 8, 2, 3, 8, 8, 5, 0, 4, 2, 0, 9, 1, 5, 1, 9, 9, 2, 8, 3, 2, 0, 6, 8, 3, 8, 8, 5, 6, 2, 8, 5, 6, 4, 5, 8, 8, 4, 0, 1, 3, 2, 4, 6, 3, 3, 4, 6, 2, 7, 6, 6, 5, 4, 3, 0, 7, 1, 7, 0, 1, 1, 8, 0, 5, 8, 3, 6, 5, 6, 3, 5, 7, 7, 9, 5, 1, 9, 8, 2, 8, 0, 4, 6, 3, 5, 0, 8, 9, 1, 4, 9, 6, 1, 0, 8, 2, 8, 7, 0, 7, 7, 6, 5, 1, 1, 8, 3, 9, 1, 5, 4, 1, 0, 4, 8, 2, 9, 3, 5, 1, 1, 6, 0, 1, 0, 0, 9, 1, 5, 4, 6, 1, 3, 6, 1, 4, 1, 4, 5, 1, 9, 4, 9, 9, 3, 2, 8, 8, 7, 6, 5, 2, 4, 0, 5, 7, 0, 3, 5, 4, 3, 4, 4, 1, 1, 6, 2, 6, 1, 5, 3, 4, 0, 0, 2, 9, 1, 5, 1, 8, 5, 8, 6, 0, 6, 5, 9, 6, 1, 2, 2, 0, 7, 7, 3, 6, 4, 6, 3, 5, 8, 1, 6, 0, 2, 3, 1, 6, 2, 7, 3, 9, 1, 9, 3, 2, 1, 1, 5, 3, 9, 0, 7, 8, 6, 7, 2, 2, 8, 8, 7, 8, 9, 9, 4, 6, 4, 0, 7, 6, 1, 9, 0, 7, 4, 4, 8, 0, 0, 2, 8, 2, 1, 3, 8, 9, 3, 0, 0, 5, 7, 6, 6, 0, 3, 7, 8, 7, 3, 6, 8, 8, 4, 6, 7, 6, 2, 3, 3, 1, 8, 4, 3, 2, 9, 8, 6, 6, 9, 0, 2, 7, 7, 2, 7, 9, 5, 0, 1, 2, 2, 2, 7, 3, 7, 0, 4, 7, 5, 8, 7, 9, 4, 5, 9, 8, 5, 4, 8, 6, 0, 0, 1, 6, 5, 9, 8, 0, 3, 2, 7, 8, 2, 4, 2, 0, 6, 0, 4, 4, 6, 8, 5, 5, 1, 3, 5, 2, 8, 1, 4, 1, 6, 6, 6, 7, 3, 7, 4, 9, 5, 2, 0, 7, 2, 1, 1, 4, 0, 9, 0, 8, 8, 5, 3, 7, 1, 2, 6, 1, 3, 0, 6, 9, 5, 8, 3, 5, 1, 6, 9, 9, 5, 7, 7, 5, 9, 5, 1, 5, 7, 5, 2, 1, 7, 4, 5, 7, 4, 5, 2, 2, 2, 8, 1, 6, 9, 2, 4, 4, 1, 5, 1, 3, 6, 6, 3, 8, 8, 3, 2, 4, 6, 8, 8, 2, 9, 6, 8, 4, 3, 9, 8, 8, 2, 7, 3, 6, 1, 5, 1, 2, 6, 7, 8, 7, 1, 1, 5, 3, 6, 7, 0, 6, 4, 9, 2, 3, 0, 6, 3, 1, 9, 4, 8, 3, 1, 5, 8, 2, 5, 9, 9, 5, 2, 6, 7, 0, 0, 5, 9, 4, 9, 4, 6, 2, 0, 2, 9, 3, 4, 3, 0, 2, 1, 7, 2, 6, 9, 3, 5, 7, 6, 1, 5, 5, 8, 6, 7, 4, 6, 2, 2, 7, 5, 2, 4, 8, 9, 5, 1, 2, 0, 7, 9, 3, 9, 9, 2, 2, 9, 7, 7, 9, 5, 4, 9, 1, 2, 2, 7, 4, 2, 8, 5, 4, 5, 9, 0, 8, 1, 7, 5, 6, 6, 4, 7, 6, 0, 1, 2, 1, 7, 9, 1, 8, 2, 0, 3, 7, 2, 2, 0, 1, 7, 0, 3, 7, 9, 0, 8, 7, 0, 6, 1, 0, 5, 5, 7, 8, 8, 1, 1, 9, 3, 0, 7, 6, 3, 6, 2, 3, 2, 0, 3, 7, 6, 9, 2, 5, 8, 9, 7, 4, 6, 4, 3, 6, 1, 8, 0, 4, 6, 4, 8, 0, 0, 0, 4, 3, 4, 8, 1, 3, 9, 0, 0, 2, 0, 3, 9, 3, 6, 5, 4, 9, 1, 5, 8, 6, 5, 5, 8, 9, 0, 3, 7, 5, 9, 1, 7, 4, 7, 7, 4, 2, 7, 1, 6, 5, 6, 3, 0, 8, 1, 8, 4, 4, 2, 8, 4, 9, 7, 1, 8, 8, 8, 7, 3, 2, 3, 9, 6, 1, 8, 2, 9, 6, 8, 1, 3, 0, 5, 6, 3, 6, 7, 7, 5, 8, 2, 1, 1, 9, 4, 6, 4, 7, 7, 7, 9, 1, 3, 8, 6, 8, 5, 7, 0, 0, 5, 5, 1, 0, 0, 1, 8, 1, 1, 4, 0, 1, 2, 7, 8, 1, 6, 1, 6, 5, 8, 6, 6, 8, 0, 5, 8, 6, 2, 7, 7, 3, 0, 2, 1, 5, 9, 1, 9, 8, 3, 3, 8, 9, 3, 9, 2, 4, 0, 7, 5, 1, 1, 3, 3, 0, 4, 3, 9, 3, 9, 3, 5, 4, 9, 1, 2, 9, 7, 1, 1, 7, 7, 7, 9, 5, 3, 4, 2, 0, 2, 0, 7, 7, 6, 4, 7, 1, 9, 3, 1, 9, 8, 4, 1, 2, 0, 7, 1, 0, 4, 3, 7, 8, 0, 9, 6, 3, 8, 4, 7, 4, 9, 4, 7, 8, 0, 6, 0, 0, 1, 2, 9, 2, 2, 1, 4, 7, 1, 8, 2, 0, 1, 5, 6, 2, 5, 6, 5, 0, 1, 3, 8, 0, 1, 5, 7, 2, 0, 3, 3, 9, 3, 1, 6, 5, 0, 0, 9, 2, 8, 5, 9, 2, 6, 6, 9, 8, 6, 2, 3, 7, 0, 3, 0, 5, 1, 3, 0, 3, 7, 3, 3, 8, 9, 5, 1, 1, 5, 6, 4, 5, 5, 7, 0, 2, 1, 8, 0, 5, 5, 7, 2, 8, 8, 6, 1, 7, 6, 5, 1, 6, 7, 9, 7, 6, 9, 1, 2, 8, 7, 9, 4, 7, 7, 6, 9, 8, 6, 2, 5, 6, 1, 4, 7, 7, 9, 1, 5, 5, 1, 6, 2, 9, 1, 8, 1, 5, 9, 5, 6, 2, 4, 0, 1, 3, 6, 8, 3, 7, 9, 5, 0, 8, 6, 2, 7, 2, 6, 0, 7, 4, 6, 7, 4, 5, 6, 3, 5, 1, 7, 7, 0, 2, 4, 8, 7, 9, 7, 3, 3, 5, 3, 3, 0, 1, 9, 6, 4, 9, 4, 6, 9, 4, 6, 1, 1, 7, 6, 3, 3, 0, 7, 0, 2, 8, 2, 0, 0, 4, 2, 8, 1, 3, 5, 7, 0, 1, 1, 8, 1, 2, 1, 5, 5, 3, 0, 5, 2, 5, 5, 3, 3, 9, 5, 5, 8, 3, 0, 6, 1, 9, 1, 9, 8, 7, 7, 4, 2, 7, 7, 2, 8, 2, 7, 1, 2, 4, 7, 3, 4, 5, 7, 5, 2, 3, 5, 0, 2, 6, 4, 8, 9, 7, 1, 3, 9, 7, 2, 1, 3, 4, 7, 8, 6, 4, 9, 4, 4, 1, 0, 3, 2, 8, 5, 1, 2, 4, 9, 2, 8, 1, 0, 8, 0, 1, 3, 3, 3, 6, 1, 7, 0, 6, 7, 9, 8, 7, 2, 2, 9, 9, 6, 5, 9, 7, 0, 3, 8, 7, 5, 7, 6, 8, 5, 0, 9, 5, 5, 5, 2, 4, 9, 6, 1, 6, 0, 8, 9, 3, 7, 7, 1, 5, 7, 7, 7, 9, 9, 9, 0, 6, 9, 4, 8, 5, 8, 6, 6, 4, 5, 3, 7, 4, 3, 2, 2, 9, 0, 0, 1, 6, 8, 5, 8, 9, 2, 7, 6, 5, 4, 2, 6, 2, 4, 1, 2, 0, 0, 9, 1, 7, 2, 8, 8, 4, 4, 9, 7, 2, 6, 2, 0, 2, 0, 2, 2, 3, 6, 6, 7, 3, 1, 7, 3, 2, 2, 8, 7, 4, 6, 4, 9, 6, 5, 0, 3, 0, 8, 5, 1, 3, 4, 2, 4, 0, 1, 4, 1, 3, 4, 0, 9, 9, 8, 2, 2, 6, 0, 8, 7, 0, 6, 2, 2, 2, 1, 0, 0, 9, 2, 7, 7, 6, 6, 0, 4, 5, 6, 8, 3, 9, 8, 1, 2, 0, 1, 1, 4, 6, 9, 4, 7, 6, 7, 5, 3, 8, 9, 7, 0, 1, 2, 7, 1, 5, 5, 9, 3, 9, 5, 3, 1, 8, 4, 6, 9, 7, 7, 3, 2, 1, 1, 8, 8, 7, 5, 0, 6, 5, 3, 8, 6, 1, 2, 2, 1, 2, 3, 0, 8, 1, 2, 8, 7, 2, 4, 7, 0, 1, 8, 6, 8, 0, 8, 9, 0, 5, 9, 3, 8, 0, 3, 2, 9, 8, 9, 6, 3, 8, 5, 3, 0, 3, 6, 7, 5, 9, 6, 3, 3, 6, 5, 7, 8, 6, 1, 9, 5, 6, 3, 0, 8, 1, 8, 6, 5, 6, 8, 2, 7, 8, 5, 9, 2, 0, 7, 0, 3, 7, 7, 8, 6, 6, 4, 2, 7, 2, 2, 8, 9, 2, 5, 7, 4, 1, 2, 0, 0, 5, 4, 3, 4, 2, 0, 9, 5, 2, 0, 3, 9, 4, 4, 9, 8, 1, 0, 9, 9, 2, 8, 5, 8, 2, 5, 2, 3, 5, 5, 4, 2, 6, 8, 5, 3, 6, 3, 5, 9, 4, 6, 8, 8, 8, 7, 1, 2, 9, 3, 1, 8, 7, 9, 9, 7, 0, 4, 7, 0, 9, 0, 1, 0, 4, 0, 9, 7, 6, 8, 5, 1, 6, 9, 3, 4, 2, 8, 8, 9, 8, 7, 3, 6, 2, 6, 7, 8, 9, 1, 7, 1, 8, 8, 9, 4, 0, 3, 7, 3, 0, 2, 6, 6, 1, 6, 2, 5, 2, 4, 2, 4, 1, 4, 5, 1, 9, 1, 4, 2, 9, 4, 5, 1, 7, 6, 2, 4, 9, 9, 5, 9, 6, 1, 4, 2, 4, 8, 7, 7, 9, 5, 3, 2, 9, 6, 6, 9, 7, 0, 0, 6, 4, 6, 5, 6, 9, 8, 9, 8, 3, 2, 3, 2, 4, 8, 0, 7, 2, 2, 1, 3, 1, 3, 6, 3, 9, 4, 5, 3, 2, 4, 0, 4, 0, 8, 2, 6, 1, 5, 0, 5, 1, 6, 1, 4, 6, 2, 1, 0, 8, 1, 2, 8, 4, 2, 3, 1, 8, 0, 0, 3, 4, 0, 5, 6, 9, 8, 9, 9, 4, 5, 3, 8, 4, 0, 1, 6, 2, 0, 9, 4, 8, 1, 5, 8, 4, 7, 9, 6, 2, 7, 8, 0, 1, 4, 1, 2, 1, 7, 2, 0, 4, 9, 4, 9, 3, 1, 4, 9, 5, 8, 3, 3, 0, 6, 9, 3, 9, 6, 6, 1, 8, 1, 3, 5, 4, 3, 8, 5, 3, 6, 4, 2, 7, 2, 0, 6, 6, 1, 3, 7, 4, 1, 4, 4, 7, 5, 6, 7, 0, 1, 3, 8, 2, 6, 3, 8, 4, 5, 7, 9, 9, 0, 6, 0, 8, 1, 9, 2, 3, 4, 1, 7, 7, 3, 7, 4, 0, 5, 8, 8, 5, 4, 2, 3, 4, 6, 2, 5, 3, 8, 4, 1, 4, 1, 1, 5, 1, 4, 5, 7, 6, 5, 1, 1, 1, 9, 6, 8, 8, 2, 2, 3, 5, 9, 2, 3, 4, 9, 2, 4, 0, 6, 0, 5, 6, 8, 2, 3, 3, 3, 5, 5, 1, 4, 8, 4, 6, 1, 4, 6, 6, 7, 8, 8, 3, 1, 8, 7, 4, 0, 9, 8, 1, 0, 7, 8, 9, 4, 1, 2, 2, 3, 6, 7, 1, 1, 0, 3, 9, 9, 4, 1, 4, 5, 9, 2, 0, 0, 7, 4, 9, 6, 2, 7, 4, 2, 3, 4, 3, 1, 5, 2, 7, 1, 9, 6, 9, 9, 1, 7, 5, 4, 4, 2, 3, 3, 7, 1, 4, 9, 4, 2, 3, 0, 1, 3, 5, 2, 5, 3, 8, 0, 3, 7, 2, 0, 1, 7, 6, 8, 6, 4, 2, 0, 0, 0, 6, 5, 8, 4, 7, 7, 1, 2, 4, 3, 8, 7, 4, 4, 0, 2, 3, 2, 2, 8, 5, 5, 3, 6, 6, 4, 1, 8, 1, 1, 0, 9, 3, 2, 9, 2, 2, 8, 9, 6, 9, 2, 4, 1, 8, 5, 5, 4, 3, 6, 9, 0, 7, 2, 0, 0, 2, 7, 9, 9, 2, 6, 1, 7, 0, 1, 9, 2, 8, 8, 1, 0, 8, 6, 0, 7, 7, 0, 9, 7, 7, 9, 5, 7, 5, 9, 3, 4, 5, 2, 2, 3, 6, 3, 7, 3, 4, 6, 3, 1, 3, 1, 6, 7, 4, 4, 8, 5, 1, 2, 1, 9, 4, 2, 3, 7, 4, 4, 6, 4, 5, 8, 7, 4, 4, 3, 9, 2, 6, 0, 3, 2, 9, 7, 5, 6, 0, 5, 8, 9, 9, 2, 8, 3, 4, 4, 2, 8, 8, 1, 3, 7, 6, 8, 6, 2, 9, 2, 3, 5, 2, 1, 7, 1, 4, 2, 4, 8, 0, 2, 0, 4, 1, 0, 3, 2, 3, 4, 2, 8, 7, 5, 3, 5, 9, 4, 0, 9, 2, 8, 0, 3, 5, 9, 7, 0, 0, 1, 5, 9, 1, 3, 0, 6, 0, 3, 6, 5, 0, 8, 7, 0, 1, 6, 2, 8, 5, 7, 9, 1, 4, 2, 9, 4, 7, 2, 0, 5, 1, 3, 8, 7, 2, 7, 3, 7, 7, 1, 4, 1, 1, 3, 1, 4, 2, 1, 4, 3, 9, 4, 8, 0, 5, 6, 0, 7, 6, 4, 4, 7, 2, 7, 9, 8, 7, 2, 5, 9, 0, 5, 1, 4, 6, 4, 0, 6, 4, 7, 1, 4, 3, 9, 2, 3, 2, 9, 1, 2, 8, 6, 4, 7, 7, 5, 9, 0, 2, 9, 5, 8, 2, 4, 0, 8, 6, 6, 1, 7, 4, 1, 7, 0, 1, 7, 5, 3, 1, 0, 6, 9, 2, 0, 1, 9, 2, 8, 5, 3, 9, 0, 4, 1, 9, 2, 2, 4, 9, 6, 5, 2, 0, 6, 1, 0, 8, 4, 3, 0, 0, 0, 7, 4, 3, 4, 7, 3, 5, 2, 8, 1, 0, 2, 1, 1, 7, 5, 6, 9, 1, 6, 0, 9, 3, 1, 6, 6, 9, 4, 7, 1, 1, 0, 4, 5, 9, 1, 9, 3, 3, 0, 8, 5, 7, 4, 5, 0, 4, 3, 7, 1, 8, 7, 9, 8, 3, 6, 9, 1, 6, 0, 1, 0, 8, 9, 6, 3, 4, 7, 4, 3, 2, 4, 7, 9, 9, 9, 8, 4, 0, 3, 2, 5, 9, 9, 4, 3, 3, 4, 7, 3, 5, 3, 8, 7, 2, 4, 0, 9, 8, 2, 7, 3, 0, 0, 1, 0, 2, 7, 0, 1, 9, 4, 2, 2, 7, 6, 3, 8, 4, 6, 9, 9, 7, 4, 8, 7, 0, 9, 9, 4, 2, 2, 6, 6, 3, 8, 6, 9, 5, 6, 6, 7, 6, 5, 7, 4, 4, 7, 8, 6, 6, 2, 7, 8, 1, 4, 4, 2, 3, 8, 4, 5, 3, 0, 7, 0, 2, 4, 5, 2, 1, 6, 9, 1, 5, 4, 8, 0, 4, 1, 5, 4, 7, 2, 5, 3, 2, 1, 5, 6, 6, 7, 5, 5, 9, 8, 3, 7, 9, 2, 0, 4, 5, 7, 8, 6, 9, 5, 2, 0, 4, 5, 6, 3, 3, 4, 9, 3, 5, 0, 3, 8, 8, 0, 1, 8, 2, 1, 1, 8, 6, 2, 1, 1, 9, 5, 7, 4, 0, 8, 8, 3, 9, 0, 7, 5, 3, 8, 4, 7, 2, 1, 7, 7, 9, 4, 7, 6, 4, 5, 6, 5, 3, 2, 8, 0, 6, 2, 7, 7, 5, 5, 2, 5, 5, 1, 9, 8, 8, 2, 2, 2, 7, 6, 4, 2, 7, 1, 4, 0, 3, 7, 4, 0, 9, 9, 2, 4, 4, 7, 4, 8, 5, 5, 2, 3, 1, 0, 5, 4, 7, 3, 7, 5, 9, 8, 1, 0, 0, 7, 9, 4, 2, 2, 9, 2, 4, 4, 3, 7, 2, 3, 8, 7, 8, 6, 9, 8, 4, 6, 2, 6, 8, 8, 6, 2, 2, 1, 7, 6, 2, 2, 5, 2, 2, 1, 6, 8, 9, 0, 1, 5, 1, 4, 4, 8, 1, 0, 4, 4, 1, 2, 3, 7, 7, 6, 7, 8, 0, 9, 4, 8, 1, 8, 6, 1, 5, 8, 0, 1, 4, 9, 5, 4, 8, 6, 9, 4, 2, 4, 6, 1, 8, 9, 4, 6, 9, 5, 7, 0, 2, 1, 8, 9, 2, 1, 4, 6, 4, 5, 0, 7, 4, 1, 9, 4, 2, 6, 9, 2, 3, 3, 4, 8, 4, 3, 4, 2, 1, 7, 5, 2, 5, 5, 4, 8, 4, 3, 4, 3, 7, 6, 3, 3, 4, 7, 0, 2, 7, 0, 0, 6, 6, 5, 9, 9, 7, 4, 4, 0, 6, 5, 5, 3, 5, 1, 5, 1, 1, 3, 8, 9, 8, 3, 6, 4, 5, 7, 7, 1, 8, 7, 6, 8, 7, 6, 9, 3, 5, 2, 7, 9, 8, 5, 3, 6, 1, 4, 4, 9, 6, 0, 6, 7, 0, 4, 9, 5, 8, 0, 4, 3, 8, 4, 7, 1, 8, 3, 5, 4, 5, 7, 4, 8, 6, 4, 8, 6, 9, 6, 5, 0, 9, 5, 9, 2, 6, 4, 7, 6, 6, 6, 6, 1, 8, 0, 7, 8, 7, 6, 8, 6, 1, 6, 3, 2, 7, 9, 3, 7, 1, 6, 1, 9, 6, 6, 2, 9, 7, 2, 1, 7, 6, 7, 7, 5, 6, 6, 0, 6, 7, 3, 7, 9, 3, 6, 9, 0, 0, 2, 5, 9, 2, 8, 6, 2, 4, 9, 0, 7, 7, 1, 9, 0, 5, 9, 4, 3, 6, 3, 2, 6, 8, 4, 0, 1, 0, 6, 7, 2, 9, 7, 2, 3, 9, 2, 2, 4, 3, 8, 3, 5, 4, 7, 5, 2, 8, 7, 0, 3, 2, 4, 9, 9, 4, 2, 3, 2, 0, 7, 0, 9, 1, 4, 0, 3, 4, 3, 7, 4, 9, 2, 8, 1, 6, 8, 6, 5, 7, 4, 3, 4, 9, 1, 2, 8, 3, 2, 5, 4, 6, 9, 3, 2, 1, 2, 6, 5, 9, 9, 2, 9, 0, 6, 6, 7, 1, 4, 9, 8, 4, 2, 4, 3, 4, 9, 1, 8, 5, 7, 9, 3, 6, 2, 5, 2, 9, 7, 3, 6, 5, 6, 9, 7, 8, 3, 0, 3, 6, 3, 5, 2, 6, 6, 5, 3, 7, 0, 8, 4, 8, 0, 8, 5, 4, 9, 7, 3, 3, 1, 9, 8, 3, 9, 4, 4, 0, 4, 5, 0, 4, 8, 1, 2, 9, 9, 3, 3, 4, 8, 3, 7, 7, 6, 1, 9, 1, 8, 2, 3, 3, 9, 1, 7, 7, 3, 2, 1, 9, 0, 2, 7, 6, 7, 5, 6, 1, 7, 2, 3, 1, 3, 5, 9, 2, 0, 3, 1, 4, 1, 0, 2, 3, 5, 3, 2, 1, 6, 7, 0, 5, 5, 3, 8, 8, 7, 7, 2, 7, 8, 8, 9, 9, 7, 0, 8, 3, 5, 9, 6, 4, 5, 3, 4, 6, 7, 3, 8, 5, 4, 6, 9, 6, 0, 0, 5, 7, 2, 1, 7, 7, 6, 3, 5, 1, 7, 5, 7, 8, 9, 2, 5, 5, 3, 9, 8, 9, 2, 4, 5, 0, 2, 1, 9, 3, 9, 6, 1, 6, 3, 1, 6, 7, 3, 5, 1, 4, 0, 3, 2, 4, 7, 9, 6, 5, 2, 8, 4, 8, 5, 4, 6, 3, 3, 7, 0, 4, 8, 3, 8, 2, 9, 3, 8, 1, 6, 1, 4, 7, 4, 8, 2, 5, 5, 7, 4, 0, 0, 1, 8, 0, 6, 4, 6, 2, 3, 6, 4, 1, 3, 5, 5, 1, 0, 3, 4, 8, 1, 6, 6, 7, 1, 1, 1, 9, 2, 0, 0, 3, 2, 1, 3, 3, 7, 0, 6, 5, 5, 2, 6, 6, 9, 7, 4, 0, 6, 5, 1, 4, 5, 6, 8, 8, 6, 3, 0, 9, 1, 6, 6, 5, 0, 9, 0, 4, 8, 2, 1, 9, 4, 0, 5, 7, 1, 6, 7, 4, 0, 6, 1, 4, 8, 7, 2, 3, 1, 4, 4, 5, 1, 2, 4, 6, 4, 4, 6, 1, 6, 4, 4, 7, 9, 0, 0, 7, 5, 3, 0, 7, 0, 5, 7, 7, 6, 8, 0, 3, 5, 1, 1, 1, 2, 9, 3, 2, 7, 2, 9, 7, 2, 6, 9, 0, 0, 8, 1, 5, 2, 1, 4, 7, 0, 0, 4, 1, 2, 2, 9, 4, 9, 2, 0, 5, 6, 2, 0, 3, 4, 9, 2, 7, 6, 1, 5, 3, 7, 8, 5, 8, 6, 1, 1, 2, 6, 7, 3, 8, 9, 8, 8, 8, 0, 2, 0, 0, 4, 4, 7, 4, 0, 8, 8, 6, 1, 1, 6, 8, 0, 9, 2, 2, 3, 3, 3, 4, 7, 4, 1, 7, 8, 2, 6, 6, 9, 5, 2, 1, 4, 6, 2, 3, 4, 0, 1, 4, 6, 1, 4, 4, 4, 1, 1, 8, 5, 2, 4, 6, 8, 0, 0, 7, 9, 8, 3, 4, 4, 5, 5, 9, 8, 0, 9, 7, 1, 9, 9, 2, 2, 2, 8, 8, 2, 5, 1, 4, 1, 2, 3, 0, 5, 5, 1, 1, 7, 5, 3, 4, 8, 2, 4, 6, 7, 8, 6, 4, 5, 9, 6, 8, 5, 9, 4, 2, 7, 5, 4, 0, 5, 4, 1, 3, 1, 3, 1, 8, 4, 8, 8, 5, 1, 1, 9, 2, 9, 3, 2, 0, 1, 8, 9, 8, 4, 5, 6, 9, 5, 2, 3, 0, 8, 7, 1, 6, 7, 4, 5, 5, 1, 4, 3, 1, 8, 4, 9, 1, 9, 9, 5, 6, 2, 2, 4, 7, 1, 3, 3, 8, 7, 1, 5, 3, 6, 1, 4, 8, 6, 6, 7, 3, 5, 1, 6, 8, 6, 2, 1, 5, 6, 9, 3, 3, 2, 9, 7, 6, 7, 9, 3, 0, 2, 3, 6, 0, 1, 6, 3, 8, 3, 2, 9, 0, 6, 9, 7, 8, 3, 5, 6, 2, 0, 5, 7, 0, 2, 7, 3, 1, 3, 9, 3, 7, 3, 5, 5, 0, 4, 8, 0, 1, 1, 2, 0, 0, 3, 3, 9, 6, 3, 3, 7, 6, 8, 7, 3, 1, 0, 1, 0, 0, 2, 7, 2, 1, 8, 0, 5, 2, 2, 1, 5, 2, 0, 9, 6, 1, 6, 1, 1, 2, 5, 4, 2, 8, 3, 2, 8, 5, 7, 4, 4, 4, 8, 9, 2, 0, 9, 4, 2, 8, 8, 2, 9, 0, 7, 7, 1, 8, 9, 3, 4, 5, 2, 3, 7, 5, 2, 6, 0, 4, 8, 0, 1, 8, 5, 3, 3, 8, 7, 3, 4, 0, 6, 1, 6, 4, 8, 9, 1, 3, 5, 7, 7, 6, 2, 5, 3, 2, 9, 2, 9, 7, 5, 2, 2, 6, 1, 5, 6, 5, 1, 5, 4, 6, 0, 9, 6, 2, 3, 7, 7, 7, 7, 9, 0, 6, 0, 7, 1, 4, 6, 5, 0, 0, 1, 3, 3, 0, 9, 1, 3, 1, 4, 7, 7, 1, 4, 7, 7, 8, 2, 1, 2, 7, 7, 4, 2, 3, 1, 1, 4, 7, 7, 2, 8, 5, 8, 2, 9, 5, 0, 8, 2, 9, 7, 2, 9, 9, 0, 2, 4, 6, 0, 9, 6, 1, 6, 0, 1, 6, 4, 6, 3, 8, 8, 4, 7, 0, 8, 1, 9, 5, 2, 5, 1, 1, 8, 4, 8, 1, 7, 1, 8, 7, 9, 2, 9, 7, 7, 6, 5, 2, 0, 4, 2, 0, 7, 4, 6, 9, 8, 7, 5, 2, 4, 0, 7, 0, 0, 9, 8, 3, 3, 8, 7, 2, 6, 8, 4, 8, 1, 6, 3, 3, 8, 1, 5, 4, 4, 0, 7, 4, 8, 8, 9, 9, 7, 7, 0, 8, 0, 7, 5, 4, 9, 6, 3, 4, 8, 3, 1, 8, 0, 8, 7, 9, 3, 2, 5, 8, 5, 0, 9, 7, 1, 4, 9, 7, 2, 6, 8, 4, 1, 4, 0, 7, 7, 5, 0, 7, 5, 1, 3, 0, 7, 8, 4, 4, 0, 1, 7, 5, 4, 6, 2, 9, 5, 9, 8, 2, 2, 3, 5, 1, 5, 0, 0, 2, 4, 8, 6, 0, 4, 2, 4, 1, 7, 0, 9, 7, 3, 7, 0, 3, 2, 1, 9, 0, 5, 9, 0, 8, 4, 4, 6, 3, 4, 0, 8, 5, 1, 2, 1, 7, 1, 0, 4, 9, 1, 8, 1, 8, 7, 1, 9, 4, 4, 7, 2, 9, 1, 5, 5, 3, 1, 3, 2, 1, 1, 5, 1, 2, 5, 8, 5, 6, 3, 6, 1, 6, 2, 3, 2, 5, 0, 9, 4, 3, 3, 0, 7, 1, 7, 3, 9, 2, 8, 0, 2, 9, 3, 1, 1, 5, 2, 0, 2, 8, 0, 9, 2, 2, 1, 5, 3, 4, 7, 1, 2, 2, 4, 9, 8, 1, 1, 6, 7, 3, 8, 6, 1, 3, 8, 3, 8, 9, 7, 3, 0, 9, 7, 2, 7, 5, 2, 6, 9, 7, 4, 2, 5, 9, 3, 5, 9, 3, 3, 1, 3, 6, 1, 9, 0, 0, 2, 9, 5, 0, 7, 5, 9, 2, 0, 8, 9, 4, 4, 1, 6, 6, 8, 6, 6, 0, 0, 6, 9, 8, 9, 0, 6, 7, 1, 3, 2, 5, 6, 3, 2, 9, 5, 6, 1, 3, 1, 9, 8, 2, 2, 7, 3, 5, 0, 3, 8, 0, 6, 8, 4, 3, 1, 6, 8, 5, 3, 4, 4, 8, 5, 1, 3, 2, 6, 2, 6, 8, 5, 4, 2, 9, 0, 3, 0, 6, 3, 5, 9, 6, 0, 8, 9, 5, 0, 4, 2, 4, 7, 4, 8, 7, 7, 5, 5, 1, 2, 8, 1, 6, 8, 7, 6, 8, 9, 4, 9, 8, 7, 4, 4, 0, 9, 6, 1, 9, 4, 6, 5, 3, 5, 0, 2, 6, 6, 0, 3, 4, 7, 4, 7, 6, 6, 8, 5, 0, 8, 0, 4, 4, 7, 9, 4, 9, 8, 0, 3, 9, 5, 4, 3, 4, 3, 0, 2, 0, 8, 9, 5, 9, 3, 7, 3, 6, 5, 0, 4, 1, 5, 6, 6, 3, 0, 1, 7, 9, 0, 0, 0, 1, 5, 7, 8, 0, 5, 3, 6, 1, 0, 7, 5, 0, 9, 2, 2, 2, 8, 3, 6, 1, 1, 1, 5, 0, 5, 2, 7, 3, 6, 6, 3, 4, 1, 7, 6, 9, 9, 2, 1, 9, 0, 8, 1, 9, 7, 9, 9, 6, 3, 4, 6, 8, 8, 2, 5, 6, 9, 1, 9, 4, 2, 9, 7, 3, 8, 6, 2, 5, 0, 0, 5, 3, 3, 1, 8, 9, 0, 7, 0, 3, 4, 0, 1, 6, 4, 9, 9, 5, 2, 7, 3, 0, 4, 8, 8, 8, 7, 5, 7, 9, 3, 8, 5, 4, 2, 3, 2, 6, 9, 7, 7, 7, 6, 4, 6, 2, 4, 1, 4, 6, 8, 0, 2, 1, 3, 9, 1, 2, 9, 6, 0, 6, 9, 4, 2, 2, 8, 2, 2, 2, 6, 8, 5, 9, 8, 5, 4, 3, 0, 3, 7, 9, 9, 4, 1, 1, 2, 6, 3, 2, 8, 9, 9, 7, 9, 0, 3, 1, 8, 9, 1, 8, 9, 8, 8, 3, 2, 0, 0, 9, 1, 9, 8, 2, 3, 5, 2, 2, 9, 1, 3, 2, 5, 4, 7, 3, 0, 1, 3, 1, 6, 2, 3, 3, 6, 2, 6, 0, 7, 1, 1, 5, 6, 9, 1, 5, 4, 9, 1, 8, 0, 1, 6, 8, 3, 5, 6, 2, 6, 0, 2, 3, 7, 6, 2, 3, 8, 0, 6, 5, 3, 5, 5, 5, 1, 0, 4, 9, 2, 3, 4, 2, 3, 9, 1, 7, 5, 1, 3, 7, 8, 3, 9, 2, 8, 9, 6, 5, 7, 0, 7, 3, 7, 1, 8, 0, 8, 2, 1, 5, 0, 3, 0, 7, 0, 6, 4, 7, 6, 4, 8, 8, 1, 9, 1, 3, 5, 1, 7, 1, 8, 4, 4, 5, 8, 8, 6, 6, 3, 4, 0, 2, 7, 3, 7, 3, 3, 5, 6, 2, 7, 7, 4, 7, 4, 7, 1, 6, 9, 9, 5, 6, 4, 4, 4, 4, 0, 4, 0, 2, 5, 4, 8, 5, 2, 9, 8, 0, 3, 4, 2, 3, 4, 9, 9, 9, 0, 6, 7, 6, 6, 9, 0, 2, 0, 7, 4, 9, 4, 1, 4, 6, 3, 1, 8, 5, 3, 5, 5, 5, 4, 1, 1, 0, 6, 7, 8, 9, 7, 6, 3, 1, 4, 5, 3, 4, 0, 1, 0, 5, 1, 5, 1, 4, 6, 4, 1, 0, 1, 0, 9, 4, 4, 5, 6, 3, 7, 9, 2, 9, 5, 9, 8, 5, 2, 1, 6, 3, 9, 1, 1, 3, 8, 1, 1, 8, 1, 9, 4, 7, 7, 1, 6, 9, 6, 7, 1, 3, 8, 7, 5, 8, 1, 5, 8, 0, 8, 8, 1, 0, 2, 1, 3, 6, 8, 9, 8, 7, 3, 6, 0, 5, 8, 6, 1, 1, 1, 4, 8, 6, 3, 7, 4, 4, 7, 3, 9, 2, 4, 4, 3, 3, 8, 4, 7, 3, 9, 3, 0, 5, 0, 2, 3, 7, 6, 9, 3, 8, 2, 5, 8, 3, 9, 7, 2, 0, 6, 8, 3, 6, 0, 4, 4, 5, 0, 7, 0, 4, 0, 2, 2, 6, 0, 2, 9, 1, 2, 0, 5, 7, 3, 9, 3, 9, 0, 0, 5, 0, 3, 6, 1, 0, 9, 9, 7, 1, 1, 7, 2, 0, 8, 2, 6, 7, 8, 5, 2, 4, 3, 8, 1, 2, 1, 7, 8, 4, 6, 0, 2, 1, 1, 3, 2, 9, 0, 5, 9, 6, 3, 4, 4, 4, 5, 8, 4, 6, 5, 6, 0, 3, 0, 7, 9, 7, 7, 4, 8, 9, 3, 5, 0, 8, 8, 1, 8, 9, 6, 6, 0, 5, 9, 7, 0, 4, 8, 7, 7, 0, 3, 2, 5, 9, 2, 5, 5, 6, 9, 4, 2, 3, 0, 4, 7, 4, 0, 9, 7, 0, 6, 1, 2, 2, 6, 1, 8, 4, 2, 9, 3, 9, 9, 2, 9, 1, 8, 0, 0, 1, 0, 8, 0, 2, 9, 9, 7, 6, 0, 0, 6, 6, 5, 0, 6, 2, 9, 9, 7, 3, 1, 6, 8, 0, 6, 2, 8, 3, 8, 0, 7, 1, 7, 0, 9, 5, 4, 9, 2, 9, 9, 5, 4, 2, 1, 1, 9, 8, 6, 2, 1, 1, 9, 8, 5, 1, 9, 8, 6, 6, 1, 6, 4, 6, 4, 9, 8, 2, 3, 5, 1, 6, 9, 5, 7, 4, 3, 6, 2, 0, 2, 5, 5, 4, 2, 1, 6, 0, 1, 9, 7, 5, 0, 6, 8, 1, 2, 3, 3, 4, 7, 2, 6, 8, 0, 2, 8, 1, 5, 3, 1, 8, 9, 3, 4, 2, 3, 9, 6, 5, 2, 8, 5, 2, 8, 0, 4, 6, 0, 0, 5, 0, 9, 0, 5, 9, 8, 1, 2, 2, 7, 3, 1, 9, 5, 3, 6, 9, 6, 2, 7, 5, 5, 7, 7, 2, 2, 3, 2, 0, 1, 3, 8, 0, 5, 6, 8, 3, 5, 9, 8, 0, 0, 1, 7, 5, 5, 3, 4, 2, 9, 8, 9, 2, 7, 1, 3, 7, 4, 3, 3, 2, 8, 6, 8, 2, 4, 2, 0, 8, 6, 5, 6, 6, 9, 9, 3, 5, 0, 9, 9, 9, 7, 4, 0, 7, 3, 3, 8, 7, 8, 5, 3, 9, 6, 3, 4, 3, 9, 0, 1, 3, 0, 1, 0, 8, 1, 1, 7, 7, 7, 0, 9, 7, 9, 7, 9, 1, 7, 7, 1, 1, 6, 7, 3, 1, 6, 2, 8, 4, 6, 0, 0, 2, 0, 7, 0, 6, 1, 5, 7, 5, 3, 3, 4, 7, 4, 5, 7, 7, 2, 3, 2, 4, 5, 0, 4, 0, 2, 4, 0, 1, 8, 0, 5, 8, 0, 7, 2, 6, 7, 0, 9, 5, 5, 3, 3, 8, 7, 8, 1, 9, 6, 7, 2, 1, 3, 3, 7, 3, 9, 3, 4, 5, 1, 7, 4, 9, 4, 1, 6, 6, 4, 3, 1, 2, 8, 2, 6, 7, 7, 3, 6, 3, 0, 7, 4, 2, 3, 0, 6, 7, 4, 6, 3, 9, 1, 7, 2, 6, 4, 4, 1, 7, 8, 7, 9, 5, 8, 1, 4, 5, 6, 6, 2, 5, 9, 8, 6, 6, 6, 7, 1, 9, 4, 1, 8, 5, 5, 4, 3, 3, 7, 8, 7, 5, 0, 1, 7, 4, 8, 8, 1, 7, 8, 9, 8, 3, 4, 0, 4, 4, 7, 8, 5, 9, 7, 3, 5, 7, 3, 5, 3, 1, 7, 7, 3, 2, 7, 8, 8, 3, 5, 2, 3, 5, 3, 3, 1, 6, 3, 5, 1, 4, 7, 2, 5, 4, 3, 1, 4, 6, 6, 0, 7, 9, 6, 4, 2, 8, 6, 8, 4, 9, 6, 2, 2, 6, 0, 2, 1, 2, 8, 6, 3, 3, 1, 1, 2, 9, 9, 8, 9, 4, 5, 9, 5, 5, 2, 4, 7, 6, 9, 0, 1, 4, 7, 5, 1, 6, 6, 4, 1, 4, 4, 8, 8, 9, 1, 5, 1, 2, 8, 7, 6, 2, 5, 2, 6, 0, 6, 2, 1, 9, 6, 2, 1, 6, 1, 8, 7, 1, 5, 2, 8, 6, 1, 2, 0, 0, 0, 9, 6, 2, 3, 2, 4, 1, 1, 5, 2, 7, 6, 4, 5, 2, 5, 1, 7, 8, 9, 3, 2, 4, 6, 8, 6, 4, 0, 6, 5, 5, 6, 5, 9, 8, 4, 4, 1, 3, 7, 7, 8, 7, 2, 5, 6, 5, 7, 8, 3, 1, 9, 2, 2, 4, 8, 3, 7, 4, 8, 5, 2, 9, 3, 0, 5, 3, 2, 5, 2, 3, 3, 7, 0, 4, 7, 3, 0, 1, 2, 4, 9, 6, 7, 9, 2, 2, 4, 8, 8, 5, 1, 6, 6, 2, 1, 1, 0, 3, 3, 0, 0, 1, 5, 9, 4, 5, 7, 6, 8, 9, 7, 4, 4, 3, 5, 8, 5, 2, 0, 9, 7, 2, 9, 5, 8, 8, 2, 1, 8, 9, 9, 3, 5, 8, 2, 1, 2, 9, 3, 9, 9, 9, 6, 3, 7, 7, 3, 7, 4, 2, 5, 0, 9, 3, 3, 5, 8, 8, 1, 6, 3, 9, 9, 7, 3, 5, 0, 8, 5, 8, 6, 4, 6, 3, 6, 9, 7, 7, 7, 9, 7, 0, 0, 2, 1, 7, 6, 4, 2, 2, 7, 6, 4, 0, 6, 9, 8, 0, 1, 0, 6, 4, 9, 0, 1, 5, 2, 9, 9, 9, 0, 9, 3, 7, 2, 2, 9, 0, 1, 7, 1, 9, 6, 7, 9, 9, 4, 7, 0, 1, 6, 7, 0, 6, 9, 5, 6, 5, 5, 6, 3, 1, 4, 0, 7, 4, 0, 0, 4, 3, 5, 7, 0, 9, 9, 6, 7, 7, 6, 6, 2, 2, 4, 6, 9, 7, 4, 6, 4, 1, 8, 7, 5, 6, 2, 7, 4, 4, 4, 8, 6, 0, 1, 2, 6, 7, 4, 2, 4, 8, 4, 1, 7, 5, 4, 5, 1, 1, 5, 4, 1, 8, 9, 1, 6, 9, 3, 0, 5, 2, 8, 5, 1, 7, 0, 8, 5, 5, 2, 6, 2, 5, 2, 3, 6, 7, 2, 1, 9, 7, 5, 1, 6, 4, 0, 2, 0, 6, 8, 0, 0, 8, 7, 3, 4, 3, 8, 9, 4, 4, 9, 1, 8, 3, 9, 5, 8, 1, 7, 8, 6, 3, 5, 6, 4, 5, 8, 0, 1, 4, 4, 5, 2, 7, 8, 8, 4, 2, 7, 8, 2, 3, 3, 2, 5, 5, 7, 8, 8, 4, 5, 3, 6, 8, 1, 4, 2, 2, 2, 7, 9, 5, 8, 3, 5, 8, 6, 6, 5, 9, 5, 8, 1, 6, 3, 1, 8, 9, 2, 4, 3, 3, 3, 5, 8, 2, 0, 8, 5, 7, 4, 4, 2, 5, 0, 8, 5, 0, 2, 9, 1, 4, 6, 9, 2, 0, 5, 9, 0, 0, 3, 6, 0, 7, 8, 8, 3, 1, 6, 2, 9, 7, 1, 5, 5, 0, 8, 3, 2, 9, 8, 5, 1, 2, 3, 2, 2, 5, 9, 5, 1, 1, 2, 0, 6, 4, 9, 8, 6, 7, 6, 6, 7, 3, 9, 6, 5, 1, 4, 6, 8, 5, 7, 2, 6, 0, 4, 0, 8, 2, 1, 5, 5, 4, 5, 5, 6, 3, 6, 2, 3, 2, 5, 4, 4, 0, 7, 4, 5, 8, 2, 9, 0, 0, 4, 9, 0, 1, 4, 8, 0, 8, 6, 6, 9, 1, 8, 7, 4, 0, 1, 5, 5, 5, 4, 1, 2, 7, 3, 6, 7, 8, 2, 3, 6, 1, 1, 1, 6, 3, 6, 9, 6, 7, 4, 4, 6, 9, 9, 1, 5, 5, 3, 8, 7, 6, 7, 6, 1, 9, 3, 9, 0, 6, 2, 9, 3, 4, 2, 4, 3, 8, 0, 9, 6, 3, 2, 3, 4, 2, 2, 1, 8, 8, 6, 0, 8, 0, 4, 2, 0, 3, 1, 3, 0, 0, 9, 3, 9, 8, 6, 8, 4, 5, 3, 7, 0, 4, 4, 7, 0, 6, 3, 4, 3, 7, 3, 1, 3, 1, 5, 7, 4, 2, 6, 8, 3, 9, 0, 1, 6, 5, 7, 9, 9, 7, 8, 6, 4, 7, 0, 4, 1, 9, 5, 5, 3, 7, 8, 0, 3, 7, 7, 3, 4, 0, 3, 9, 6, 4, 1, 2, 1, 5, 2, 8, 3, 5, 2, 4, 2, 9, 7, 3, 5, 1, 5, 4, 3, 5, 4, 2, 5, 3, 1, 7, 3, 1, 7, 2, 3, 3, 9, 2, 4, 7, 8, 4, 6, 1, 2, 3, 9, 3, 7, 8, 4, 2, 7, 0, 3, 4, 0, 6, 2, 5, 4, 9, 8, 8, 5, 7, 1, 7, 3, 5, 8, 4, 7, 0, 1, 1, 7, 2, 8, 3, 6, 6, 7, 8, 4, 7, 0, 9, 6, 5, 6, 6, 4, 0, 8, 9, 8, 7, 4, 1, 5, 4, 6, 1, 7, 9, 8, 4, 4, 8, 1, 5, 2, 8, 4, 9, 5, 5, 3, 6, 0, 2, 5, 5, 5, 7, 0, 7, 9, 5, 3, 1, 3, 6, 2, 5, 2, 7, 7, 0, 4, 8, 1, 6, 6, 6, 5, 0, 5, 7, 4, 0, 6, 0, 4, 8, 5, 8, 6, 6, 2, 5, 0, 6, 8, 8, 6, 3, 7, 6, 4, 8, 0, 1, 5, 4, 4, 5, 0, 8, 5, 4, 5, 2, 7, 4, 3, 1, 9, 7, 9, 5, 8, 8, 2, 3, 9, 1, 2, 3, 2, 6, 1, 6, 6, 0, 4, 0, 8, 2, 3, 3, 4, 6, 9, 7, 9, 4, 1, 1, 8, 3, 2, 8, 6, 0, 2, 3, 0, 9, 6, 1, 3, 5, 7, 5, 7, 9, 4, 8, 9, 8, 0, 7, 1, 0, 1, 4, 8, 7, 1, 9, 0, 4, 0, 8, 5, 8, 0, 7, 7, 0, 5, 9, 1, 2, 8, 1, 2, 5, 6, 7, 6, 8, 8, 2, 8, 5, 4, 5, 5, 2, 4, 0, 6, 0, 4, 4, 9, 8, 6, 5, 1, 0, 2, 2, 5, 9, 9, 7, 1, 2, 1, 3, 2, 2, 5, 9, 9, 9, 5, 0, 5, 0, 4, 0, 0, 3, 5, 3, 5, 5, 8, 7, 1, 8, 9, 9, 3, 7, 0, 8, 1, 9, 9, 3, 2, 9, 2, 7, 9, 7, 6, 8, 9, 8, 3, 5, 9, 6, 7, 0, 7, 9, 8, 4, 0, 6, 1, 4, 8, 4, 3, 5, 6, 9, 4, 2, 6, 4, 8, 7, 4, 1, 6, 8, 7, 4, 5, 0, 1, 3, 4, 7, 4, 2, 3, 0, 8, 4, 8, 7, 1, 5, 9, 0, 8, 0, 9, 6, 5, 8, 0, 2, 5, 0, 3, 1, 9, 0, 3, 2, 0, 3, 6, 3, 6, 7, 6, 6, 2, 5, 7, 4, 4, 9, 9, 1, 2, 7, 2, 5, 6, 1, 2, 3, 2, 3, 1, 4, 8, 0, 5, 6, 3, 8, 9, 9, 0, 2, 1, 6, 6, 0, 0, 1, 1, 6, 6, 7, 4, 5, 7, 5, 7, 8, 4, 5, 0, 5, 7, 7, 6, 0, 1, 1, 5, 9, 9, 4, 1, 8, 5, 0, 6, 9, 7, 5, 0, 7, 3, 9, 6, 5, 5, 9, 2, 3, 8, 0, 2, 0, 3, 0, 7, 9, 5, 8, 3, 1, 5, 9, 2, 6, 5, 9, 9, 3, 3, 5, 7, 7, 6, 7, 6, 4, 6, 0, 8, 5, 9, 5, 4, 5, 5, 2, 6, 9, 6, 8, 6, 3, 1, 2, 8, 7, 3, 0]\n",
      "(9000, 10)\n",
      "0\n",
      "255\n",
      "[8, 5, 0, 6, 9, 2, 8, 3, 6, 2, 7, 4, 6, 9, 0, 0, 7, 3, 7, 2, 5, 6, 6, 0, 9, 6, 8, 6, 7, 2, 7, 5, 3, 3, 3, 0, 6, 5, 2, 0, 8, 8, 1, 5, 4, 0, 4, 1, 2, 4, 3, 2, 8, 5, 4, 2, 1, 1, 3, 5, 4, 2, 7, 7, 8, 2, 5, 3, 9, 9, 0, 6, 7, 2, 1, 5, 5, 2, 7, 1, 3, 8, 8, 5, 5, 4, 0, 5, 1, 8, 5, 3, 5, 6, 7, 9, 4, 0, 6, 7, 8, 5, 2, 4, 6, 0, 6, 1, 4, 7, 8, 3, 2, 6, 1, 6, 4, 3, 8, 1, 4, 3, 5, 4, 0, 2, 5, 0, 8, 9, 2, 3, 0, 4, 9, 6, 4, 4, 2, 3, 5, 6, 4, 3, 3, 2, 6, 4, 6, 2, 8, 3, 3, 3, 4, 1, 5, 4, 7, 3, 6, 8, 1, 3, 5, 9, 7, 9, 1, 0, 7, 5, 9, 4, 3, 7, 9, 6, 5, 7, 0, 9, 8, 2, 3, 5, 7, 9, 0, 2, 0, 7, 4, 6, 3, 1, 3, 1, 8, 1, 5, 5, 7, 3, 3, 0, 4, 5, 3, 8, 3, 9, 2, 9, 1, 3, 2, 0, 7, 8, 2, 8, 1, 7, 9, 6, 2, 8, 8, 9, 7, 9, 9, 0, 3, 7, 0, 8, 6, 8, 6, 9, 0, 4, 1, 1, 8, 7, 9, 7, 9, 7, 3, 4, 6, 3, 0, 0, 6, 8, 2, 3, 0, 6, 9, 0, 2, 0, 6, 3, 4, 3, 2, 1, 4, 0, 4, 5, 6, 5, 4, 3, 4, 2, 2, 2, 2, 0, 8, 3, 8, 7, 5, 6, 4, 0, 9, 6, 8, 7, 8, 3, 0, 4, 1, 9, 4, 1, 2, 7, 6, 1, 1, 1, 7, 5, 6, 2, 2, 0, 5, 4, 5, 2, 6, 4, 3, 1, 0, 3, 3, 1, 6, 6, 0, 3, 1, 3, 3, 3, 4, 4, 4, 4, 3, 3, 3, 7, 5, 0, 8, 1, 8, 1, 9, 0, 7, 7, 8, 8, 8, 5, 6, 4, 7, 5, 1, 3, 1, 7, 8, 3, 6, 4, 4, 8, 1, 6, 3, 0, 9, 1, 5, 0, 6, 9, 6, 5, 9, 7, 3, 1, 7, 0, 5, 8, 0, 3, 0, 7, 8, 3, 9, 2, 0, 8, 4, 4, 6, 4, 3, 4, 4, 3, 5, 5, 5, 7, 3, 8, 9, 5, 5, 7, 0, 3, 2, 9, 9, 7, 9, 3, 6, 7, 0, 4, 7, 6, 1, 4, 1, 9, 1, 7, 1, 5, 4, 3, 3, 0, 4, 5, 0, 1, 0, 8, 9, 2, 0, 8, 5, 8, 9, 1, 7, 3, 8, 8, 2, 3, 4, 0, 9, 0, 0, 1, 7, 5, 5, 8, 6, 9, 6, 5, 5, 4, 1, 6, 3, 7, 2, 8, 8, 5, 1, 5, 3, 1, 4, 7, 8, 6, 8, 6, 6, 3, 6, 3, 8, 8, 1, 4, 5, 1, 6, 4, 9, 9, 9, 9, 3, 4, 3, 0, 3, 3, 2, 6, 3, 3, 8, 3, 0, 2, 3, 6, 1, 0, 2, 0, 8, 6, 5, 4, 7, 2, 1, 2, 6, 1, 7, 2, 9, 4, 1, 0, 2, 1, 2, 9, 2, 6, 5, 2, 4, 7, 0, 7, 0, 3, 2, 3, 2, 4, 0, 4, 7, 3, 9, 2, 2, 7, 6, 3, 0, 4, 6, 9, 4, 2, 7, 3, 1, 3, 8, 1, 8, 6, 8, 9, 9, 3, 0, 5, 8, 1, 0, 7, 4, 6, 4, 0, 8, 9, 7, 5, 1, 8, 7, 1, 8, 2, 0, 6, 3, 3, 3, 5, 6, 4, 3, 3, 3, 2, 9, 9, 9, 1, 3, 3, 4, 6, 4, 1, 5, 2, 7, 5, 3, 1, 8, 2, 8, 9, 4, 4, 2, 9, 0, 4, 2, 1, 8, 6, 8, 9, 6, 1, 8, 5, 9, 2, 5, 2, 1, 9, 9, 8, 7, 9, 1, 7, 0, 9, 5, 3, 0, 6, 5, 6, 7, 3, 5, 9, 0, 2, 2, 9, 4, 7, 2, 7, 8, 2, 3, 8, 6, 7, 0, 0, 0, 8, 2, 9, 3, 5, 8, 6, 9, 8, 9, 3, 0, 0, 2, 1, 8, 8, 8, 9, 4, 1, 5, 5, 6, 9, 1, 2, 7, 8, 8, 7, 1, 0, 7, 1, 1, 5, 7, 8, 1, 0, 1, 1, 2, 6, 8, 7, 0, 0, 3, 1, 8, 0, 1, 9, 6, 6, 5, 4, 3, 6, 4, 7, 1, 6, 5, 1, 4, 2, 7, 1, 4, 1, 3, 4, 8, 9, 6, 6, 0, 7, 7, 2, 5, 0, 1, 2, 4, 9, 6, 5, 6, 6, 9, 2, 3, 5, 7, 5, 4, 1, 8, 0, 6, 4, 0, 0, 2, 7, 3, 6, 8, 4, 0, 9, 4, 9, 4, 1, 6, 0, 4, 4, 0, 1, 5, 5, 2, 2, 1, 8, 2, 1, 1, 2, 7, 6, 7, 3, 2, 9, 0, 6, 9, 9, 1, 1, 1, 2, 5, 5, 0, 8, 2, 1, 1, 8, 3, 9, 4, 4, 3, 8, 1, 8, 2, 3, 6, 7, 2, 6, 3, 7, 7, 6, 7, 6, 4, 8, 4, 0, 3, 7, 9, 1, 1, 1, 8, 5, 7, 9, 0, 7, 4, 5, 4, 1, 2, 8, 0, 1, 9, 8, 1, 9, 0, 3, 3, 6, 3, 6, 5, 4, 0, 9, 6, 6, 0, 3, 6, 1, 3, 1, 6, 6, 8, 1, 5, 5, 5, 2, 8, 9, 9, 6, 8, 9, 4, 8, 6, 1, 5, 3, 8, 9, 4, 2, 8, 2, 7, 3, 8, 3, 4, 3, 4, 4, 3, 0, 1, 7, 6, 0, 9, 6, 0, 6, 4, 7, 0, 6, 5, 0, 8, 0, 6, 4, 1, 7, 2, 5, 7, 6, 1, 9, 2, 0, 7, 8, 0, 7, 4, 1, 6, 8, 5, 7, 9, 5, 9, 5, 0, 8, 1, 3, 4, 3, 2, 6, 1, 4, 3, 0, 6, 7, 8, 1, 8, 5, 6, 2, 6, 4, 2, 5, 8, 6, 6, 2, 2, 4, 8, 0, 0, 9, 5, 6, 4, 3, 8, 7, 4, 3, 0, 3, 1, 2, 8, 5, 7, 5, 5, 2, 0, 9, 4, 9, 4, 7, 3, 0, 6, 1, 0, 5, 2, 5, 4, 6, 1, 4, 7, 7, 6, 3, 7, 0, 1, 5, 2, 6, 0, 9, 1, 0, 7, 6, 9, 2, 7, 7, 2, 3, 1, 0, 3, 7, 7, 7, 9, 8, 1, 7, 9, 2, 3, 4, 1, 0, 7, 9, 3, 8, 5, 6, 5, 5, 5, 9, 5, 2, 6, 9, 8, 2, 7, 1, 9, 2, 8, 1, 1, 0, 0, 2, 6, 3, 5, 1, 1, 1, 1, 1, 1, 6, 3, 8, 0, 9, 8, 4, 2, 2, 8, 8, 0, 2, 2, 8, 9, 4, 8, 4, 3, 8, 4, 6, 1, 5, 1, 1, 9, 6, 9, 7, 5, 4, 4, 2, 5, 4, 6, 3, 4, 0, 1, 4, 5, 1, 6, 4, 8, 9, 0, 2, 1, 3, 2, 9, 2, 7, 9, 9, 5, 1, 6, 0, 1, 9, 5, 9, 4, 2, 2, 7, 8, 0, 6, 4, 1, 0, 0, 5, 1, 5, 9, 9, 1, 3, 2, 8, 9, 0, 7, 1, 8, 2, 0, 8, 3, 4, 4, 8, 4, 7, 3, 8, 5, 0, 4, 5, 2, 8, 6, 5, 5, 8, 7, 7, 1, 5, 0, 9, 3, 0, 7, 3, 5, 5, 1, 4, 9, 1, 2, 2, 5, 3, 0, 9, 9, 9, 6, 1, 8, 8, 8, 0, 8, 3, 9, 7, 7, 4, 4, 0, 0, 4, 0, 1, 0, 6, 8, 6, 7, 3, 2, 7, 5, 8, 5, 2, 0, 4, 7, 5, 3, 4, 1, 7, 9, 1, 2, 1, 9, 7, 9, 8, 0, 8, 7, 4, 8, 7, 7, 0, 4, 3, 2, 6, 9, 3, 5, 7, 4, 9, 5, 6, 6, 6, 0, 8, 6, 2, 4, 2, 3, 7, 3, 1, 5, 7, 9, 3, 8, 9, 9, 8, 7, 5, 9, 7, 4, 8, 1, 4, 0, 0, 7, 4, 9, 4, 2, 0, 7, 8, 7, 1, 1, 2, 3, 9, 3, 2, 0, 4, 9, 1, 9, 7, 7, 9, 2, 0, 8, 3, 1, 4, 1, 4, 3, 5, 1, 1, 6, 4, 2, 8, 5, 1, 7, 8, 8, 2, 8, 6, 5, 1, 6, 0, 0, 7, 2, 8, 8, 9, 2, 6, 1, 5, 5, 8, 2, 4, 4, 1, 8, 8, 0, 3, 4, 9, 3, 6, 8, 5, 0, 0, 3, 0, 9, 9, 0, 4, 1, 6, 2, 8, 9, 8, 4, 6, 7, 8, 8, 9, 2, 2, 0, 9, 2, 2, 4, 7, 5, 4, 9, 6, 1, 8, 2, 3, 5, 8, 2, 8, 9, 9, 7, 6, 3, 9, 7, 2, 6, 8, 9, 3, 9, 9, 9, 2, 0, 9, 3, 4, 2, 3, 1, 1, 1, 0, 2, 0, 5, 7, 3, 9, 1, 0, 1, 8, 9, 5, 3, 8, 8, 1, 5, 3, 2, 3, 3, 7, 5, 9, 5, 7, 1, 9, 6, 5, 9, 1, 0, 8, 4, 3, 8, 5, 4, 9, 6, 0, 3, 9, 7, 2, 3, 8, 6, 6, 4, 9, 9, 1, 5, 2, 6, 7, 2, 2, 9, 1, 0, 5, 8, 4, 5, 7, 9, 7, 0, 4, 1, 0, 3, 4, 8, 9, 5, 8, 6, 7, 9, 1, 5, 7, 9, 4, 6, 6, 7, 2, 1, 3, 4, 1, 9, 4, 2, 1, 9, 0, 0, 8, 6, 2, 8, 0, 3, 7, 4, 2, 6, 9, 8, 0, 9, 4, 2, 1, 3, 1, 2, 3, 2, 7, 9, 4, 7, 1, 1, 2, 8, 8, 4, 8, 2, 5, 5, 8, 3, 6, 0, 1, 4, 5, 5, 8, 9, 8, 5, 9, 4, 1, 3, 3, 9, 5, 9, 7, 7, 4, 4, 7, 9, 3, 6, 8, 9, 2, 4, 3, 6, 5, 1, 5, 4, 5, 8, 2, 3, 9, 9, 7, 8, 6, 7, 6, 1, 0, 6, 0, 3, 2, 5, 3, 3, 9, 6, 3, 0, 4, 5, 7, 3, 5, 9, 3, 5, 8, 7, 0, 3, 9, 2, 6, 2, 3, 2, 7, 1, 4, 7, 8, 6, 4, 0, 8, 0, 0, 8, 6, 8, 2, 9, 5, 4, 3, 8, 4, 4, 7, 0, 9, 5, 0, 2, 4, 5, 4, 0, 3, 7, 8, 9, 7, 4, 4, 6, 6, 5, 9, 4, 1, 1, 5, 0, 9, 6, 9, 8, 0, 5, 2, 6, 6, 1, 5, 5, 6, 8, 1, 7, 0, 7, 9, 3, 2, 7, 7, 7, 8, 2, 0, 3, 3, 6, 1, 8, 6, 3, 7, 5, 3, 2, 9, 4, 5, 8, 2, 8, 7, 8, 4, 6, 9, 1, 2, 1, 3, 7, 4, 9, 5, 8, 7, 5, 2, 2, 1, 8, 0, 3, 0, 9, 2, 4, 0, 1, 1, 6, 3, 0, 7, 7, 1, 0, 5, 8, 0, 3, 9, 8, 2, 2, 9, 1, 5, 1, 7, 0, 1, 9, 9, 4, 2, 3, 4, 2, 8, 7, 0, 7, 8, 2, 9, 6, 3, 5, 5, 4, 3, 3, 5, 5, 6, 7, 8, 5, 3, 2, 9, 0, 2, 9, 7, 5, 4, 0, 8, 0, 1, 6, 6, 8, 6, 1, 9, 2, 6, 2, 8, 5, 0, 4, 1, 3, 4, 4, 4, 3, 8, 9, 4, 6, 5, 6, 1, 9, 5, 3, 7, 0, 6, 4, 7, 9, 3, 6, 1, 8, 2, 0, 0, 1, 5, 4, 6, 4, 2, 3, 0, 1, 1, 5, 2, 9, 6, 3, 3, 1, 9, 7, 7, 5, 0, 8, 9, 8, 1, 6, 5, 6, 4, 2, 3, 3, 9, 8, 3, 2, 1, 2, 7, 9, 9, 4, 7, 2, 5, 8, 8, 9, 3, 0, 6, 3, 6, 3, 7, 2, 9, 0, 2, 7, 1, 9, 6, 0, 1, 3, 1, 6, 2, 7, 5, 1, 3, 4, 9, 7, 4, 1, 1, 8, 4, 6, 5, 1, 5, 0, 1, 8, 6, 6, 1, 6, 7, 1, 3, 1, 5, 2, 9, 7, 9, 7, 5, 0, 6, 6, 5, 0, 6, 5, 6, 1, 1, 1, 9, 6, 1, 8, 9, 8, 7, 4, 5, 6, 6, 9, 5, 2, 3, 7, 2, 1, 0, 3, 1, 0, 6, 2, 7, 7, 9, 0, 5, 7, 7, 2, 0, 4, 3, 7, 9, 7, 0, 7, 5, 8, 4, 9, 3, 7, 4, 7, 4, 9, 8, 0, 3, 4, 1, 0, 8, 4, 4, 9, 1, 9, 4, 1, 2, 9, 6, 5, 0, 9, 3, 9, 1, 0, 1, 9, 0, 2, 7, 2, 3, 8, 4, 5, 1, 6, 8, 0, 7, 7, 9, 9, 4, 5, 4, 9, 9, 5, 0, 0, 6, 4, 3, 0, 4, 9, 9, 7, 9, 0, 7, 4, 4, 7, 4, 9, 7, 9, 3, 4, 2, 1, 4, 8, 2, 3, 1, 8, 7, 9, 1, 7, 3, 5, 5, 3, 1, 2, 5, 4, 3, 5, 9, 8, 5, 6, 6, 0, 3, 9, 4, 6, 4, 3, 3, 4, 4, 2, 0, 2, 3, 9, 3, 0, 8, 6, 0, 0, 4, 6, 1, 8, 6, 0, 1, 6, 7, 8, 1, 1, 0, 7, 3, 4, 2, 0, 6, 3, 2, 2, 2, 6, 6, 4, 9, 0, 2, 4, 5, 6, 7, 1, 0, 3, 6, 9, 2, 1, 0, 8, 5, 3, 1, 0, 5, 1, 2, 0, 7, 2, 9, 7, 2, 1, 9, 1, 0, 4, 7, 0, 5, 2, 7, 7, 7, 0, 7, 6, 0, 9, 2, 6, 9, 1, 1, 5, 6, 5, 6, 8, 7, 5, 4, 7, 6, 9, 6, 9, 1, 0, 6, 4, 6, 6, 5, 6, 5, 1, 7, 4, 4, 6, 6, 3, 1, 9, 9, 3, 4, 0, 4, 1, 2, 8, 2, 2, 3, 4, 1, 7, 7, 1, 0, 6, 4, 4, 5, 1, 6, 5, 4, 5, 6, 1, 1, 1, 2, 7, 1, 8, 8, 3, 7, 6, 7, 3, 5, 0, 8, 0, 3, 5, 3, 7, 9, 5, 4, 0, 1, 3, 1, 1, 5, 5, 3, 8, 5, 6, 7, 5, 4, 2, 9, 5, 0, 5, 1, 4, 6, 8, 2, 9, 4, 7, 5, 2, 9, 2, 0, 1, 1, 9, 3, 7, 8, 3, 7, 0, 2, 3, 4, 8, 3, 9, 8, 9, 3, 4, 5, 5, 8, 1, 5, 1, 9, 6, 8, 5, 1, 4, 3, 9, 5, 3, 7, 2, 5, 6, 3, 1, 4, 8, 5, 9, 2, 8, 9, 4, 1, 1, 7, 6, 1, 8, 3, 0, 3, 2, 4, 2, 2, 3, 4, 8, 2, 1, 3, 8, 4, 7, 0, 1, 3, 8, 6, 7, 7, 6, 1, 6, 8, 1, 1, 6, 2, 4, 8, 9, 2, 0, 7, 3, 9, 4, 1, 4, 5, 3, 3, 6, 8, 1, 1, 7, 3, 9, 0, 5, 6, 3, 2, 3, 2, 1, 3, 7, 6, 3, 7, 2, 2, 6, 9, 7, 4, 8, 3, 8, 0, 4, 8, 4, 8, 8, 7, 1, 2, 0, 8, 5, 2, 7, 3, 2, 7, 1, 8, 9, 7, 8, 7, 2, 2, 0, 9, 4, 1, 0, 0, 6, 3, 7, 5, 9, 7, 8, 4, 2, 4, 3, 4, 0, 9, 7, 7, 7, 1, 0, 9, 5, 6, 5, 9, 3, 8, 1, 9, 3, 2, 6, 0, 4, 9, 8, 0, 4, 7, 0, 8, 5, 9, 9, 7, 6, 7, 1, 5, 1, 1, 3, 8, 3, 9, 3, 0, 5, 2, 8, 7, 6, 5, 2, 4, 0, 1, 2, 4, 7, 5, 0, 5, 8, 4, 0, 9, 6, 7, 0, 1, 0, 2, 0, 0, 9, 3, 8, 1, 4, 0, 3, 3, 2, 7, 7, 8, 7, 5, 2, 6, 1, 4, 8, 0, 8, 5, 0, 4, 9, 9, 4, 6, 5, 7, 0, 7, 2, 4, 2, 2, 7, 5, 2, 2, 2, 6, 8, 5, 2, 7, 4, 7, 5, 4, 4, 1, 6, 1, 3, 4, 4, 8, 6, 9, 1, 2, 9, 5, 8, 3, 8, 3, 1, 1, 6, 4, 5, 6, 3, 0, 2, 5, 7, 0, 8, 5, 8, 0, 3, 5, 2, 2, 7, 4, 8, 6, 6, 6, 1, 7, 1, 8, 7, 3, 3, 6, 0, 2, 4, 0, 0, 6, 9, 2, 6, 9, 7, 9, 2, 3, 2, 8, 7, 8, 5, 9, 1, 1, 1, 5, 4, 7, 1, 4, 1, 4, 3, 8, 6, 1, 5, 2, 3, 1, 5, 2, 6, 4, 4, 6, 5, 2, 3, 2, 0, 2, 7, 0, 5, 8, 3, 3, 7, 5, 7, 3, 9, 4, 0, 1, 6, 3, 8, 6, 2, 3, 3, 1, 3, 2, 5, 7, 6, 0, 2, 0, 5, 2, 6, 5, 9, 0, 1, 7, 1, 6, 4, 7, 8, 6, 5, 3, 7, 5, 7, 5, 7, 2, 9, 1, 1, 7, 4, 2, 0, 3, 1, 0, 5, 6, 6, 5, 5, 3, 3, 9, 3, 9, 9, 3, 8, 9, 3, 3, 0, 9, 6, 7, 7, 3, 1, 2, 5, 3, 7, 9, 1, 5, 1, 0, 6, 5, 7, 1, 4, 8, 4, 6, 8, 4, 9, 0, 1, 2, 8, 7, 9, 1, 7, 9, 2, 5, 0, 4, 4, 7, 2, 0, 6, 4, 0, 4, 4, 0, 2, 1, 8, 2, 5, 3, 7, 4, 1, 1, 1, 4, 6, 2, 2, 9, 4, 0, 8, 0, 3, 9, 4, 0, 1, 5, 7, 9, 0, 2, 0, 6, 1, 5, 6, 9, 0, 8, 1, 4, 2, 1, 0, 4, 3, 9, 1, 0, 4, 9, 0, 6, 6, 3, 9, 4, 6, 8, 1, 3, 7, 0, 6, 7, 2, 5, 6, 2, 5, 0, 5, 8, 5, 9, 3, 8, 6, 6, 1, 7, 6, 5, 0, 4, 1, 5, 1, 0, 2, 3, 2, 3, 6, 5, 3, 2, 2, 4, 4, 8, 2, 9, 4, 0, 4, 0, 8, 8, 6, 3, 6, 8, 6, 6, 1, 9, 5, 9, 5, 5, 3, 2, 0, 6, 7, 0, 1, 6, 2, 9, 3, 6, 0, 1, 6, 8, 8, 9, 3, 0, 3, 9, 1, 8, 2, 5, 3, 5, 3, 2, 7, 8, 0, 1, 2, 9, 6, 7, 7, 4, 4, 6, 3, 9, 2, 1, 7, 9, 1, 6, 6, 3, 5, 2, 8, 8, 5, 1, 6, 8, 6, 0, 1, 0, 2, 2, 1, 4, 5, 0, 1, 2, 9, 7, 3, 9, 7, 0, 8, 5, 5, 0, 5, 8, 7, 4, 6, 2, 0, 8, 5, 5, 7, 4, 2, 3, 1, 4, 1, 6, 0, 1, 7, 3, 1, 8, 4, 8, 3, 1, 7, 8, 5, 5, 6, 2, 1, 4, 7, 1, 8, 8, 6, 2, 3, 8, 1, 0, 2, 4, 0, 9, 7, 5, 3, 9, 6, 4, 1, 5, 5, 3, 7, 2, 5, 3, 0, 2, 9, 9, 6, 0, 7, 4, 1, 5, 3, 6, 4, 3, 0, 4, 3, 6, 8, 7, 1, 3, 7, 1, 2, 7, 3, 8, 5, 6, 3, 9, 8, 5, 9, 1, 4, 1, 3, 4, 1, 8, 8, 2, 9, 5, 3, 9, 2, 2, 7, 9, 7, 2, 8, 3, 7, 0, 7, 9, 1, 8, 9, 9, 7, 9, 3, 8, 7, 4, 7, 1, 8, 1, 3, 2, 5, 1, 5, 8, 0, 8, 3, 6, 6, 9, 3, 4, 6, 4, 7, 7, 1, 9, 4, 5, 9, 4, 1, 6, 2, 9, 8, 2, 7, 1, 2, 2, 3, 5, 4, 8, 0, 3, 4, 8, 7, 1, 9, 9, 5, 1, 4, 6, 7, 3, 6, 4, 9, 5, 6, 0, 3, 6, 8, 6, 3, 0, 3, 1, 3, 7, 3, 9, 8, 5, 0, 6, 2, 3, 6, 1, 5, 4, 4, 2, 1, 9, 0, 8, 9, 3, 7, 9, 5, 8, 6, 1, 8, 3, 9, 6, 6, 6, 2, 7, 2, 3, 6, 0, 4, 4, 9, 1, 4, 1, 9, 9, 1, 9, 3, 1, 5, 9, 8, 7, 8, 5, 8, 1, 8, 2, 2, 3, 9, 4, 0, 4, 5, 0, 2, 6, 2, 2, 8, 4, 7, 5, 6, 5, 4, 3, 0, 1, 9, 3, 8, 9, 4, 6, 6, 9, 8, 4, 4, 3, 4, 1, 0, 6, 8, 0, 5, 3, 7, 0, 7, 9, 5, 1, 7, 0, 2, 2, 5, 2, 2, 8, 3, 6, 1, 7, 6, 5, 1, 7, 7, 0, 2, 8, 5, 4, 4, 8, 1, 5, 6, 6, 5, 2, 6, 6, 0, 5, 1, 4, 3, 6, 0, 1, 2, 9, 4, 1, 8, 8, 3, 2, 8, 6, 8, 3, 6, 7, 5, 4, 1, 7, 1, 6, 9, 9, 2, 3, 5, 9, 5, 5, 2, 2, 8, 7, 9, 6, 1, 8, 0, 8, 8, 9, 6, 7, 8, 8, 4, 9, 7, 7, 1, 6, 9, 0, 6, 8, 3, 7, 2, 5, 2, 3, 3, 4, 6, 6, 3, 8, 6, 2, 1, 7, 7, 1, 0, 4, 4, 6, 6, 1, 9, 7, 0, 4, 7, 9, 5, 9, 6, 8, 6, 5, 7, 7, 3, 5, 9, 8, 7, 7, 6, 0, 6, 8, 2, 9, 4, 1, 2, 4, 4, 5, 8, 5, 2, 7, 0, 9, 1, 9, 1, 7, 2, 9, 0, 2, 4, 4, 2, 9, 3, 0, 0, 5, 1, 5, 9, 5, 8, 0, 5, 8, 2, 4, 8, 2, 0, 7, 7, 2, 6, 9, 6, 8, 7, 6, 0, 1, 6, 9, 3, 5, 3, 6, 2, 8, 5, 3, 2, 6, 6, 7, 3, 9, 3, 1, 6, 2, 6, 8, 6, 1, 7, 1, 5, 9, 1, 3, 2, 9, 7, 2, 9, 5, 9, 8, 5, 8, 9, 7, 8, 4, 9, 8, 0, 5, 6, 3, 8, 4, 0, 4, 8, 5, 2, 4, 7, 6, 0, 6, 4, 9, 7, 9, 1, 7, 0, 4, 5, 8, 9, 9, 6, 3, 6, 3, 6, 8, 8, 0, 1, 5, 9, 6, 3, 7, 5, 2, 0, 5, 7, 4, 6, 0, 5, 9, 7, 7, 0, 6, 2, 1, 4, 0, 4, 8, 7, 6, 0, 0, 9, 8, 5, 5, 5, 5, 0, 0, 1, 3, 0, 9, 5, 7, 1, 9, 4, 3, 4, 4, 8, 9, 8, 6, 0, 4, 3, 0, 4, 8, 7, 7, 0, 5, 1, 1, 7, 7, 0, 1, 8, 8, 9, 9, 7, 2, 7, 8, 9, 0, 0, 5, 1, 0, 7, 4, 0, 8, 9, 3, 8, 3, 7, 9, 3, 0, 1, 8, 0, 7, 9, 4, 8, 8, 8, 7, 5, 9, 6, 9, 6, 4, 7, 6, 4, 8, 3, 3, 9, 1, 6, 7, 8, 0, 7, 8, 9, 1, 6, 1, 5, 0, 1, 1, 5, 7, 9, 2, 5, 8, 9, 7, 7, 2, 6, 3, 5, 6, 5, 6, 2, 2, 4, 1, 3, 1, 0, 7, 9, 6, 7, 1, 2, 9, 4, 1, 6, 3, 1, 4, 0, 6, 7, 5, 3, 4, 2, 6, 8, 5, 3, 5, 2, 2, 0, 8, 4, 6, 6, 9, 4, 1, 8, 9, 8, 3, 0, 8, 7, 5, 4, 1, 7, 5, 0, 8, 3, 9, 5, 3, 0, 9, 3, 5, 1, 1, 0, 4, 3, 6, 7, 4, 9, 9, 3, 7, 4, 3, 3, 0, 3, 0, 6, 9, 2, 1, 7, 3, 5, 2, 1, 9, 1, 9, 7, 7, 7, 5, 2, 3, 1, 2, 0, 0, 3, 5, 1, 7, 7, 9, 5, 9, 2, 3, 9, 2, 4, 4, 3, 5, 1, 8, 4, 1, 9, 1, 1, 8, 4, 3, 9, 6, 7, 0, 7, 8, 7, 9, 5, 0, 0, 8, 3, 2, 8, 9, 2, 3, 9, 4, 1, 2, 9, 3, 0, 3, 2, 1, 9, 3, 9, 0, 4, 3, 3, 8, 4, 8, 9, 9, 7, 9, 7, 7, 3, 8, 0, 8, 0, 2, 5, 3, 3, 0, 8, 6, 0, 5, 3, 9, 4, 1, 1, 0, 3, 0, 9, 2, 9, 6, 3, 1, 5, 1, 7, 4, 3, 9, 5, 8, 5, 7, 5, 8, 8, 9, 2, 3, 2, 1, 8, 8, 8, 7, 8, 6, 0, 6, 1, 3, 3, 9, 8, 1, 9, 5, 3, 6, 6, 1, 0, 7, 5, 1, 9, 0, 8, 2, 2, 8, 2, 0, 2, 4, 7, 9, 3, 9, 6, 3, 8, 0, 6, 7, 9, 8, 6, 8, 6, 6, 9, 3, 5, 1, 3, 3, 1, 2, 5, 7, 6, 2, 1, 2, 8, 9, 6, 4, 1, 7, 3, 5, 2, 9, 0, 6, 9, 6, 8, 1, 2, 1, 1, 4, 4, 2, 1, 6, 5, 7, 1, 0, 4, 6, 6, 7, 9, 7, 4, 7, 5, 4, 1, 4, 6, 5, 5, 9, 9, 1, 9, 6, 4, 8, 0, 9, 2, 1, 0, 0, 0, 7, 8, 6, 3, 1, 2, 4, 6, 7, 1, 1, 8, 8, 2, 9, 5, 6, 3, 8, 9, 6, 1, 8, 6, 5, 1, 0, 8, 5, 1, 6, 4, 0, 1, 7, 1, 5, 9, 1, 6, 9, 0, 3, 5, 5, 9, 3, 4, 6, 4, 5, 9, 7, 6, 2, 5, 8, 9, 3, 4, 0, 9, 6, 2, 5, 9, 0, 5, 7, 8, 1, 3, 9, 3, 0, 2, 3, 1, 3, 1, 5, 5, 0, 1, 9, 5, 9, 7, 8, 3, 0, 8, 0, 5, 5, 6, 0, 0, 5, 3, 6, 0, 0, 8, 5, 3, 0, 2, 0, 7, 4, 7, 7, 9, 2, 0, 1, 8, 4, 5, 2, 5, 1, 6, 0, 3, 1, 8, 0, 9, 6, 7, 9, 2, 4, 6, 0, 4, 6, 1, 2, 1, 6, 3, 2, 0, 4, 7, 9, 9, 2, 9, 3, 8, 2, 8, 5, 7, 1, 6, 4, 0, 4, 7, 6, 6, 1, 8, 7, 1, 2, 4, 6, 2, 5, 3, 8, 9, 2, 8, 7, 5, 1, 5, 3, 8, 0, 1, 0, 4, 7, 1, 8, 5, 9, 4, 8, 8, 2, 9, 5, 3, 2, 1, 1, 4, 2, 1, 2, 7, 7, 1, 8, 7, 5, 9, 6, 0, 9, 6, 6, 1, 8, 5, 9, 1, 4, 1, 5, 0, 5, 3, 0, 0, 9, 9, 5, 2, 6, 4, 7, 2, 8, 0, 5, 4, 7, 5, 0, 7, 8, 6, 0, 1, 4, 0, 1, 5, 7, 3, 6, 1, 0, 3, 9, 4, 4, 8, 1, 1, 4, 9, 6, 5, 2, 0, 2, 7, 9, 3, 1, 1, 1, 9, 0, 1, 7, 5, 7, 4, 0, 9, 3, 6, 5, 8, 2, 6, 0, 5, 7, 3, 1, 3, 8, 8, 3, 1, 0, 7, 2, 9, 3, 4, 7, 7, 5, 2, 6, 8, 1, 1, 0, 4, 0, 4, 5, 8, 0, 8, 0, 1, 1, 0, 7, 4, 1, 7, 3, 3, 7, 0, 9, 1, 9, 9, 0, 3, 1, 8, 9, 2, 3, 7, 7, 9, 9, 1, 2, 3, 9, 1, 7, 0, 2, 4, 1, 6, 9, 5, 8, 4, 8, 8, 2, 3, 6, 2, 5, 9, 0, 9, 0, 0, 2, 0, 7, 6, 9, 5, 6, 5, 5, 3, 4, 1, 2, 5, 9, 4, 4, 6, 0, 5, 5, 4, 1, 3, 3, 0, 3, 2, 6, 6, 6, 4, 7, 0, 0, 1, 0, 1, 0, 7, 9, 2, 0, 4, 5, 8, 8, 0, 3, 8, 9, 2, 0, 3, 8, 7, 2, 0, 6, 5, 5, 3, 3, 2, 3, 7, 9, 2, 5, 9, 0, 5, 7, 8, 6, 9, 2, 0, 0, 6, 9, 6, 1, 3, 3, 6, 7, 9, 9, 6, 3, 2, 0, 2, 4, 9, 2, 8, 5, 2, 6, 5, 0, 1, 2, 8, 3, 0, 3, 8, 0, 5, 0, 2, 3, 7, 8, 8, 8, 1, 5, 0, 8, 8, 1, 7, 4, 9, 2, 2, 2, 1, 3, 4, 2, 4, 3, 2, 6, 7, 6, 7, 4, 7, 8, 9, 2, 4, 0, 0, 0, 7, 0, 5, 4, 2, 4, 6, 3, 0, 3, 4, 2, 4, 1, 6, 6, 4, 8, 7, 5, 0, 7, 9, 3, 0, 5, 7, 8, 5, 4, 7, 8, 5, 4, 1, 4, 4, 5, 5, 1, 0, 2, 4, 0, 5, 3, 5, 8, 3, 6, 0, 7, 4, 3, 4, 9, 7, 0, 6, 7, 6, 8, 7, 2, 7, 0, 8, 4, 7, 1, 6, 2, 4, 5, 3, 3, 6, 3, 6, 1, 4, 5, 8, 5, 8, 6, 9, 0, 6, 4, 4, 2, 6, 0, 6, 4, 5, 1, 7, 9, 8, 6, 3, 6, 7, 5, 4, 7, 2, 3, 2, 8, 3, 8, 7, 5, 3, 2, 6, 7, 5, 7, 7, 7, 6, 2, 4, 6, 3, 1, 9, 4, 2, 2, 6, 8, 7, 0, 1, 4, 8, 2, 1, 5, 9, 0, 7, 7, 4, 0, 7, 8, 6, 5, 7, 3, 6, 5, 5, 5, 7, 6, 6, 0, 3, 5, 9, 3, 2, 1, 9, 1, 6, 4, 1, 5, 7, 0, 6, 6, 7, 1, 8, 2, 2, 1, 2, 5, 7, 0, 8, 9, 1, 9, 7, 6, 8, 3, 6, 2, 2, 7, 4, 4, 5, 1, 6, 9, 8, 4, 0, 6, 3, 1, 3, 9, 9, 8, 5, 8, 4, 5, 0, 4, 2, 3, 1, 9, 2, 0, 4, 6, 5, 0, 3, 8, 2, 8, 6, 7, 2, 6, 9, 0, 2, 6, 8, 2, 8, 7, 1, 7, 1, 8, 1, 2, 1, 9, 2, 5, 8, 3, 5, 5, 3, 6, 9, 1, 3, 1, 2, 5, 0, 6, 7, 1, 0, 1, 8, 3, 3, 5, 6, 3, 8, 7, 7, 3, 0, 0, 3, 6, 2, 5, 8, 2, 7, 9, 0, 8, 9, 2, 8, 0, 4, 4, 1, 2, 7, 3, 8, 1, 0, 7, 7, 7, 0, 8, 9, 4, 4, 2, 7, 1, 8, 8, 9, 6, 7, 8, 8, 2, 8, 5, 8, 9, 2, 7, 7, 8, 6, 1, 3, 1, 3, 6, 0, 5, 4, 9, 0, 2, 6, 4, 2, 2, 1, 1, 6, 4, 7, 6, 7, 5, 7, 9, 0, 2, 1, 8, 7, 1, 2, 0, 6, 6, 5, 5, 2, 9, 2, 2, 8, 0, 0, 3, 5, 1, 7, 2, 3, 3, 9, 0, 8, 0, 0, 0, 2, 5, 3, 2, 1, 7, 0, 0, 2, 1, 5, 2, 5, 5, 1, 8, 1, 1, 1, 3, 0, 7, 3, 3, 4, 2, 3, 3, 0, 3, 2, 6, 1, 8, 7, 7, 7, 6, 5, 4, 4, 5, 6, 3, 0, 8, 8, 8, 5, 7, 0, 0, 0, 1, 3, 3, 5, 5, 4, 0, 5, 3, 3, 6, 3, 3, 8, 3, 5, 0, 5, 2, 1, 5, 7, 0, 2, 7, 0, 7, 5, 3, 2, 0, 2, 3, 1, 1, 1, 3, 2, 7, 5, 9, 4, 5, 0, 4, 0, 6, 4, 6, 6, 2, 2, 9, 6, 4, 1, 4, 2, 9, 7, 3, 1, 3, 9, 3, 7, 5, 2, 4, 1, 3, 0, 9, 0, 9, 8, 6, 7, 1, 3, 9, 2, 8, 7, 7, 0, 1, 4, 5, 7, 4, 8, 0, 9, 0, 6, 2, 7, 7, 6, 6, 4, 4, 8, 7, 0, 4, 0, 5, 2, 4, 5, 6, 6, 3, 9, 9, 0, 1, 8, 7, 2, 2, 8, 7, 7, 4, 5, 6, 8, 9, 3, 1, 3, 2, 3, 2, 6, 4, 3, 0, 8, 9, 1, 1, 5, 0, 8, 9, 5, 8, 6, 6, 2, 8, 2, 4, 4, 4, 9, 1, 6, 9, 5, 9, 7, 7, 8, 7, 4, 2, 6, 6, 5, 0, 0, 9, 0, 4, 3, 5, 2, 2, 1, 4, 6, 0, 5, 9, 4, 4, 4, 4, 1, 0, 2, 4, 6, 3, 4, 5, 2, 3, 6, 2, 8, 7, 5, 7, 7, 2, 6, 0, 4, 1, 0, 9, 0, 1, 7, 5, 7, 2, 9, 6, 8, 3, 8, 6, 4, 6, 9, 0, 2, 1, 4, 4, 6, 9, 2, 7, 9, 8, 1, 0, 3, 2, 3, 6, 4, 2, 2, 7, 4, 9, 6, 8, 0, 8, 3, 5, 9, 9, 8, 3, 9, 6, 2, 8, 0, 5, 2, 5, 8, 6, 3, 8, 5, 1, 8, 4, 6, 3, 2, 4, 2, 0, 0, 8, 1, 3, 2, 7, 0, 7, 8, 3, 9, 2, 1, 3, 0, 3, 9, 0, 5, 6, 5, 7, 7, 5, 4, 8, 1, 3, 9, 3, 7, 3, 2, 6, 8, 1, 7, 6, 3, 0, 7, 8, 0, 7, 4, 8, 0, 4, 8, 0, 1, 5, 7, 4, 9, 2, 5, 5, 9, 2, 7, 2, 7, 6, 1, 5, 7, 0, 1, 7, 2, 5, 9, 0, 5, 5, 1, 0, 5, 1, 6, 7, 1, 0, 0, 7, 8, 1, 4, 1, 6, 9, 0, 1, 2, 3, 2, 8, 9, 9, 8, 3, 5, 4, 4, 7, 6, 3, 3, 6, 3, 4, 0, 6, 2, 9, 9, 3, 2, 0, 1, 8, 9, 5, 5, 6, 5, 0, 8, 5, 5, 3, 3, 2, 4, 3, 0, 8, 5, 2, 4, 3, 4, 4, 3, 5, 6, 7, 6, 6, 1, 3, 3, 1, 3, 3, 3, 1, 4, 8, 4, 5, 8, 2, 0, 1, 5, 5, 1, 7, 5, 4, 6, 3, 3, 5, 9, 6, 1, 7, 0, 3, 0, 4, 3, 8, 1, 0, 5, 8, 5, 6, 7, 8, 3, 5, 8, 6, 5, 1, 5, 5, 2, 5, 9, 8, 3, 9, 5, 7, 7, 2, 8, 3, 0, 6, 0, 8, 1, 5, 9, 4, 8, 7, 8, 2, 8, 9, 8, 6, 0, 0, 7, 3, 9, 4, 4, 3, 7, 3, 3, 3, 5, 5, 4, 5, 7, 4, 8, 4, 3, 8, 9, 4, 0, 0, 7, 0, 8, 7, 0, 6, 8, 6, 8, 0, 4, 1, 9, 2, 3, 4, 7, 5, 4, 0, 0, 7, 0, 7, 3, 4, 0, 6, 0, 1, 4, 6, 0, 5, 2, 8, 5, 3, 5, 1, 6, 6, 2, 2, 9, 2, 4, 6, 7, 9, 0, 9, 5, 6, 1, 0, 6, 5, 4, 2, 7, 5, 6, 6, 1, 0, 5, 8, 1, 1, 5, 2, 4, 2, 0, 4, 5, 7, 6, 9, 7, 8, 5, 4, 1, 7, 1, 5, 7, 6, 6, 4, 0, 1, 3, 9, 2, 3, 5, 2, 8, 7, 7, 0, 6, 4, 5, 7, 7, 9, 4, 3, 6, 2, 8, 5, 6, 0, 8, 9, 8, 1, 1, 2, 2, 6, 6, 1, 7, 7, 5, 5, 0, 2, 3, 3, 8, 5, 1, 7, 2, 2, 0, 4, 6, 3, 3, 6, 9, 7, 8, 2, 6, 4, 0, 3, 8, 9, 9, 3, 7, 4, 3, 8, 7, 3, 4, 4, 2, 7, 3, 4, 9, 1, 4, 9, 6, 9, 6, 6, 7, 0, 0, 3, 6, 9, 1, 1, 0, 4, 9, 6, 5, 5, 2, 3, 2, 6, 3, 8, 9, 2, 6, 9, 4, 1, 9, 0, 3, 3, 2, 6, 0, 2, 9, 0, 8, 3, 7, 0, 1, 3, 5, 9, 9, 9, 5, 8, 9, 7, 0, 2, 6, 9, 3, 4, 5, 6, 1, 0, 5, 3, 5, 7, 7, 5, 2, 8, 3, 7, 8, 9, 0, 9, 6, 3, 3, 0, 7, 4, 4, 0, 9, 2, 5, 9, 6, 8, 7, 9, 2, 1, 0, 9, 4, 6, 3, 1, 6, 7, 4, 9, 2, 5, 5, 5, 1, 6, 0, 1, 9, 5, 1, 0, 1, 0, 6, 6, 7, 3, 0, 6, 1, 6, 0, 1, 8, 5, 2, 3, 8, 4, 4, 9, 5, 6, 7, 8, 3, 7, 8, 8, 2, 3, 8, 9, 4, 1, 3, 9, 4, 2, 6, 9, 6, 3, 0, 5, 3, 1, 2, 4, 4, 8, 3, 7, 5, 6, 9, 0, 5, 6, 8, 1, 4, 5, 0, 4, 2, 8, 2, 8, 9, 6, 9, 5, 3, 2, 8, 6, 1, 9, 3, 3, 0, 7, 0, 7, 7, 5, 1, 2, 8, 5, 8, 5, 5, 2, 2, 0, 0, 5, 1, 2, 8, 3, 0, 5, 2, 2, 8, 3, 6, 8, 6, 7, 5, 8, 7, 6, 8, 6, 0, 9, 3, 7, 2, 6, 6, 0, 7, 9, 3, 6, 4, 2, 8, 2, 8, 7, 9, 2, 8, 5, 9, 2, 3, 8, 0, 9, 6, 9, 1, 6, 6, 4, 2, 6, 5, 5, 8, 8, 6, 1, 2, 6, 3, 6, 8, 6, 1, 7, 8, 5, 9, 3, 8, 5, 7, 1, 0, 7, 3, 3, 9, 2, 7, 2, 2, 1, 6, 0, 7, 2, 6, 4, 2, 6, 7, 5, 5, 2, 5, 5, 2, 3, 9, 7, 0, 2, 1, 9, 1, 7, 1, 1, 1, 1, 0, 4, 1, 2, 0, 4, 3, 5, 1, 2, 8, 4, 2, 6, 1, 0, 0, 5, 7, 1, 8, 7, 7, 6, 1, 2, 0, 3, 6, 5, 4, 3, 8, 4, 5, 1, 0, 6, 8, 6, 3, 8, 8, 6, 6, 0, 0, 7, 1, 7, 4, 9, 9, 5, 1, 4, 8, 4, 5, 6, 7, 3, 7, 7, 4, 0, 1, 5, 6, 5, 6, 4, 1, 8, 5, 8, 3, 9, 9, 1, 0, 5, 4, 6, 4, 8, 5, 6, 9, 9, 2, 6, 5, 7, 2, 0, 7, 9, 9, 6, 2, 7, 2, 3, 2, 7, 8, 6, 1, 1, 7, 3, 3, 6, 5, 7, 0, 6, 2, 6, 0, 4, 5, 6, 7, 0, 7, 4, 1, 2, 2, 0, 6, 6, 0, 6, 6, 1, 4, 9, 3, 8, 8, 9, 8, 7, 2, 5, 7, 9, 9, 9, 6, 2, 1, 7, 1, 3, 8, 3, 1, 8, 9, 4, 4, 6, 3, 8, 7, 1, 9, 1, 9, 6, 1, 1, 3, 5, 1, 4, 6, 4, 6, 5, 9, 8, 3, 9, 8, 3, 5, 8, 0, 9, 7, 1, 6, 0, 7, 0, 9, 4, 1, 0, 2, 5, 6, 5, 5, 0, 9, 0, 9, 1, 8, 9, 4, 6, 8, 7, 6, 6, 9, 1, 5, 1, 0, 2, 6, 3, 1, 2, 8, 5, 9, 9, 1, 7, 3, 3, 2, 6, 8, 3, 4, 2, 6, 5, 3, 5, 0, 8, 5, 2, 1, 2, 0, 7, 3, 4, 3, 3, 3, 3, 5, 9, 7, 8, 3, 0, 6, 7, 2, 6, 2, 0, 2, 3, 9, 3, 1, 2, 1, 8, 8, 5, 8, 8, 4, 9, 4, 5, 2, 5, 8, 5, 0, 2, 8, 6, 9, 9, 3, 0, 9, 1, 4, 8, 8, 2, 7, 0, 8, 3, 9, 6, 4, 3, 1, 7, 9, 1, 6, 6, 9, 8, 9, 8, 3, 9, 3, 9, 7, 2, 2, 4, 0, 7, 6, 9, 1, 1, 4, 8, 5, 2, 3, 8, 0, 4, 1, 9, 2, 4, 9, 2, 1, 4, 9, 9, 0, 3, 9, 9, 3, 7, 0, 2, 8, 3, 8, 0, 9, 7, 7, 8, 8, 7, 9, 3, 5, 9, 8, 5, 5, 9, 5, 7, 0, 6, 5, 7, 3, 3, 3, 9, 7, 0, 8, 2, 2, 7, 6, 7, 5, 6, 7, 8, 0, 5, 4, 3, 0, 7, 4, 3, 1, 4, 8, 4, 3, 4, 8, 6, 8, 3, 0, 0, 0, 6, 3, 6, 5, 1, 2, 5, 7, 7, 2, 5, 3, 1, 5, 5, 1, 1, 1, 0, 0, 4, 1, 5, 6, 7, 2, 5, 7, 5, 4, 5, 9, 2, 2, 9, 2, 0, 2, 9, 0, 2, 9, 7, 2, 9, 3, 6, 4, 2, 9, 5, 0, 8, 0, 7, 9, 4, 6, 0, 8, 5, 2, 1, 7, 1, 9, 5, 2, 6, 1, 2, 7, 3, 6, 5, 6, 8, 9, 2, 5, 9, 8, 2, 5, 4, 7, 7, 4, 3, 7, 0, 7, 9, 1, 4, 7, 7, 9, 4, 0, 9, 7, 5, 9, 6, 4, 7, 9, 2, 6, 7, 5, 2, 4, 9, 0, 6, 0, 1, 4, 5, 0, 9, 9, 3, 4, 7, 9, 1, 4, 2, 8, 5, 7, 3, 4, 7, 3, 8, 2, 4, 7, 5, 9, 9, 1, 5, 6, 2, 5, 9, 3, 1, 1, 0, 9, 1, 4, 3, 5, 6, 4, 7, 9, 5, 4, 2, 4, 2, 4, 7, 5, 4, 8, 1, 3, 7, 4, 7, 3, 1, 3, 3, 9, 5, 7, 4, 3, 0, 5, 1, 7, 5, 0, 6, 5, 6, 0, 8, 4, 8, 4, 8, 3, 4, 1, 7, 9, 5, 3, 1, 4, 1, 8, 3, 6, 9, 9, 4, 8, 9, 4, 7, 8, 5, 1, 8, 9, 4, 5, 9, 2, 2, 5, 4, 2, 2, 5, 7, 3, 3, 6, 8, 2, 5, 9, 5, 9, 7, 3, 4, 2, 8, 4, 4, 8, 8, 2, 7, 7, 0, 1, 5, 8, 9, 2, 7, 2, 8, 1, 2, 5, 4, 5, 2, 0, 2, 1, 4, 0, 9, 7, 0, 6, 1, 6, 9, 3, 3, 4, 7, 5, 4, 9, 1, 3, 3, 6, 4, 1, 9, 0, 8, 4, 4, 9, 4, 5, 8, 8, 7, 7, 1, 7, 7, 9, 9, 0, 7, 4, 9, 2, 0, 0, 2, 4, 6, 1, 5, 7, 7, 8, 8, 9, 0, 7, 8, 4, 4, 3, 5, 5, 8, 8, 3, 9, 0, 2, 1, 4, 0, 2, 3, 7, 7, 0, 2, 6, 9, 1, 9, 7, 6, 6, 1, 3, 2, 5, 5, 5, 6, 3, 2, 7, 1, 4, 1, 6, 2, 0, 4, 4, 5, 3, 5, 2, 9, 9, 7, 3, 3, 7, 6, 3, 9, 6, 2, 9, 7, 8, 5, 6, 6, 0, 1, 1, 2, 1, 9, 6, 4, 3, 0, 3, 4, 5, 5, 3, 1, 4, 7, 9, 0, 9, 2, 5, 9, 3, 8, 6, 0, 3, 7, 5, 5, 9, 7, 9, 2, 6, 3, 4, 4, 9, 2, 0, 8, 7, 4, 1, 0, 0, 6, 1, 0, 4, 4, 7, 6, 9, 2, 2, 7, 5, 7, 9, 2, 2, 4, 1, 1, 9, 2, 9, 4, 1, 2, 0, 3, 2, 4, 4, 5, 3, 3, 3, 0, 3, 4, 4, 1, 0, 7, 6, 5, 4, 4, 3, 5, 5, 5, 7, 4, 1, 6, 7, 0, 7, 3, 4, 3, 4, 9, 1, 2, 6, 8, 7, 8, 7, 9, 3, 4, 7, 9, 3, 1, 8, 2, 3, 7, 9, 5, 4, 4, 1, 8, 1, 3, 2, 5, 2, 0, 1, 5, 3, 8, 1, 1, 3, 3, 4, 9, 0, 5, 0, 8, 4, 5, 1, 4, 0, 9, 7, 5, 5, 9, 5, 8, 7, 6, 7, 3, 3, 9, 5, 0, 4, 4, 3, 5, 1, 9, 2, 2, 8, 9, 0, 4, 2, 0, 5, 3, 1, 1, 7, 1, 4, 0, 0, 2, 2, 7, 2, 6, 1, 3, 6, 2, 4, 7, 9, 8, 0, 8, 9, 9, 4, 9, 9, 5, 6, 5, 5, 5, 9, 3, 8, 6, 1, 5, 2, 6, 0, 5, 9, 3, 6, 7, 8, 9, 4, 6, 2, 9, 8, 1, 4, 2, 7, 0, 6, 5, 8, 6, 9, 7, 1, 5, 4, 6, 8, 5, 4, 6, 4, 4, 5, 2, 4, 9, 7, 5, 8, 2, 7, 5, 1, 6, 1, 1, 7, 3, 5, 4, 8, 7, 4, 3, 6, 0, 2, 4, 3, 1, 9, 7, 5, 7, 3, 0, 0, 0, 4, 4, 2, 0, 3, 3, 0, 9, 8, 6, 0, 9, 0, 3, 1, 5, 0, 5, 4, 1, 9, 8, 6, 7, 7, 4, 6, 4, 5, 9, 8, 5, 0, 4, 5, 5, 6, 1, 4, 3, 4, 4, 2, 9, 5, 6, 6, 3, 2, 2, 6, 4, 2, 7, 2, 9, 2, 3, 6, 0, 1, 4, 8, 4, 2, 4, 4, 5, 8, 0, 2, 2, 4, 4, 0, 6, 6, 7, 1, 8, 6, 1, 1, 7, 1, 4, 5, 8, 0, 2, 4, 4, 5, 2, 0, 9, 9, 3, 6, 9, 5, 7, 5, 4, 8, 0, 4, 4, 8, 0, 1, 7, 3, 8, 2, 8, 3, 1, 2, 4, 9, 2, 8, 9, 0, 0, 6, 2, 3, 2, 4, 3, 2, 8, 0, 6, 9, 7, 9, 6, 7, 9, 9, 0, 4, 7, 7, 9, 1, 6, 2, 4, 2, 9, 1, 7, 1, 3, 3, 2, 9, 9, 5, 9, 2, 9, 2, 6, 4, 2, 5, 2, 7, 1, 6, 9, 4, 3, 6, 1, 3, 0, 6, 6, 8, 4, 4, 8, 9, 9, 8, 3, 3, 8, 9, 0, 4, 1, 6, 1, 3, 4, 4, 4, 6, 5, 7, 7, 1, 7, 0, 0, 8, 3, 1, 8, 4, 0, 0, 4, 6, 4, 1, 6, 3, 5, 9, 8, 1, 7, 3, 4, 6, 8, 3, 4, 5, 3, 5, 6, 9, 8, 8, 5, 7, 3, 8, 9, 2, 5, 6, 5, 6, 0, 7, 3, 2, 2, 0, 6, 6, 5, 5, 5, 8, 9, 9, 9, 2, 7, 3, 8, 1, 5, 3, 0, 2, 2, 0, 9, 6, 1, 0, 5, 7, 5, 3, 8, 1, 9, 4, 9, 5, 2, 3, 4, 0, 4, 7, 8, 8, 2, 1, 1, 5, 9, 3, 3, 9, 2, 2, 6, 9, 6, 3, 2, 2, 1, 2, 8, 7, 0, 2, 0, 9, 3, 4, 9, 7, 4, 0, 3, 0, 3, 4, 7, 2, 6, 3, 6, 0, 1, 5, 5, 3, 1, 7, 7, 5, 0, 7, 3, 0, 7, 7, 8, 9, 9, 3, 4, 9, 4, 4, 9, 1, 6, 1, 2, 3, 5, 9, 9, 2, 4, 1, 6, 5, 5, 5, 9, 8, 1, 9, 9, 4, 0, 1, 9, 2, 4, 9, 5, 8, 9, 7, 2, 7, 2, 3, 7, 5, 1, 6, 3, 0, 5, 6, 5, 7, 9, 5, 8, 7, 8, 8, 6, 5, 2, 8, 4, 4, 7, 0, 8, 4, 4, 8, 0, 6, 8, 8, 5, 4, 8, 0, 2, 8, 2, 8, 0, 1, 5, 8, 1, 6, 0, 2, 4, 3, 2, 2, 5, 3, 6, 4, 7, 2, 5, 8, 8, 4, 9, 5, 4, 5, 5, 7, 2, 8, 4, 4, 9, 9, 0, 8, 5, 3, 1, 3, 9, 0, 3, 7, 0, 5, 7, 4, 7, 7, 9, 5, 8, 3, 4, 5, 4, 8, 5, 6, 6, 6, 7, 7, 0, 8, 6, 0, 4, 7, 6, 3, 4, 0, 5, 1, 5, 0, 5, 4, 5, 2, 9, 5, 7, 7, 1, 0, 8, 5, 9, 8, 9, 8, 0, 0, 3, 4, 9, 2, 3, 5, 7, 1, 6, 9, 2, 5, 9, 8, 5, 8, 9, 2, 0, 8, 9, 2, 7, 0, 7, 8, 1, 4, 5, 6, 3, 1, 9, 6, 9, 7, 5, 0, 1, 4, 0, 9, 1, 8, 5, 1, 0, 9, 6, 8, 4, 0, 7, 8, 0, 1, 9, 3, 6, 5, 7, 1, 0, 2, 1, 3, 3, 7, 2, 6, 0, 3, 0, 0, 8, 1, 4, 4, 1, 6, 2, 7, 1, 9, 5, 7, 4, 3, 2, 0, 9, 1, 3, 6, 2, 3, 1, 6, 6, 5, 0, 1, 9, 8, 3, 0, 5, 5, 9, 4, 7, 4, 3, 4, 1, 3, 5, 0, 1, 7, 3, 4, 8, 1, 7, 6, 1, 5, 3, 0, 5, 5, 2, 1, 4, 1, 5, 4, 7, 7, 8, 7, 1, 6, 2, 2, 3, 1, 7, 2, 0, 2, 8, 2, 7, 7, 9, 9, 3, 1, 9, 2, 8, 0, 1, 8, 9, 5, 3, 7, 0, 8, 3, 6, 1, 0, 6, 0, 9, 3, 6, 5, 7, 4, 5, 1, 3, 7, 4, 7, 8, 8, 3, 7, 3, 2, 9, 4, 2, 3, 1, 2, 4, 9, 4, 7, 6, 4, 6, 5, 2, 4, 1, 2, 6, 0, 0, 8, 6, 7, 1, 7, 0, 4, 1, 6, 9, 3, 4, 1, 1, 6, 7, 1, 7, 7, 9, 4, 7, 7, 6, 8, 8, 7, 9, 0, 3, 1, 7, 0, 4, 3, 9, 0, 5, 5, 4, 1, 5, 6, 0, 2, 2, 4, 2, 4, 9, 8, 0, 4, 9, 7, 9, 6, 3, 2, 8, 7, 5, 3, 7, 1, 1, 4, 5, 1, 7, 4, 5, 6, 3, 6, 4, 7, 7, 6, 9, 4, 9, 7, 5, 7, 1, 8, 0, 1, 8, 0, 4, 0, 0, 1, 6, 1, 6, 4, 8, 1, 2, 5, 5, 8, 9, 5, 8, 1, 4, 4, 2, 1, 7, 5, 8, 7, 1, 1, 5, 0, 2, 0, 6, 9, 0, 5, 2, 3, 9, 8, 0, 3, 4, 1, 4, 3, 4, 9, 4, 0, 5, 6, 8, 8, 6, 1, 2, 7, 9, 3, 3, 8, 2, 4, 1, 5, 9, 4, 5, 5, 5, 5, 2, 1, 2, 4, 1, 2, 4, 5, 9, 1, 9, 0, 6, 3, 2, 9, 9, 0, 3, 1, 0, 7, 9, 7, 6, 3, 7, 6, 9, 4, 3, 6, 4, 9, 2, 6, 9, 0, 1, 6, 1, 8, 7, 5, 4, 4, 5, 9, 9, 7, 1, 1, 6, 8, 2, 7, 2, 0, 0, 0, 2, 5, 9, 9, 4, 0, 5, 2, 5, 8, 6, 4, 9, 6, 1, 8, 3, 1, 6, 2, 3, 8, 5, 2, 5, 0, 7, 5, 8, 6, 3, 1, 8, 8, 3, 5, 5, 5, 1, 5, 2, 0, 6, 7, 3, 9, 0, 8, 9, 2, 7, 6, 7, 0, 3, 2, 9, 5, 8, 6, 7, 4, 7, 6, 0, 7, 0, 4, 5, 3, 7, 1, 5, 1, 3, 4, 2, 7, 6, 6, 9, 5, 4, 7, 0, 3, 4, 6, 8, 6, 8, 6, 9, 7, 2, 7, 8, 4, 6, 7, 6, 6, 5, 6, 8, 5, 4, 5, 9, 0, 3, 9, 0, 5, 2, 2, 5, 7, 2, 4, 3, 7, 0, 1, 9, 7, 3, 1, 5, 1, 6, 9, 1, 5, 8, 1, 1, 6, 1, 6, 9, 9, 2, 8, 9, 0, 9, 5, 2, 1, 7, 3, 4, 3, 2, 0, 1, 9, 4, 8, 3, 2, 6, 7, 9, 2, 7, 0, 9, 9, 7, 3, 5, 4, 4, 7, 7, 1, 9, 3, 4, 0, 1, 8, 3, 6, 7, 4, 9, 3, 2, 2, 5, 4, 3, 1, 8, 4, 9, 5, 4, 9, 1, 6, 6, 3, 3, 6, 2, 5, 4, 4, 1, 5, 1, 2, 0, 4, 6, 1, 1, 9, 0, 1, 0, 2, 5, 6, 3, 5, 5, 1, 9, 0, 7, 7, 7, 1, 2, 8, 1, 6, 2, 2, 4, 2, 4, 0, 6, 5, 0, 4, 1, 9, 3, 4, 5, 5, 5, 2, 6, 2, 0, 4, 2, 6, 3, 7, 1, 6, 2, 9, 0, 4, 5, 6, 5, 2, 0, 8, 8, 9, 1, 2, 8, 1, 2, 6, 5, 6, 5, 1, 7, 4, 3, 3, 0, 3, 9, 9, 0, 3, 2, 8, 8, 2, 9, 7, 4, 3, 9, 9, 7, 0, 3, 5, 7, 5, 7, 6, 5, 0, 3, 5, 7, 8, 4, 5, 3, 6, 0, 2, 7, 5, 6, 3, 4, 5, 5, 0, 8, 4, 6, 5, 9, 2, 6, 0, 4, 4, 9, 5, 4, 5, 5, 5, 7, 6, 1, 8, 1, 7, 0, 4, 0, 8, 4, 2, 7, 3, 3, 9, 8, 6, 5, 9, 5, 1, 9, 8, 9, 1, 4, 3, 3, 2, 4, 1, 0, 3, 4, 0, 4, 4, 4, 1, 4, 8, 7, 2, 4, 1, 1, 6, 8, 3, 4, 1, 3, 7, 3, 2, 7, 6, 0, 1, 3, 6, 1, 1, 4, 3, 5, 0, 2, 0, 8, 4, 5, 7, 0, 2, 3, 7, 4, 3, 3, 1, 8, 8, 5, 1, 5, 9, 1, 1, 2, 9, 5, 5, 7, 5, 8, 2, 5, 1, 6, 6, 1, 2, 9, 3, 0, 0, 2, 7, 6, 5, 9, 2, 1, 8, 4, 1, 5, 2, 9, 3, 4, 1, 0, 7, 4, 9, 0, 9, 5, 2, 3, 4, 2, 7, 7, 1, 0, 8, 9, 5, 9, 5, 4, 4, 7, 1, 9, 9, 5, 1, 7, 0, 4, 7, 9, 7, 0, 8, 0, 7, 0, 8, 7, 0, 6, 1, 2, 8, 8, 0, 9, 9, 2, 2, 2, 7, 1, 1, 4, 8, 1, 3, 6, 2, 7, 5, 5, 2, 9, 8, 7, 5, 3, 8, 8, 6, 1, 1, 9, 9, 5, 4, 1, 3, 7, 0, 5, 9, 7, 2, 4, 0, 5, 9, 1, 5, 7, 0, 8, 6, 1, 5, 3, 3, 8, 6, 7, 9, 1, 6, 3, 6, 6, 2, 5, 3, 5, 6, 5]\n",
      "(9000, 10)\n",
      "0\n",
      "255\n",
      "[0, 6, 0, 2, 7, 2, 1, 2, 4, 1, 5, 6, 6, 3, 1, 3, 5, 5, 8, 1, 4, 2, 3, 2, 1, 2, 8, 9, 5, 0, 7, 6, 7, 6, 8, 8, 7, 4, 9, 1, 2, 6, 5, 9, 4, 2, 5, 1, 0, 1, 1, 9, 0, 7, 5, 3, 9, 6, 3, 3, 3, 4, 1, 5, 9, 7, 7, 2, 9, 0, 2, 8, 5, 9, 6, 7, 8, 4, 0, 4, 9, 2, 7, 1, 0, 5, 1, 8, 1, 6, 5, 9, 7, 0, 4, 5, 2, 3, 5, 5, 6, 0, 2, 1, 1, 5, 8, 5, 2, 4, 2, 2, 5, 3, 0, 3, 0, 2, 9, 1, 1, 7, 3, 8, 5, 4, 5, 9, 6, 5, 6, 4, 4, 5, 5, 1, 1, 5, 6, 2, 5, 0, 8, 6, 2, 2, 6, 8, 8, 6, 7, 4, 0, 4, 1, 5, 4, 2, 0, 3, 0, 9, 5, 7, 8, 1, 1, 7, 8, 8, 3, 0, 0, 4, 7, 9, 6, 0, 9, 9, 9, 2, 1, 1, 7, 4, 3, 7, 5, 5, 7, 9, 3, 6, 9, 7, 5, 7, 1, 7, 0, 5, 6, 7, 3, 0, 4, 5, 1, 1, 8, 8, 6, 3, 2, 9, 7, 8, 1, 3, 9, 8, 6, 9, 2, 4, 4, 1, 4, 2, 4, 5, 2, 0, 1, 5, 1, 2, 1, 2, 0, 2, 4, 4, 1, 1, 2, 9, 5, 6, 4, 2, 8, 7, 2, 7, 4, 0, 2, 6, 5, 8, 8, 9, 7, 7, 3, 0, 4, 1, 3, 0, 0, 8, 7, 5, 9, 8, 7, 5, 0, 1, 4, 5, 6, 9, 2, 2, 3, 4, 5, 4, 6, 1, 8, 0, 7, 0, 7, 8, 4, 5, 6, 8, 0, 3, 4, 4, 5, 9, 5, 3, 2, 1, 1, 2, 1, 2, 3, 7, 8, 0, 8, 6, 0, 2, 4, 9, 8, 8, 7, 0, 3, 2, 6, 8, 6, 5, 3, 3, 7, 4, 5, 9, 1, 4, 3, 3, 7, 5, 6, 9, 2, 4, 4, 0, 5, 8, 4, 5, 9, 3, 1, 9, 9, 2, 8, 6, 7, 9, 5, 2, 5, 8, 1, 5, 0, 2, 0, 9, 8, 5, 7, 0, 4, 7, 3, 5, 8, 3, 6, 2, 9, 5, 6, 5, 2, 7, 8, 1, 0, 7, 2, 2, 9, 2, 8, 1, 0, 7, 7, 8, 9, 4, 4, 0, 9, 7, 1, 7, 9, 7, 7, 8, 3, 4, 0, 6, 0, 0, 7, 7, 3, 8, 7, 4, 4, 2, 8, 1, 0, 5, 4, 8, 8, 1, 1, 7, 8, 4, 4, 2, 3, 2, 2, 7, 5, 1, 1, 3, 8, 3, 9, 1, 4, 9, 2, 0, 4, 6, 2, 1, 8, 5, 4, 2, 3, 5, 2, 3, 2, 6, 5, 8, 7, 6, 1, 0, 8, 1, 3, 6, 1, 2, 6, 1, 6, 0, 7, 4, 5, 4, 5, 9, 8, 2, 5, 4, 8, 8, 8, 2, 6, 2, 8, 8, 1, 0, 4, 5, 0, 0, 4, 5, 2, 9, 6, 4, 4, 8, 1, 2, 2, 8, 1, 0, 6, 0, 7, 0, 5, 3, 2, 5, 8, 1, 9, 4, 7, 7, 8, 4, 7, 1, 5, 9, 7, 8, 9, 4, 1, 4, 7, 6, 0, 9, 9, 5, 7, 6, 1, 3, 2, 3, 3, 0, 6, 8, 9, 5, 9, 7, 1, 6, 2, 4, 3, 3, 6, 4, 5, 0, 7, 4, 6, 0, 2, 0, 9, 7, 4, 8, 2, 6, 0, 0, 3, 8, 6, 0, 6, 3, 2, 1, 4, 9, 4, 7, 5, 9, 9, 6, 5, 9, 3, 6, 6, 4, 2, 5, 4, 2, 2, 8, 3, 0, 0, 9, 4, 8, 8, 1, 5, 0, 6, 0, 1, 8, 9, 9, 1, 7, 0, 3, 2, 4, 9, 5, 9, 7, 8, 1, 5, 2, 8, 2, 6, 0, 3, 2, 7, 7, 2, 1, 4, 9, 1, 4, 9, 7, 2, 4, 6, 3, 5, 6, 8, 3, 2, 5, 2, 8, 9, 1, 2, 0, 1, 9, 5, 0, 2, 5, 9, 5, 3, 2, 6, 4, 3, 0, 0, 5, 1, 5, 1, 4, 1, 9, 5, 4, 7, 3, 9, 5, 6, 4, 2, 6, 9, 9, 0, 2, 5, 9, 4, 5, 9, 3, 1, 6, 2, 6, 5, 0, 0, 8, 2, 1, 6, 0, 1, 2, 1, 3, 3, 8, 3, 5, 9, 6, 7, 7, 8, 5, 9, 2, 5, 2, 1, 0, 8, 9, 3, 9, 3, 9, 9, 3, 2, 3, 9, 7, 1, 1, 3, 9, 2, 2, 8, 3, 4, 2, 1, 5, 4, 2, 9, 7, 6, 4, 6, 4, 4, 7, 1, 7, 3, 8, 8, 3, 1, 0, 6, 6, 1, 4, 6, 3, 2, 5, 0, 1, 4, 9, 7, 7, 4, 0, 6, 0, 0, 5, 4, 6, 2, 8, 2, 0, 3, 3, 1, 4, 6, 9, 8, 7, 8, 5, 3, 2, 9, 1, 7, 9, 8, 2, 1, 4, 2, 8, 8, 9, 3, 8, 6, 1, 3, 5, 3, 4, 4, 5, 8, 9, 2, 4, 7, 6, 2, 1, 3, 4, 8, 7, 4, 4, 3, 2, 0, 5, 7, 1, 4, 2, 2, 0, 3, 7, 9, 9, 4, 9, 1, 9, 0, 2, 6, 4, 6, 0, 6, 4, 1, 0, 0, 4, 8, 4, 6, 7, 6, 4, 6, 1, 0, 7, 8, 5, 7, 0, 0, 5, 9, 3, 9, 7, 9, 8, 6, 7, 2, 8, 4, 1, 6, 1, 9, 3, 8, 1, 4, 1, 5, 6, 9, 8, 7, 8, 4, 0, 3, 8, 4, 0, 3, 5, 9, 4, 0, 2, 4, 0, 7, 9, 2, 3, 6, 0, 5, 0, 2, 7, 6, 3, 7, 9, 3, 7, 2, 5, 8, 7, 1, 7, 5, 3, 7, 8, 9, 1, 0, 8, 2, 4, 0, 2, 4, 2, 9, 9, 9, 1, 9, 3, 9, 0, 3, 5, 8, 1, 2, 5, 3, 0, 7, 6, 2, 4, 5, 0, 4, 5, 8, 4, 7, 2, 7, 8, 5, 9, 2, 2, 6, 5, 5, 2, 1, 5, 0, 7, 3, 8, 8, 4, 2, 5, 9, 2, 2, 5, 4, 4, 5, 2, 5, 3, 8, 9, 9, 8, 8, 6, 1, 7, 2, 4, 8, 9, 3, 1, 6, 3, 7, 0, 4, 8, 0, 0, 4, 9, 2, 5, 4, 7, 3, 9, 9, 8, 0, 6, 1, 1, 1, 3, 8, 0, 9, 1, 6, 5, 1, 5, 6, 1, 9, 9, 5, 7, 6, 0, 5, 8, 1, 7, 4, 8, 1, 0, 6, 5, 2, 8, 5, 6, 3, 6, 3, 5, 1, 6, 6, 3, 6, 4, 0, 5, 3, 1, 3, 5, 3, 1, 1, 4, 7, 5, 7, 8, 1, 6, 4, 3, 9, 4, 0, 0, 1, 4, 8, 2, 8, 2, 7, 2, 9, 6, 9, 2, 3, 3, 5, 6, 8, 8, 8, 5, 9, 8, 8, 8, 5, 2, 7, 1, 3, 1, 8, 6, 3, 3, 5, 0, 8, 1, 3, 9, 7, 0, 1, 1, 9, 4, 7, 0, 0, 7, 9, 7, 5, 8, 8, 5, 5, 2, 7, 5, 5, 4, 6, 2, 2, 2, 6, 9, 5, 6, 7, 2, 6, 4, 5, 1, 3, 5, 8, 1, 0, 7, 5, 0, 8, 1, 9, 1, 3, 5, 4, 6, 8, 8, 3, 3, 7, 7, 5, 7, 8, 8, 1, 2, 6, 4, 2, 5, 1, 2, 7, 4, 8, 6, 2, 4, 1, 9, 0, 2, 0, 9, 1, 2, 4, 9, 5, 2, 2, 3, 9, 1, 9, 6, 1, 6, 5, 5, 7, 4, 4, 2, 2, 5, 4, 1, 6, 8, 8, 6, 7, 8, 2, 1, 7, 7, 1, 1, 9, 6, 7, 8, 8, 1, 5, 7, 8, 2, 6, 9, 7, 3, 1, 0, 8, 7, 6, 2, 3, 1, 3, 5, 1, 4, 7, 1, 1, 6, 8, 5, 6, 7, 0, 7, 7, 2, 8, 1, 7, 4, 3, 8, 7, 0, 8, 2, 8, 6, 2, 2, 5, 2, 9, 8, 3, 7, 6, 3, 6, 9, 8, 9, 9, 7, 8, 0, 8, 4, 2, 1, 6, 0, 6, 9, 3, 2, 3, 9, 3, 6, 3, 1, 6, 5, 2, 2, 0, 6, 3, 3, 6, 8, 2, 2, 2, 6, 9, 8, 8, 8, 8, 6, 2, 4, 6, 4, 7, 4, 4, 0, 7, 3, 2, 5, 3, 9, 5, 8, 7, 1, 4, 6, 6, 3, 0, 6, 7, 9, 2, 6, 8, 6, 9, 0, 3, 7, 8, 3, 4, 6, 6, 2, 7, 2, 4, 0, 7, 1, 5, 2, 4, 7, 2, 3, 8, 0, 7, 9, 4, 5, 2, 6, 0, 8, 9, 7, 2, 2, 5, 2, 2, 8, 8, 3, 6, 2, 1, 3, 7, 4, 0, 4, 6, 9, 1, 8, 1, 7, 4, 4, 5, 9, 7, 2, 7, 0, 1, 1, 9, 5, 8, 3, 7, 7, 8, 2, 2, 9, 1, 3, 4, 8, 9, 1, 9, 8, 3, 5, 3, 9, 2, 4, 5, 4, 2, 5, 1, 8, 7, 5, 0, 5, 6, 5, 3, 5, 2, 8, 6, 8, 9, 3, 5, 7, 6, 9, 2, 7, 5, 6, 8, 6, 5, 4, 6, 8, 5, 1, 3, 4, 0, 1, 4, 7, 8, 0, 5, 0, 8, 7, 8, 7, 6, 1, 0, 6, 3, 3, 1, 9, 3, 1, 8, 4, 3, 5, 4, 9, 2, 4, 6, 8, 9, 1, 5, 2, 6, 2, 7, 8, 3, 4, 8, 6, 9, 5, 3, 3, 1, 0, 2, 9, 9, 6, 8, 5, 4, 9, 8, 1, 5, 5, 0, 3, 5, 6, 8, 7, 0, 1, 6, 1, 0, 7, 6, 8, 9, 8, 9, 1, 4, 5, 4, 1, 8, 7, 6, 5, 0, 8, 3, 2, 0, 4, 8, 6, 6, 4, 2, 6, 9, 2, 5, 4, 9, 2, 8, 0, 1, 8, 5, 8, 3, 4, 0, 4, 4, 1, 2, 2, 6, 2, 5, 4, 5, 1, 3, 9, 8, 0, 5, 8, 7, 7, 1, 2, 9, 7, 1, 8, 0, 6, 0, 5, 8, 3, 8, 4, 6, 4, 7, 1, 7, 7, 3, 2, 9, 2, 9, 8, 7, 1, 6, 1, 4, 4, 6, 6, 3, 4, 0, 0, 9, 2, 9, 1, 8, 8, 7, 1, 2, 4, 9, 4, 2, 9, 9, 2, 9, 4, 1, 7, 8, 7, 6, 5, 5, 1, 6, 2, 1, 8, 3, 7, 9, 5, 6, 5, 6, 8, 4, 3, 6, 4, 7, 5, 2, 2, 4, 9, 6, 7, 6, 2, 8, 9, 6, 2, 8, 9, 8, 5, 7, 0, 6, 2, 7, 2, 9, 3, 6, 9, 7, 9, 1, 1, 8, 5, 6, 6, 5, 0, 9, 7, 4, 8, 6, 4, 3, 9, 8, 7, 4, 4, 2, 7, 6, 8, 1, 0, 5, 6, 6, 6, 4, 3, 9, 0, 5, 0, 4, 5, 3, 9, 9, 7, 8, 7, 2, 5, 7, 5, 9, 8, 0, 9, 2, 5, 2, 9, 3, 2, 0, 6, 1, 6, 5, 4, 6, 6, 0, 2, 4, 1, 3, 5, 4, 8, 0, 9, 6, 3, 3, 9, 3, 9, 3, 3, 7, 8, 4, 8, 9, 8, 9, 7, 5, 3, 7, 1, 2, 0, 6, 8, 8, 6, 4, 6, 3, 1, 3, 9, 8, 4, 3, 2, 6, 6, 7, 1, 8, 0, 6, 5, 8, 1, 7, 4, 4, 0, 9, 1, 7, 1, 5, 0, 9, 6, 6, 7, 8, 7, 8, 1, 0, 9, 6, 5, 3, 3, 0, 5, 3, 2, 7, 8, 7, 9, 6, 1, 9, 0, 1, 9, 7, 0, 7, 4, 5, 5, 8, 2, 4, 2, 7, 5, 0, 1, 7, 4, 3, 4, 9, 0, 6, 1, 5, 2, 8, 5, 0, 4, 4, 8, 7, 3, 0, 8, 4, 0, 4, 6, 2, 4, 2, 5, 7, 0, 8, 6, 2, 8, 8, 9, 9, 9, 1, 3, 5, 2, 3, 2, 5, 2, 4, 8, 3, 7, 3, 5, 0, 2, 0, 2, 6, 7, 0, 6, 9, 9, 4, 2, 7, 4, 0, 2, 9, 7, 6, 3, 0, 8, 0, 5, 6, 0, 6, 1, 9, 3, 8, 1, 4, 8, 0, 0, 8, 5, 4, 4, 9, 7, 3, 1, 4, 2, 9, 2, 9, 6, 2, 0, 3, 0, 9, 8, 9, 3, 8, 9, 7, 4, 5, 4, 4, 1, 5, 9, 5, 6, 6, 2, 3, 9, 4, 0, 8, 9, 3, 1, 2, 5, 8, 3, 0, 2, 3, 3, 0, 3, 9, 1, 7, 0, 7, 2, 7, 2, 7, 3, 9, 7, 9, 1, 3, 1, 7, 9, 9, 8, 2, 2, 1, 4, 6, 8, 3, 0, 6, 9, 9, 7, 8, 4, 3, 2, 8, 8, 5, 7, 4, 7, 0, 1, 0, 6, 9, 6, 0, 5, 5, 6, 6, 5, 8, 4, 1, 8, 0, 8, 0, 8, 7, 9, 1, 7, 6, 8, 4, 3, 5, 0, 0, 3, 0, 9, 3, 9, 4, 4, 1, 5, 6, 4, 3, 5, 0, 0, 8, 1, 7, 6, 5, 7, 6, 7, 9, 8, 4, 9, 8, 0, 6, 9, 3, 0, 1, 4, 9, 5, 0, 2, 1, 8, 4, 3, 1, 0, 3, 8, 9, 0, 4, 7, 4, 8, 5, 9, 2, 8, 4, 5, 2, 8, 4, 8, 7, 0, 4, 4, 7, 7, 4, 2, 0, 2, 9, 3, 1, 1, 7, 3, 7, 2, 4, 9, 4, 4, 3, 1, 8, 7, 2, 0, 2, 1, 3, 8, 6, 4, 0, 7, 0, 1, 3, 2, 8, 8, 5, 3, 0, 8, 2, 7, 2, 8, 2, 5, 6, 7, 5, 9, 6, 6, 6, 0, 5, 7, 6, 6, 0, 7, 1, 8, 3, 8, 5, 2, 7, 9, 8, 8, 3, 6, 8, 2, 6, 0, 5, 0, 1, 1, 4, 0, 8, 3, 3, 4, 7, 2, 0, 2, 0, 3, 9, 6, 7, 7, 4, 6, 5, 2, 4, 3, 6, 4, 3, 5, 8, 7, 6, 6, 0, 7, 3, 0, 1, 0, 3, 3, 2, 9, 7, 2, 1, 0, 6, 4, 7, 4, 3, 7, 1, 2, 2, 8, 6, 3, 8, 5, 8, 5, 7, 8, 2, 5, 0, 7, 6, 6, 0, 2, 1, 9, 7, 8, 9, 3, 0, 4, 4, 8, 8, 3, 4, 3, 5, 1, 6, 0, 2, 2, 1, 4, 0, 8, 1, 8, 8, 8, 9, 2, 5, 7, 2, 0, 1, 9, 1, 8, 9, 2, 4, 0, 2, 5, 2, 0, 0, 7, 1, 7, 1, 9, 7, 4, 1, 6, 4, 9, 4, 6, 7, 2, 6, 8, 1, 7, 3, 0, 8, 7, 0, 3, 3, 5, 8, 2, 7, 6, 5, 3, 4, 4, 3, 6, 0, 4, 3, 4, 2, 3, 7, 5, 5, 7, 8, 4, 6, 4, 6, 6, 0, 4, 8, 3, 4, 8, 2, 7, 7, 8, 5, 9, 9, 8, 9, 4, 5, 3, 5, 3, 3, 5, 8, 7, 8, 9, 1, 6, 5, 8, 7, 6, 2, 4, 6, 0, 8, 9, 5, 8, 8, 7, 1, 6, 2, 3, 1, 4, 7, 2, 9, 9, 4, 9, 0, 4, 7, 9, 3, 7, 5, 6, 9, 1, 0, 1, 2, 9, 6, 3, 4, 8, 7, 8, 9, 0, 3, 4, 6, 0, 8, 8, 4, 3, 8, 1, 1, 5, 0, 0, 6, 0, 3, 0, 7, 7, 4, 9, 5, 6, 7, 2, 7, 5, 2, 4, 8, 4, 7, 1, 6, 3, 4, 8, 1, 9, 4, 4, 5, 4, 5, 0, 7, 0, 0, 8, 9, 1, 9, 5, 7, 0, 0, 8, 3, 7, 6, 6, 8, 5, 2, 1, 4, 1, 3, 0, 1, 3, 3, 2, 7, 6, 6, 8, 4, 2, 6, 3, 7, 2, 8, 6, 7, 9, 3, 0, 7, 2, 2, 6, 0, 6, 6, 2, 9, 0, 8, 3, 8, 9, 0, 5, 1, 0, 4, 2, 9, 3, 8, 8, 8, 9, 2, 4, 3, 7, 0, 9, 1, 1, 8, 6, 7, 2, 9, 1, 0, 9, 6, 5, 8, 1, 7, 5, 6, 5, 4, 9, 4, 4, 5, 6, 8, 0, 6, 2, 5, 8, 9, 8, 6, 5, 5, 1, 6, 5, 3, 0, 4, 8, 9, 7, 5, 6, 5, 8, 4, 5, 4, 1, 5, 4, 0, 2, 2, 6, 3, 5, 5, 4, 5, 4, 8, 5, 6, 4, 5, 5, 1, 2, 3, 2, 9, 1, 6, 3, 8, 7, 2, 5, 4, 8, 9, 5, 4, 8, 5, 3, 3, 1, 6, 2, 0, 0, 8, 5, 8, 5, 8, 1, 9, 0, 8, 9, 4, 3, 3, 5, 3, 1, 9, 5, 2, 9, 8, 6, 4, 6, 6, 0, 2, 6, 1, 8, 5, 5, 5, 8, 6, 4, 6, 6, 0, 6, 8, 0, 0, 7, 8, 5, 9, 9, 6, 3, 4, 1, 0, 0, 1, 8, 7, 5, 4, 5, 4, 4, 6, 5, 8, 8, 7, 2, 5, 4, 9, 0, 6, 0, 5, 6, 2, 4, 5, 7, 5, 1, 3, 8, 2, 3, 6, 5, 7, 9, 6, 3, 5, 9, 5, 8, 4, 4, 4, 0, 7, 8, 0, 5, 3, 1, 3, 3, 9, 1, 5, 2, 5, 9, 5, 4, 7, 6, 5, 2, 9, 6, 0, 8, 2, 5, 6, 1, 4, 4, 9, 3, 9, 9, 6, 0, 0, 4, 6, 0, 2, 7, 8, 6, 5, 8, 5, 1, 3, 2, 3, 1, 9, 6, 3, 8, 1, 4, 0, 2, 7, 6, 1, 7, 2, 4, 3, 5, 0, 5, 4, 0, 4, 8, 5, 3, 3, 7, 9, 0, 6, 4, 8, 4, 4, 5, 6, 7, 4, 2, 8, 2, 9, 9, 7, 4, 9, 8, 2, 3, 2, 3, 1, 5, 7, 4, 4, 5, 7, 3, 2, 3, 6, 7, 7, 2, 7, 3, 1, 2, 0, 9, 2, 8, 5, 4, 0, 1, 6, 8, 0, 1, 5, 6, 4, 5, 4, 6, 4, 7, 8, 4, 7, 9, 0, 9, 8, 5, 4, 2, 7, 2, 2, 1, 6, 0, 9, 9, 2, 6, 3, 8, 4, 4, 7, 1, 3, 4, 3, 3, 7, 2, 8, 1, 7, 2, 2, 8, 9, 8, 1, 3, 1, 4, 5, 0, 1, 8, 7, 2, 1, 6, 8, 5, 1, 0, 0, 4, 0, 3, 3, 3, 2, 2, 5, 2, 5, 7, 4, 6, 5, 8, 9, 8, 0, 9, 0, 9, 7, 7, 2, 0, 5, 7, 8, 9, 8, 3, 0, 5, 0, 5, 1, 8, 5, 4, 3, 3, 2, 4, 5, 6, 7, 2, 7, 3, 6, 0, 4, 1, 9, 2, 8, 4, 0, 4, 1, 7, 8, 7, 6, 5, 1, 8, 1, 4, 1, 5, 9, 6, 0, 7, 2, 2, 1, 1, 9, 4, 3, 3, 6, 6, 0, 4, 6, 1, 2, 9, 7, 4, 4, 4, 9, 8, 4, 8, 1, 0, 1, 8, 4, 2, 2, 0, 3, 1, 3, 4, 8, 1, 0, 0, 6, 4, 5, 6, 9, 0, 1, 6, 1, 4, 7, 0, 6, 1, 0, 5, 6, 1, 3, 2, 8, 7, 4, 3, 0, 5, 2, 1, 4, 4, 6, 3, 2, 2, 6, 4, 3, 9, 2, 5, 9, 1, 2, 8, 4, 5, 4, 2, 1, 2, 5, 5, 4, 5, 6, 7, 2, 3, 4, 2, 5, 1, 5, 1, 7, 6, 2, 5, 4, 5, 1, 0, 9, 8, 3, 5, 5, 1, 8, 2, 7, 0, 9, 1, 0, 3, 7, 5, 6, 5, 4, 8, 0, 3, 5, 0, 7, 7, 4, 7, 9, 3, 3, 0, 7, 7, 2, 1, 4, 3, 5, 3, 8, 4, 3, 4, 0, 2, 9, 0, 6, 4, 6, 6, 0, 4, 4, 3, 8, 4, 7, 3, 9, 2, 4, 2, 0, 6, 7, 4, 8, 8, 0, 3, 7, 7, 1, 9, 1, 3, 5, 2, 2, 7, 8, 1, 6, 4, 6, 2, 9, 6, 8, 8, 4, 3, 8, 6, 2, 9, 0, 1, 0, 9, 8, 0, 6, 0, 3, 5, 5, 6, 1, 3, 3, 5, 5, 9, 9, 9, 4, 5, 6, 9, 0, 7, 1, 8, 2, 3, 9, 2, 8, 0, 2, 2, 7, 0, 1, 0, 5, 5, 8, 2, 4, 8, 9, 0, 2, 3, 5, 4, 6, 5, 6, 7, 6, 0, 9, 4, 2, 7, 5, 5, 0, 4, 4, 2, 4, 9, 3, 7, 9, 9, 6, 0, 2, 6, 6, 2, 5, 7, 7, 6, 2, 4, 8, 4, 0, 2, 5, 1, 6, 4, 2, 0, 0, 3, 4, 2, 0, 4, 0, 6, 2, 2, 9, 8, 7, 4, 7, 3, 3, 7, 6, 4, 0, 2, 1, 8, 5, 2, 6, 8, 9, 1, 1, 6, 0, 6, 2, 1, 3, 9, 6, 8, 2, 6, 5, 7, 8, 5, 7, 6, 0, 7, 3, 1, 8, 9, 2, 6, 6, 5, 9, 1, 8, 8, 0, 0, 4, 2, 5, 8, 5, 5, 2, 4, 3, 7, 0, 7, 4, 2, 9, 0, 4, 7, 7, 9, 6, 6, 0, 4, 1, 1, 3, 3, 2, 0, 6, 7, 5, 3, 6, 5, 4, 1, 3, 8, 4, 1, 2, 0, 7, 6, 9, 2, 5, 6, 1, 1, 8, 6, 5, 5, 6, 5, 2, 3, 5, 3, 7, 9, 0, 9, 1, 8, 3, 1, 2, 5, 1, 0, 7, 2, 1, 8, 7, 3, 0, 8, 9, 4, 1, 7, 7, 8, 0, 6, 4, 9, 4, 4, 9, 4, 0, 9, 9, 4, 4, 4, 9, 2, 7, 9, 2, 7, 5, 0, 7, 4, 1, 6, 4, 7, 6, 3, 4, 1, 0, 8, 6, 4, 7, 2, 0, 6, 5, 4, 6, 1, 5, 5, 2, 3, 5, 0, 7, 8, 3, 6, 8, 3, 1, 4, 5, 3, 7, 5, 1, 4, 6, 7, 0, 9, 2, 6, 0, 6, 1, 4, 9, 5, 6, 9, 4, 2, 1, 4, 4, 1, 9, 5, 1, 4, 0, 1, 8, 4, 1, 7, 8, 5, 6, 6, 8, 8, 1, 7, 0, 5, 9, 0, 5, 6, 0, 2, 1, 7, 9, 7, 2, 2, 9, 3, 0, 0, 9, 8, 9, 6, 9, 6, 3, 3, 9, 6, 2, 2, 9, 5, 4, 0, 4, 6, 5, 3, 8, 4, 7, 7, 9, 4, 1, 9, 3, 2, 6, 9, 3, 8, 4, 8, 5, 0, 5, 7, 2, 4, 6, 7, 4, 4, 3, 2, 9, 0, 1, 3, 2, 5, 2, 5, 1, 9, 8, 3, 2, 7, 7, 1, 2, 1, 6, 2, 7, 2, 8, 5, 2, 7, 9, 0, 9, 1, 7, 8, 4, 4, 0, 9, 1, 0, 9, 8, 1, 2, 4, 5, 3, 5, 3, 7, 5, 3, 3, 2, 3, 6, 7, 6, 9, 9, 8, 5, 2, 5, 8, 9, 3, 0, 9, 1, 9, 2, 9, 2, 7, 3, 7, 0, 4, 1, 7, 9, 1, 2, 5, 9, 3, 3, 3, 3, 5, 0, 4, 7, 0, 0, 6, 3, 0, 5, 9, 2, 9, 5, 2, 0, 0, 7, 7, 9, 6, 1, 3, 1, 8, 0, 3, 7, 8, 4, 6, 7, 0, 1, 3, 6, 8, 3, 3, 5, 9, 4, 0, 4, 5, 1, 3, 5, 9, 6, 7, 8, 1, 4, 3, 6, 1, 0, 3, 2, 3, 4, 3, 7, 9, 0, 2, 1, 5, 2, 6, 5, 6, 9, 8, 4, 9, 7, 0, 5, 4, 0, 3, 8, 0, 5, 8, 3, 9, 5, 5, 0, 7, 3, 0, 6, 3, 7, 3, 0, 0, 0, 6, 8, 0, 2, 9, 7, 0, 5, 6, 3, 8, 6, 0, 6, 9, 6, 0, 0, 4, 6, 0, 8, 3, 1, 7, 6, 7, 3, 5, 9, 2, 4, 1, 2, 5, 3, 6, 5, 6, 5, 4, 3, 2, 1, 1, 1, 1, 7, 1, 1, 0, 2, 9, 9, 5, 6, 6, 9, 9, 2, 1, 1, 4, 0, 5, 9, 2, 4, 2, 8, 1, 6, 6, 8, 8, 5, 8, 1, 8, 3, 8, 0, 2, 4, 8, 5, 0, 7, 1, 0, 9, 5, 5, 7, 4, 2, 3, 5, 1, 4, 8, 0, 5, 0, 2, 0, 7, 4, 1, 9, 2, 0, 5, 5, 9, 8, 3, 8, 1, 6, 8, 6, 6, 6, 4, 1, 3, 9, 6, 2, 0, 7, 8, 1, 9, 3, 6, 6, 9, 3, 3, 7, 1, 1, 1, 7, 2, 4, 0, 4, 3, 8, 3, 0, 4, 9, 1, 9, 2, 1, 5, 2, 4, 5, 3, 3, 5, 2, 5, 0, 0, 7, 5, 4, 1, 6, 2, 3, 8, 3, 2, 0, 1, 2, 3, 9, 1, 5, 8, 6, 8, 6, 8, 4, 9, 4, 5, 4, 2, 2, 5, 5, 2, 9, 8, 3, 7, 4, 7, 4, 6, 0, 9, 1, 0, 0, 3, 5, 1, 7, 7, 7, 6, 3, 3, 6, 1, 4, 8, 1, 0, 9, 5, 7, 2, 4, 2, 7, 1, 0, 7, 4, 2, 1, 6, 6, 2, 4, 2, 1, 0, 9, 6, 7, 8, 7, 8, 7, 1, 0, 0, 3, 7, 0, 8, 9, 6, 1, 6, 0, 9, 7, 8, 2, 3, 8, 8, 3, 4, 5, 1, 1, 5, 5, 6, 2, 4, 2, 7, 9, 8, 6, 5, 0, 9, 8, 4, 3, 0, 8, 2, 0, 6, 5, 6, 2, 6, 1, 4, 7, 3, 4, 7, 8, 3, 7, 1, 4, 6, 7, 2, 0, 8, 4, 4, 3, 2, 1, 9, 1, 4, 8, 4, 5, 3, 9, 7, 7, 1, 8, 3, 3, 6, 2, 1, 4, 9, 7, 6, 8, 9, 8, 7, 2, 5, 1, 1, 2, 7, 3, 7, 0, 5, 5, 4, 1, 9, 8, 6, 5, 9, 5, 7, 2, 6, 9, 2, 3, 2, 9, 1, 7, 9, 5, 8, 8, 4, 3, 2, 9, 4, 5, 7, 2, 2, 6, 1, 0, 4, 8, 1, 0, 6, 9, 5, 4, 1, 9, 7, 1, 6, 4, 6, 2, 0, 9, 5, 3, 7, 3, 7, 8, 1, 6, 5, 1, 7, 6, 0, 2, 4, 5, 3, 1, 0, 8, 9, 2, 5, 0, 0, 3, 8, 2, 4, 3, 2, 6, 8, 7, 7, 8, 5, 8, 9, 9, 5, 4, 5, 3, 9, 9, 2, 9, 1, 9, 3, 7, 2, 1, 3, 8, 3, 1, 5, 2, 3, 2, 3, 2, 0, 3, 9, 2, 4, 6, 7, 9, 2, 7, 3, 7, 5, 2, 8, 9, 5, 3, 7, 1, 7, 8, 8, 8, 5, 9, 9, 8, 7, 2, 1, 5, 9, 1, 5, 9, 3, 0, 9, 6, 1, 5, 6, 6, 7, 3, 8, 0, 1, 9, 6, 5, 6, 2, 1, 2, 4, 9, 0, 7, 8, 4, 4, 6, 6, 5, 2, 0, 0, 7, 4, 1, 9, 9, 4, 4, 8, 8, 0, 3, 2, 3, 8, 7, 7, 4, 9, 9, 1, 4, 3, 7, 7, 3, 6, 1, 1, 2, 1, 7, 2, 0, 6, 6, 4, 7, 3, 0, 2, 2, 8, 2, 6, 7, 2, 8, 1, 4, 1, 8, 2, 6, 9, 3, 2, 9, 5, 0, 9, 1, 2, 7, 6, 9, 5, 5, 8, 1, 4, 2, 9, 8, 4, 6, 6, 9, 0, 3, 7, 3, 3, 2, 6, 2, 2, 8, 8, 8, 3, 5, 5, 3, 6, 2, 0, 9, 9, 9, 4, 2, 4, 4, 7, 1, 6, 1, 0, 8, 6, 6, 4, 8, 3, 8, 6, 2, 6, 5, 7, 3, 1, 8, 4, 0, 6, 8, 6, 1, 2, 4, 1, 1, 5, 3, 5, 0, 6, 7, 7, 7, 3, 0, 8, 9, 3, 0, 6, 7, 8, 7, 1, 1, 0, 1, 0, 6, 9, 4, 5, 2, 9, 9, 5, 7, 2, 2, 5, 4, 5, 5, 6, 3, 3, 8, 4, 0, 0, 2, 0, 8, 0, 4, 4, 9, 6, 5, 3, 5, 0, 8, 4, 0, 6, 5, 6, 6, 0, 9, 3, 2, 4, 3, 9, 9, 9, 6, 4, 4, 1, 3, 0, 0, 7, 0, 4, 8, 6, 0, 7, 2, 5, 1, 8, 4, 1, 6, 9, 5, 6, 0, 9, 3, 1, 5, 6, 6, 3, 7, 4, 1, 1, 9, 5, 1, 8, 8, 4, 6, 5, 4, 6, 1, 3, 6, 4, 8, 7, 2, 0, 6, 1, 0, 1, 5, 8, 3, 2, 5, 5, 5, 4, 5, 9, 9, 7, 1, 5, 7, 7, 6, 1, 3, 4, 3, 5, 0, 0, 6, 3, 5, 9, 6, 1, 9, 7, 3, 2, 9, 7, 8, 8, 1, 9, 2, 6, 6, 7, 5, 9, 5, 5, 4, 4, 9, 5, 2, 3, 5, 5, 3, 1, 5, 8, 8, 8, 4, 2, 8, 6, 7, 7, 3, 1, 9, 7, 1, 1, 2, 9, 1, 8, 1, 6, 1, 3, 7, 9, 0, 7, 0, 6, 6, 6, 1, 5, 2, 6, 1, 2, 7, 2, 5, 6, 3, 3, 5, 4, 7, 0, 4, 1, 5, 6, 9, 0, 5, 3, 4, 0, 0, 4, 6, 3, 6, 5, 7, 4, 9, 9, 2, 2, 6, 1, 8, 0, 6, 9, 3, 2, 4, 9, 2, 5, 9, 2, 9, 6, 8, 3, 8, 3, 2, 1, 8, 3, 2, 6, 3, 5, 0, 7, 9, 6, 1, 4, 9, 2, 3, 0, 3, 5, 6, 7, 7, 1, 7, 9, 3, 7, 3, 2, 1, 1, 8, 8, 5, 3, 6, 8, 9, 7, 1, 2, 4, 3, 7, 3, 4, 0, 5, 9, 2, 3, 1, 5, 8, 8, 1, 9, 0, 3, 1, 0, 9, 5, 4, 7, 9, 1, 5, 4, 1, 5, 5, 4, 5, 7, 9, 1, 0, 6, 5, 7, 2, 9, 2, 4, 7, 1, 2, 1, 3, 4, 9, 8, 2, 1, 4, 8, 0, 9, 1, 7, 3, 8, 9, 1, 6, 8, 0, 6, 6, 3, 7, 6, 0, 2, 9, 6, 6, 3, 3, 3, 6, 2, 1, 1, 2, 7, 8, 7, 2, 5, 4, 6, 8, 9, 6, 6, 6, 7, 0, 7, 6, 3, 5, 2, 9, 3, 1, 3, 6, 0, 7, 1, 4, 6, 7, 9, 8, 2, 3, 8, 4, 3, 1, 2, 0, 2, 0, 8, 4, 5, 7, 3, 5, 4, 2, 7, 9, 8, 2, 0, 3, 7, 5, 5, 9, 2, 8, 6, 8, 2, 8, 1, 4, 7, 8, 9, 0, 4, 8, 0, 9, 9, 4, 4, 4, 1, 5, 5, 2, 8, 5, 5, 0, 0, 9, 4, 8, 5, 0, 0, 9, 3, 3, 9, 1, 6, 0, 8, 8, 4, 6, 7, 3, 2, 7, 9, 6, 7, 6, 6, 3, 8, 6, 2, 5, 4, 3, 2, 9, 5, 9, 5, 1, 8, 5, 7, 7, 6, 7, 4, 2, 8, 3, 3, 5, 0, 8, 4, 9, 7, 7, 5, 2, 0, 9, 0, 2, 9, 6, 9, 0, 1, 5, 8, 2, 8, 0, 6, 3, 3, 5, 8, 7, 4, 7, 6, 0, 9, 0, 0, 0, 7, 0, 0, 3, 9, 5, 7, 1, 3, 3, 2, 8, 3, 9, 3, 3, 8, 8, 8, 6, 4, 9, 2, 3, 4, 2, 2, 2, 6, 3, 3, 8, 7, 0, 4, 2, 2, 8, 1, 3, 4, 0, 0, 0, 5, 7, 9, 9, 6, 7, 5, 1, 7, 2, 1, 1, 6, 7, 6, 0, 1, 8, 9, 2, 2, 6, 2, 6, 8, 2, 0, 1, 1, 1, 9, 3, 2, 8, 2, 2, 1, 8, 1, 8, 3, 0, 6, 1, 9, 0, 8, 3, 7, 0, 4, 9, 3, 0, 9, 7, 9, 7, 5, 2, 8, 5, 5, 0, 7, 9, 5, 4, 6, 4, 3, 1, 7, 1, 9, 0, 1, 2, 1, 7, 8, 5, 5, 0, 6, 4, 0, 4, 8, 0, 0, 8, 2, 7, 0, 9, 5, 8, 7, 3, 3, 4, 0, 4, 4, 9, 0, 6, 8, 3, 5, 6, 1, 8, 3, 4, 6, 5, 0, 8, 2, 3, 4, 2, 5, 1, 1, 6, 0, 4, 6, 3, 2, 9, 7, 3, 3, 1, 2, 4, 8, 5, 0, 5, 3, 7, 4, 0, 9, 2, 3, 3, 6, 3, 2, 7, 4, 7, 2, 5, 2, 8, 0, 8, 6, 2, 4, 5, 8, 5, 9, 6, 3, 5, 7, 2, 9, 8, 6, 5, 1, 0, 5, 7, 7, 5, 4, 4, 1, 4, 8, 2, 9, 9, 4, 7, 0, 3, 4, 7, 0, 0, 1, 1, 3, 9, 5, 6, 8, 2, 4, 8, 8, 3, 9, 5, 0, 9, 0, 5, 0, 3, 1, 0, 5, 0, 0, 3, 1, 3, 9, 6, 4, 6, 8, 4, 4, 6, 4, 1, 9, 2, 0, 6, 8, 4, 9, 2, 1, 6, 8, 9, 5, 3, 3, 3, 7, 6, 8, 1, 8, 7, 5, 6, 9, 8, 0, 3, 2, 2, 4, 0, 6, 4, 5, 0, 5, 1, 5, 9, 0, 5, 9, 4, 9, 1, 6, 6, 2, 8, 9, 8, 6, 8, 4, 7, 4, 9, 0, 5, 8, 3, 4, 7, 7, 0, 4, 1, 9, 6, 2, 5, 5, 4, 9, 2, 1, 2, 8, 7, 4, 1, 7, 1, 5, 2, 9, 2, 2, 9, 0, 6, 5, 8, 0, 8, 6, 0, 1, 9, 1, 3, 9, 8, 6, 2, 1, 4, 9, 2, 8, 8, 5, 2, 7, 0, 5, 0, 2, 8, 1, 7, 0, 1, 1, 8, 1, 5, 7, 3, 7, 9, 0, 0, 9, 6, 3, 1, 9, 8, 2, 7, 7, 2, 5, 0, 4, 3, 6, 9, 2, 8, 9, 2, 2, 2, 7, 0, 8, 8, 1, 7, 8, 0, 6, 9, 2, 5, 8, 9, 0, 6, 2, 9, 6, 4, 0, 6, 9, 6, 5, 9, 0, 5, 5, 1, 3, 3, 1, 1, 0, 3, 4, 0, 5, 0, 2, 2, 8, 7, 7, 3, 3, 2, 3, 9, 4, 5, 7, 4, 8, 1, 6, 6, 0, 1, 7, 2, 5, 2, 0, 1, 3, 4, 2, 7, 3, 9, 0, 4, 0, 1, 2, 5, 5, 1, 3, 1, 4, 9, 8, 4, 1, 4, 7, 9, 7, 7, 7, 6, 7, 5, 0, 5, 5, 2, 2, 8, 8, 1, 8, 9, 6, 6, 3, 2, 2, 0, 3, 2, 6, 4, 1, 2, 5, 4, 9, 6, 0, 1, 6, 2, 1, 6, 9, 2, 4, 0, 9, 2, 0, 0, 2, 1, 2, 1, 8, 7, 1, 5, 4, 7, 2, 2, 6, 0, 2, 3, 8, 4, 1, 5, 2, 8, 2, 0, 1, 8, 9, 2, 7, 3, 7, 6, 5, 9, 8, 8, 8, 9, 5, 3, 6, 2, 5, 6, 6, 5, 5, 4, 7, 8, 1, 8, 8, 3, 1, 4, 0, 8, 5, 3, 6, 6, 7, 3, 7, 4, 1, 0, 6, 0, 6, 3, 5, 1, 0, 3, 2, 3, 8, 1, 2, 5, 4, 9, 5, 1, 4, 2, 1, 5, 6, 6, 0, 1, 4, 2, 4, 2, 2, 2, 3, 9, 7, 0, 5, 1, 1, 2, 4, 7, 4, 6, 7, 0, 9, 7, 3, 6, 4, 1, 7, 9, 7, 6, 9, 8, 7, 7, 7, 5, 1, 0, 8, 5, 3, 8, 0, 4, 3, 8, 3, 8, 5, 4, 0, 1, 2, 0, 4, 2, 9, 2, 6, 8, 3, 1, 5, 7, 0, 4, 2, 1, 5, 6, 8, 2, 3, 3, 1, 9, 5, 9, 4, 1, 7, 5, 3, 7, 0, 1, 1, 5, 9, 3, 6, 9, 1, 4, 5, 0, 9, 3, 0, 1, 3, 0, 5, 5, 1, 9, 6, 6, 6, 3, 9, 7, 3, 1, 0, 6, 2, 4, 2, 5, 3, 5, 9, 3, 7, 6, 3, 1, 5, 4, 4, 1, 1, 3, 9, 6, 4, 8, 2, 5, 2, 2, 4, 8, 7, 9, 0, 1, 1, 5, 5, 4, 0, 1, 8, 9, 6, 6, 2, 3, 7, 9, 2, 9, 9, 0, 5, 5, 2, 5, 3, 2, 5, 5, 1, 1, 2, 8, 5, 7, 0, 7, 7, 2, 2, 5, 3, 2, 4, 9, 7, 3, 8, 6, 0, 0, 5, 8, 2, 1, 2, 0, 4, 3, 1, 3, 4, 3, 2, 0, 6, 9, 5, 4, 4, 2, 2, 5, 7, 2, 7, 0, 6, 4, 4, 9, 0, 1, 4, 0, 2, 2, 2, 8, 6, 7, 7, 5, 6, 2, 1, 0, 5, 2, 9, 4, 8, 0, 5, 7, 4, 7, 5, 5, 1, 8, 9, 3, 3, 2, 8, 1, 3, 5, 9, 3, 8, 8, 3, 9, 5, 4, 3, 5, 0, 8, 3, 0, 6, 5, 4, 5, 1, 1, 1, 7, 3, 6, 2, 6, 3, 2, 5, 4, 7, 3, 9, 1, 0, 8, 0, 8, 7, 6, 1, 5, 7, 2, 8, 6, 3, 7, 9, 8, 2, 3, 7, 9, 4, 3, 6, 3, 4, 9, 7, 0, 9, 7, 6, 9, 6, 6, 0, 0, 9, 0, 6, 9, 4, 2, 4, 8, 6, 8, 1, 8, 2, 5, 4, 7, 6, 2, 7, 2, 5, 9, 6, 0, 0, 6, 0, 9, 2, 4, 6, 4, 3, 9, 0, 0, 8, 0, 4, 4, 7, 9, 2, 1, 5, 1, 1, 5, 4, 0, 7, 2, 2, 8, 7, 1, 2, 4, 7, 5, 6, 2, 5, 3, 7, 0, 5, 2, 0, 0, 0, 1, 6, 4, 5, 0, 7, 6, 3, 2, 6, 7, 0, 8, 4, 6, 0, 8, 1, 2, 5, 1, 6, 9, 2, 4, 9, 2, 0, 5, 1, 0, 8, 8, 5, 0, 7, 0, 6, 9, 2, 7, 1, 9, 2, 8, 0, 8, 4, 7, 2, 7, 2, 5, 7, 9, 3, 0, 5, 7, 3, 6, 4, 5, 3, 2, 8, 3, 2, 0, 4, 7, 6, 3, 9, 7, 9, 5, 2, 4, 8, 5, 3, 2, 4, 8, 8, 1, 0, 2, 3, 2, 2, 8, 7, 5, 5, 1, 9, 4, 9, 9, 6, 9, 6, 6, 0, 2, 4, 4, 2, 2, 0, 5, 6, 1, 3, 9, 3, 3, 6, 9, 4, 2, 0, 1, 8, 1, 6, 5, 4, 3, 1, 0, 2, 6, 2, 7, 2, 0, 8, 7, 1, 0, 2, 3, 9, 8, 0, 9, 9, 1, 2, 3, 9, 7, 4, 6, 2, 4, 3, 9, 1, 9, 6, 4, 2, 6, 8, 3, 5, 9, 0, 0, 5, 4, 8, 7, 4, 1, 7, 2, 5, 9, 1, 3, 6, 0, 1, 8, 3, 9, 1, 8, 4, 8, 3, 8, 5, 9, 0, 9, 8, 6, 7, 6, 6, 7, 4, 3, 1, 7, 2, 8, 4, 0, 0, 4, 6, 9, 1, 8, 7, 2, 6, 2, 8, 2, 6, 5, 3, 7, 9, 1, 7, 1, 1, 1, 6, 7, 2, 3, 4, 3, 6, 5, 3, 3, 0, 6, 7, 3, 0, 1, 7, 6, 1, 0, 2, 5, 1, 7, 6, 0, 2, 0, 3, 6, 2, 0, 8, 5, 4, 4, 0, 3, 0, 2, 8, 7, 6, 2, 9, 1, 6, 3, 8, 6, 4, 3, 1, 9, 8, 2, 4, 5, 7, 4, 6, 2, 2, 9, 5, 6, 4, 1, 3, 4, 6, 4, 9, 5, 8, 4, 1, 5, 9, 2, 3, 7, 8, 1, 7, 2, 2, 9, 9, 3, 1, 6, 6, 6, 4, 7, 5, 0, 4, 9, 6, 9, 0, 2, 2, 4, 6, 1, 6, 9, 0, 3, 8, 3, 2, 4, 6, 9, 3, 1, 6, 9, 7, 9, 6, 1, 8, 0, 6, 3, 2, 2, 3, 7, 7, 4, 1, 8, 9, 8, 1, 0, 3, 8, 4, 9, 8, 3, 8, 3, 8, 8, 9, 6, 0, 1, 2, 9, 9, 4, 2, 5, 8, 2, 8, 3, 3, 0, 4, 8, 8, 3, 6, 5, 8, 0, 3, 7, 1, 7, 7, 4, 2, 3, 8, 3, 5, 8, 7, 2, 0, 9, 6, 0, 6, 1, 8, 4, 9, 3, 5, 9, 8, 8, 3, 2, 8, 8, 8, 7, 7, 9, 6, 3, 5, 7, 3, 1, 5, 7, 6, 4, 9, 0, 7, 6, 3, 6, 7, 2, 6, 9, 3, 7, 5, 7, 2, 7, 9, 2, 0, 9, 1, 7, 5, 6, 6, 4, 1, 2, 9, 6, 1, 2, 1, 5, 3, 1, 5, 4, 8, 5, 0, 9, 2, 6, 0, 2, 8, 9, 9, 4, 1, 5, 3, 5, 1, 4, 8, 9, 8, 6, 9, 1, 6, 6, 8, 2, 4, 2, 0, 9, 9, 0, 3, 1, 8, 8, 3, 7, 4, 7, 9, 5, 3, 0, 8, 6, 7, 1, 6, 1, 6, 0, 9, 8, 5, 6, 4, 4, 4, 3, 9, 2, 2, 2, 6, 4, 0, 0, 3, 0, 9, 1, 3, 8, 7, 8, 4, 1, 7, 4, 1, 8, 8, 1, 8, 6, 5, 4, 3, 6, 3, 8, 1, 3, 5, 8, 5, 0, 5, 7, 5, 7, 4, 3, 5, 7, 5, 4, 8, 9, 4, 3, 3, 7, 2, 3, 8, 1, 4, 7, 9, 3, 3, 0, 4, 9, 6, 8, 6, 7, 5, 4, 3, 1, 4, 0, 2, 6, 4, 5, 6, 7, 7, 7, 8, 5, 4, 3, 5, 1, 2, 2, 7, 5, 1, 6, 9, 2, 7, 9, 4, 7, 9, 6, 0, 8, 1, 4, 2, 1, 4, 8, 1, 9, 0, 6, 0, 0, 8, 7, 3, 0, 9, 0, 8, 1, 8, 6, 5, 1, 6, 0, 9, 8, 8, 4, 2, 7, 5, 3, 9, 5, 8, 0, 0, 0, 8, 0, 0, 9, 0, 4, 9, 9, 8, 4, 9, 4, 2, 6, 0, 0, 3, 1, 7, 0, 6, 5, 5, 0, 9, 4, 9, 3, 1, 4, 9, 3, 5, 6, 1, 5, 7, 5, 0, 0, 8, 3, 6, 6, 5, 3, 3, 2, 9, 6, 5, 9, 4, 3, 7, 6, 3, 2, 7, 4, 4, 5, 9, 2, 2, 2, 0, 7, 9, 3, 6, 3, 1, 2, 9, 9, 6, 9, 7, 2, 8, 1, 0, 8, 8, 6, 7, 5, 5, 1, 4, 9, 3, 9, 7, 7, 0, 3, 3, 3, 2, 0, 2, 3, 4, 5, 9, 4, 4, 3, 5, 3, 3, 0, 0, 1, 3, 0, 0, 1, 5, 2, 7, 3, 6, 0, 7, 0, 4, 4, 3, 9, 5, 9, 2, 0, 7, 9, 7, 1, 3, 7, 6, 8, 2, 3, 5, 7, 2, 1, 4, 3, 5, 3, 5, 6, 9, 6, 7, 3, 5, 9, 9, 6, 7, 5, 7, 6, 2, 0, 4, 1, 3, 4, 6, 1, 0, 4, 9, 2, 7, 9, 0, 2, 1, 9, 0, 3, 5, 1, 7, 2, 6, 1, 8, 1, 1, 6, 7, 3, 1, 0, 7, 7, 2, 1, 6, 3, 5, 7, 4, 6, 0, 2, 2, 0, 2, 4, 5, 2, 6, 9, 7, 6, 4, 6, 4, 5, 7, 7, 4, 9, 1, 3, 2, 8, 3, 1, 7, 1, 3, 2, 7, 8, 8, 1, 5, 3, 5, 4, 9, 2, 5, 5, 8, 7, 1, 2, 0, 8, 0, 0, 9, 1, 0, 8, 0, 5, 6, 2, 0, 8, 2, 2, 5, 2, 4, 5, 4, 2, 6, 4, 7, 9, 8, 9, 3, 6, 2, 2, 1, 0, 6, 3, 0, 5, 5, 2, 8, 9, 5, 1, 5, 3, 2, 5, 3, 0, 6, 2, 2, 5, 9, 0, 6, 7, 6, 5, 1, 9, 8, 1, 4, 9, 4, 4, 1, 5, 9, 8, 8, 5, 5, 2, 8, 3, 9, 1, 5, 2, 6, 7, 8, 9, 3, 2, 3, 8, 1, 9, 3, 3, 8, 3, 1, 5, 8, 3, 1, 7, 2, 3, 6, 9, 1, 3, 7, 4, 0, 9, 5, 2, 5, 8, 4, 0, 1, 5, 4, 9, 9, 3, 2, 9, 7, 7, 4, 5, 9, 3, 9, 1, 0, 6, 7, 7, 1, 1, 5, 4, 2, 4, 4, 7, 1, 4, 5, 5, 7, 6, 7, 3, 1, 8, 9, 6, 1, 6, 7, 8, 5, 2, 5, 6, 2, 7, 9, 1, 8, 0, 1, 0, 7, 7, 5, 9, 3, 5, 2, 2, 0, 1, 1, 4, 5, 9, 3, 2, 1, 3, 3, 2, 8, 0, 6, 0, 7, 5, 0, 3, 8, 7, 8, 5, 4, 7, 4, 5, 0, 1, 8, 9, 9, 5, 9, 9, 9, 5, 6, 6, 9, 2, 3, 9, 3, 2, 8, 1, 9, 4, 3, 8, 7, 8, 0, 5, 2, 0, 3, 4, 6, 8, 0, 8, 5, 4, 1, 9, 2, 7, 6, 9, 4, 4, 2, 6, 9, 2, 9, 8, 3, 4, 2, 8, 1, 5, 1, 4, 1, 6, 2, 7, 1, 9, 5, 4, 9, 7, 4, 6, 9, 0, 9, 9, 7, 6, 5, 1, 5, 2, 4, 2, 1, 6, 1, 0, 1, 5, 5, 5, 7, 6, 2, 4, 0, 9, 1, 3, 5, 8, 9, 7, 7, 7, 6, 4, 3, 8, 8, 8, 3, 2, 0, 2, 0, 4, 1, 7, 1, 8, 6, 7, 4, 3, 7, 8, 7, 7, 3, 2, 0, 4, 1, 9, 3, 3, 7, 7, 0, 0, 0, 3, 5, 4, 9, 7, 5, 8, 6, 7, 2, 5, 2, 1, 4, 1, 0, 4, 8, 0, 6, 7, 4, 3, 1, 6, 3, 6, 1, 8, 0, 6, 5, 4, 5, 9, 8, 8, 0, 2, 6, 6, 7, 6, 0, 4, 5, 4, 8, 9, 7, 6, 8, 1, 0, 0, 9, 4, 5, 3, 6, 6, 5, 9, 0, 9, 5, 4, 2, 1, 7, 2, 5, 0, 6, 5, 5, 9, 3, 3, 2, 1, 3, 4, 0, 6, 7, 0, 9, 7, 6, 3, 2, 7, 5, 3, 3, 8, 0, 3, 6, 4, 3, 4, 4, 1, 9, 2, 9, 0, 5, 3, 8, 7, 0, 6, 5, 7, 1, 9, 8, 5, 6, 2, 8, 1, 7, 1, 7, 8, 3, 4, 0, 7, 8, 3, 7, 2, 3, 5, 8, 5, 2, 3, 6, 9, 2, 2, 6, 8, 9, 6, 1, 4, 2, 3, 1, 6, 8, 9, 5, 6, 7, 7, 2, 4, 2, 0, 7, 0, 1, 8, 6, 1, 2, 1, 4, 6, 5, 4, 4, 2, 2, 9, 8, 7, 5, 3, 7, 3, 9, 6, 1, 0, 5, 0, 0, 4, 0, 8, 5, 4, 5, 0, 2, 0, 5, 0, 7, 0, 7, 5, 4, 6, 8, 7, 6, 4, 7, 7, 5, 2, 7, 7, 7, 5, 5, 4, 7, 4, 3, 0, 3, 6, 7, 0, 3, 5, 3, 1, 5, 5, 1, 6, 6, 7, 1, 5, 6, 4, 3, 2, 6, 9, 4, 1, 7, 0, 2, 6, 2, 7, 5, 1, 1, 3, 6, 2, 4, 2, 0, 0, 5, 2, 7, 0, 0, 3, 2, 8, 4, 0, 6, 7, 5, 8, 4, 9, 0, 4, 3, 3, 3, 3, 9, 2, 6, 7, 2, 3, 6, 9, 0, 4, 0, 1, 7, 1, 3, 3, 0, 7, 5, 4, 8, 1, 2, 8, 6, 9, 8, 1, 4, 6, 3, 0, 0, 2, 8, 0, 5, 9, 3, 2, 8, 8, 0, 0, 3, 5, 4, 4, 2, 9, 9, 4, 6, 5, 2, 0, 9, 7, 6, 9, 1, 0, 2, 1, 2, 4, 8, 9, 0, 1, 2, 0, 3, 0, 7, 0, 0, 8, 2, 1, 3, 2, 6, 0, 0, 0, 2, 2, 9, 7, 2, 5, 2, 6, 7, 2, 1, 8, 3, 7, 3, 6, 4, 9, 2, 7, 5, 1, 4, 4, 1, 5, 2, 8, 9, 0, 1, 3, 1, 3, 6, 8, 4, 0, 4, 3, 7, 3, 2, 3, 0, 5, 3, 4, 2, 4, 7, 8, 5, 8, 5, 7, 7, 8, 0, 7, 5, 4, 9, 9, 5, 4, 8, 7, 6, 4, 4, 6, 3, 3, 7, 2, 0, 7, 9, 8, 4, 4, 8, 6, 8, 9, 5, 6, 7, 7, 5, 7, 4, 3, 6, 3, 2, 6, 1, 9, 0, 7, 6, 1, 8, 9, 5, 4, 8, 7, 8, 5, 6, 1, 9, 6, 2, 3, 5, 4, 1, 1, 7, 1, 7, 0, 7, 6, 2, 1, 8, 0, 2, 0, 4, 6, 0, 9, 1, 3, 7, 7, 7, 6, 0, 5, 3, 7, 5, 7, 1, 0, 8, 1, 0, 3, 5, 1, 7, 4, 8, 3, 2, 0, 8, 2, 7, 8, 0, 1, 0, 7, 9, 6, 4, 3, 6, 1, 7, 0, 2, 0, 7, 8, 0, 8, 5, 5, 4, 7, 2, 5, 3, 4, 4, 7, 6, 6, 7, 5, 0, 8, 7, 1, 5, 4, 1, 1, 1, 4, 8, 7, 1, 9, 6, 4, 1, 1, 5, 9, 8, 3, 8, 9, 1, 7, 9, 4, 1, 4, 7, 0, 7, 2, 8, 0, 6, 2, 3, 4, 4, 5, 4, 6, 6, 0, 9, 8, 5, 5, 3, 5, 5, 0, 7, 6, 6, 2, 0, 5, 9, 8, 4, 3, 6, 3, 0, 0, 8, 8, 9, 7, 0, 1, 9, 2, 1, 9, 8, 1, 0, 0, 6, 6, 3, 8, 0, 0, 0, 5, 0, 0, 5, 1, 8, 2, 4, 4, 2, 4, 4, 6, 7, 9, 7, 5, 3, 5, 8, 9, 3, 2, 5, 7, 0, 5, 9, 8, 6, 5, 8, 4, 4, 3, 9, 9, 9, 8, 8, 3, 8, 5, 4, 0, 7, 2, 3, 6, 5, 9, 7, 4, 6, 6, 2, 2, 3, 6, 9, 5, 4, 9, 9, 2, 8, 6, 0, 5, 8, 8, 9, 7, 8, 5, 4, 0, 1, 8, 7, 3, 5, 7, 9, 5, 6, 3, 9, 0, 3, 0, 2, 7, 8, 5, 6, 2, 7, 8, 3, 8, 3, 3, 1, 5, 1, 3, 6, 2, 1, 8, 4, 4, 2, 2, 8, 2, 8, 6, 6, 1, 1, 4, 0, 8, 7, 8, 6, 5, 3, 9, 7, 6, 2, 8, 0, 0, 2, 9, 1, 9, 1, 3, 7, 1, 2, 5, 6, 1, 4, 1, 9, 8, 4, 4, 5, 0, 7, 9, 2, 5, 3, 7, 8, 5, 6, 2, 7, 4, 7, 5, 1, 1, 9, 4, 0, 0, 2, 3, 1, 8, 8, 8, 4, 6, 7, 5, 9, 2, 9, 0, 6, 2, 0, 6, 7, 7, 8, 9, 1, 4, 8, 0, 2, 0, 6, 1, 7, 0, 3, 7, 8, 5, 2, 3, 2, 6, 2, 9, 1, 2, 5, 2, 0, 8, 6, 9, 5, 1, 6, 2, 0, 7, 0, 1, 4, 1, 0, 0, 5, 6, 4, 9, 0, 8, 6, 8, 1, 0, 2, 4, 2, 7, 1, 7, 4, 8, 5, 9, 9, 4, 7, 2, 6, 8, 8, 3, 1, 7, 6, 0, 3, 7, 7, 0, 0, 8, 3, 9, 2, 2, 5, 8, 3, 5, 0, 5, 1, 8, 5, 0, 3, 0, 5, 1, 2, 0, 4, 6, 1, 1, 9, 8, 1, 3, 3, 3, 1, 9, 3, 7, 3, 2, 0, 5, 1, 6, 4, 4, 6, 9, 2, 6, 8, 7, 4, 9, 0, 6, 5, 3, 6, 0, 2, 6, 7, 3, 5, 0, 1, 0, 3, 4, 8, 9, 7, 8, 6, 1, 5, 7, 8, 5, 5, 3, 6, 3, 8, 4, 3, 7, 2, 2, 3, 6, 4, 5, 1, 0, 4, 7, 4, 8, 0, 5, 0, 1, 4, 6, 2, 6, 8, 1, 8, 8, 4, 7, 4, 2, 7, 8, 8, 1, 6, 7, 6, 5, 9, 2, 9, 8, 1, 2, 2, 6, 0, 7, 2, 6, 9, 0, 8, 4, 1, 6, 5, 9, 7, 3, 4, 6, 3, 2, 2, 7, 9, 6, 0, 6, 0, 6, 4, 5, 4, 9, 9, 8, 7, 3, 0, 0, 5, 1, 6, 4, 5, 9, 5, 0, 5, 9, 4, 1, 0, 8, 7, 1, 8, 2, 4, 7, 1, 4, 2, 5, 8, 8, 4, 3, 1, 2, 7, 8, 1, 8, 1, 5, 9, 4, 1, 0, 4, 3, 7, 9, 0, 3, 2, 6, 8, 7, 6, 8, 9, 7, 1, 5, 5, 1, 1, 6, 6, 6, 5, 0, 9, 0, 8, 5, 4, 6, 5, 0, 6, 8, 1, 5, 5, 2, 8, 9, 6, 6, 6, 8, 9, 4, 8, 9, 1, 9, 5, 7, 4, 4, 1, 3, 3, 8, 5, 2, 7, 0, 5, 3, 5, 2, 7, 3, 1, 6, 3, 4, 5, 3, 0, 8, 0, 8, 1, 3, 8, 2, 4, 2, 1, 4, 4, 1, 3, 0, 8, 7, 9, 6, 7, 1, 7, 0, 6, 4, 5, 8, 9, 8, 9, 1, 4, 3, 3, 9, 7, 1, 6, 0, 7, 2, 4, 4, 3, 0, 5, 3, 1, 7, 0, 8, 1, 3, 8, 4, 5, 7, 3, 6, 1, 6, 3, 9, 7, 0, 4, 7, 5, 4, 6, 8, 0, 2, 4, 6, 1, 5, 3, 0, 8, 4, 0, 2, 3, 4, 3, 9, 9, 8, 5, 2, 5, 2, 3, 6, 3, 4, 2, 5, 9, 3]\n",
      "(9000, 10)\n",
      "0\n",
      "255\n",
      "[1, 8, 5, 1, 5, 7, 4, 3, 8, 2, 7, 2, 0, 1, 5, 9, 6, 2, 0, 8, 2, 7, 0, 4, 1, 7, 7, 4, 4, 9, 9, 6, 2, 4, 1, 6, 4, 9, 6, 6, 9, 6, 9, 9, 5, 7, 1, 6, 8, 2, 9, 5, 9, 5, 3, 7, 1, 3, 3, 9, 1, 7, 8, 9, 7, 4, 3, 4, 9, 5, 8, 4, 9, 3, 6, 1, 1, 4, 3, 9, 9, 1, 9, 9, 2, 4, 3, 2, 4, 7, 1, 5, 1, 8, 6, 3, 6, 3, 4, 4, 9, 9, 9, 7, 0, 5, 7, 7, 4, 8, 8, 4, 2, 0, 5, 2, 4, 9, 1, 7, 7, 4, 8, 8, 8, 0, 2, 3, 6, 3, 9, 0, 8, 2, 2, 4, 8, 8, 1, 8, 5, 7, 6, 0, 9, 1, 4, 8, 2, 1, 0, 5, 1, 6, 5, 3, 4, 9, 9, 0, 3, 5, 4, 2, 6, 3, 9, 4, 9, 8, 6, 4, 1, 1, 9, 8, 2, 2, 1, 8, 5, 9, 7, 8, 1, 1, 4, 2, 4, 2, 0, 8, 8, 0, 0, 4, 3, 0, 7, 7, 6, 1, 6, 7, 1, 5, 6, 1, 7, 2, 4, 0, 2, 2, 5, 9, 3, 2, 1, 4, 1, 2, 9, 8, 5, 2, 3, 3, 4, 9, 7, 2, 3, 9, 7, 6, 2, 9, 7, 5, 4, 0, 8, 7, 2, 0, 3, 5, 1, 3, 1, 7, 8, 7, 9, 8, 2, 9, 1, 4, 8, 6, 7, 3, 6, 9, 7, 9, 4, 5, 8, 0, 5, 6, 6, 0, 8, 4, 6, 1, 4, 2, 2, 1, 8, 4, 4, 0, 2, 4, 1, 9, 8, 9, 0, 7, 1, 1, 6, 4, 7, 4, 6, 9, 3, 2, 7, 3, 7, 4, 5, 1, 9, 6, 3, 9, 6, 0, 7, 0, 0, 0, 6, 6, 9, 7, 3, 2, 0, 6, 7, 5, 0, 2, 0, 3, 8, 6, 9, 9, 7, 1, 2, 0, 8, 8, 0, 8, 2, 0, 9, 5, 1, 3, 3, 0, 7, 6, 1, 0, 7, 9, 3, 1, 6, 3, 5, 1, 8, 3, 3, 2, 2, 5, 7, 4, 8, 4, 3, 0, 5, 9, 5, 4, 3, 2, 1, 9, 2, 8, 7, 8, 2, 9, 1, 8, 6, 4, 2, 3, 3, 0, 8, 2, 3, 5, 7, 1, 8, 8, 1, 0, 9, 9, 9, 8, 7, 5, 0, 5, 0, 5, 1, 1, 4, 6, 7, 1, 2, 8, 5, 1, 0, 3, 5, 8, 6, 6, 6, 7, 7, 4, 0, 5, 2, 8, 3, 7, 0, 1, 9, 9, 2, 1, 7, 6, 5, 3, 8, 3, 0, 7, 6, 2, 7, 7, 6, 5, 6, 4, 8, 5, 1, 4, 9, 1, 0, 5, 7, 0, 2, 5, 0, 8, 1, 0, 4, 2, 2, 5, 5, 8, 0, 8, 9, 8, 4, 7, 6, 4, 8, 6, 7, 5, 0, 1, 3, 9, 9, 1, 4, 3, 8, 6, 6, 2, 0, 7, 1, 6, 1, 6, 4, 4, 8, 0, 0, 2, 5, 4, 4, 4, 3, 7, 2, 0, 5, 1, 5, 7, 9, 7, 0, 5, 6, 2, 3, 8, 0, 6, 4, 6, 8, 4, 1, 5, 0, 6, 3, 9, 4, 5, 4, 7, 9, 6, 2, 7, 6, 1, 7, 8, 5, 1, 9, 8, 1, 3, 8, 7, 4, 8, 1, 2, 3, 7, 0, 3, 4, 0, 0, 4, 8, 4, 1, 1, 9, 4, 8, 9, 5, 8, 1, 3, 7, 9, 8, 0, 5, 8, 4, 3, 0, 6, 8, 1, 5, 6, 0, 0, 5, 0, 9, 2, 3, 2, 7, 6, 6, 4, 7, 4, 5, 1, 3, 0, 8, 7, 9, 0, 6, 8, 4, 3, 0, 8, 7, 4, 0, 0, 4, 3, 0, 6, 0, 1, 1, 5, 4, 7, 4, 2, 5, 4, 6, 4, 6, 8, 3, 8, 3, 8, 7, 6, 4, 6, 9, 6, 1, 0, 0, 5, 4, 8, 7, 6, 5, 2, 5, 7, 3, 8, 7, 9, 7, 8, 6, 5, 9, 9, 8, 2, 8, 0, 2, 4, 2, 4, 0, 7, 6, 9, 3, 1, 2, 6, 2, 5, 4, 9, 2, 5, 9, 7, 9, 6, 3, 2, 8, 9, 7, 7, 3, 0, 9, 9, 2, 3, 8, 4, 0, 0, 9, 7, 7, 4, 0, 0, 6, 1, 9, 1, 0, 9, 5, 6, 3, 4, 1, 1, 6, 0, 1, 5, 3, 5, 9, 6, 0, 4, 4, 5, 5, 5, 9, 3, 5, 9, 8, 5, 8, 9, 6, 5, 8, 8, 2, 2, 3, 8, 9, 2, 3, 4, 4, 9, 0, 6, 4, 5, 5, 9, 0, 4, 6, 8, 0, 0, 1, 3, 9, 6, 9, 5, 1, 1, 7, 7, 0, 9, 7, 7, 1, 6, 6, 9, 3, 4, 2, 7, 0, 5, 2, 9, 7, 4, 6, 7, 1, 3, 4, 2, 4, 0, 4, 9, 4, 3, 4, 2, 6, 0, 3, 7, 4, 9, 6, 5, 9, 7, 2, 0, 4, 3, 8, 2, 7, 0, 5, 3, 3, 5, 0, 0, 6, 9, 0, 3, 5, 6, 1, 8, 6, 8, 6, 9, 8, 5, 3, 5, 0, 3, 7, 7, 6, 9, 0, 7, 9, 8, 2, 7, 9, 9, 5, 5, 0, 3, 2, 6, 0, 2, 7, 8, 3, 9, 7, 2, 2, 8, 6, 6, 3, 9, 2, 8, 8, 6, 0, 6, 7, 9, 5, 4, 5, 1, 1, 4, 5, 8, 5, 2, 7, 4, 5, 0, 6, 8, 9, 4, 3, 5, 6, 1, 3, 7, 0, 5, 1, 6, 2, 2, 4, 8, 1, 2, 2, 1, 2, 5, 9, 1, 1, 3, 4, 2, 9, 7, 0, 8, 2, 4, 6, 8, 0, 3, 7, 1, 8, 5, 8, 6, 5, 6, 2, 2, 3, 5, 7, 7, 7, 7, 8, 4, 6, 4, 1, 2, 8, 6, 1, 9, 3, 3, 2, 1, 3, 1, 2, 0, 3, 3, 5, 4, 2, 5, 1, 3, 8, 6, 0, 4, 1, 4, 5, 3, 0, 5, 0, 7, 0, 8, 8, 4, 9, 6, 5, 8, 8, 6, 7, 1, 7, 3, 9, 0, 4, 3, 4, 8, 3, 1, 5, 1, 6, 7, 3, 1, 0, 5, 8, 2, 1, 0, 6, 1, 7, 4, 8, 9, 2, 5, 5, 8, 2, 2, 4, 1, 6, 9, 6, 1, 1, 4, 5, 7, 5, 4, 5, 5, 4, 4, 3, 4, 2, 1, 6, 4, 3, 8, 1, 7, 8, 5, 1, 5, 3, 3, 0, 5, 4, 0, 8, 7, 0, 2, 9, 4, 9, 7, 5, 0, 8, 1, 3, 9, 4, 3, 1, 5, 6, 5, 6, 2, 3, 2, 0, 1, 4, 9, 7, 0, 0, 1, 3, 1, 9, 2, 3, 3, 6, 9, 4, 8, 0, 8, 9, 0, 3, 9, 1, 4, 8, 9, 2, 5, 5, 6, 4, 0, 7, 9, 3, 9, 6, 7, 4, 8, 6, 1, 5, 4, 1, 4, 2, 7, 6, 7, 2, 2, 0, 8, 4, 6, 9, 7, 5, 8, 2, 1, 5, 2, 0, 3, 2, 1, 4, 1, 8, 4, 0, 5, 0, 2, 8, 8, 9, 7, 9, 3, 1, 2, 5, 0, 0, 0, 2, 4, 0, 7, 8, 1, 0, 0, 9, 9, 4, 8, 1, 4, 8, 8, 4, 8, 1, 2, 8, 1, 0, 1, 6, 9, 1, 4, 8, 4, 0, 9, 4, 3, 4, 3, 6, 2, 0, 6, 9, 0, 9, 1, 9, 8, 9, 4, 9, 3, 4, 6, 8, 1, 6, 1, 8, 6, 4, 2, 1, 6, 8, 2, 0, 4, 4, 6, 7, 4, 3, 1, 2, 6, 9, 6, 2, 9, 8, 8, 9, 7, 5, 7, 6, 2, 1, 3, 0, 2, 6, 6, 6, 9, 3, 6, 7, 2, 3, 8, 1, 4, 1, 5, 5, 6, 2, 3, 7, 0, 2, 7, 9, 3, 6, 3, 0, 3, 9, 0, 1, 9, 5, 9, 5, 9, 2, 9, 3, 5, 8, 5, 1, 3, 7, 5, 3, 8, 6, 8, 5, 4, 1, 6, 4, 7, 4, 9, 3, 2, 9, 6, 4, 3, 7, 9, 1, 7, 3, 9, 9, 7, 1, 6, 5, 2, 4, 8, 1, 2, 5, 2, 9, 9, 0, 2, 3, 8, 0, 9, 7, 4, 7, 9, 5, 3, 2, 2, 8, 5, 7, 9, 3, 8, 7, 6, 0, 1, 8, 0, 9, 7, 7, 1, 8, 4, 5, 6, 6, 1, 3, 8, 6, 7, 8, 4, 0, 4, 2, 1, 0, 0, 2, 2, 0, 3, 7, 1, 6, 8, 6, 0, 9, 2, 2, 1, 1, 7, 2, 5, 6, 9, 3, 7, 5, 2, 4, 4, 0, 8, 3, 6, 2, 1, 0, 6, 7, 3, 9, 9, 7, 3, 2, 5, 4, 5, 1, 9, 9, 9, 7, 8, 9, 8, 0, 3, 2, 3, 3, 6, 6, 7, 4, 1, 1, 3, 4, 4, 0, 1, 7, 3, 6, 1, 4, 5, 1, 6, 6, 9, 3, 6, 2, 9, 3, 9, 2, 8, 9, 3, 0, 4, 2, 6, 1, 2, 6, 6, 4, 8, 2, 0, 6, 5, 9, 6, 2, 1, 5, 5, 5, 8, 1, 3, 8, 9, 8, 4, 0, 7, 1, 2, 3, 1, 9, 3, 4, 5, 7, 8, 1, 5, 0, 3, 4, 2, 9, 6, 3, 4, 7, 3, 8, 2, 0, 3, 1, 6, 2, 9, 0, 1, 4, 0, 4, 9, 8, 0, 9, 8, 8, 1, 4, 2, 7, 6, 6, 4, 7, 4, 7, 1, 0, 8, 9, 9, 6, 9, 9, 4, 0, 1, 5, 3, 9, 6, 4, 1, 2, 6, 5, 8, 4, 4, 6, 0, 6, 1, 1, 7, 6, 4, 3, 4, 7, 2, 2, 1, 0, 4, 1, 2, 6, 4, 7, 6, 6, 3, 8, 4, 8, 0, 8, 7, 5, 2, 0, 9, 6, 8, 1, 5, 4, 8, 1, 4, 5, 7, 3, 1, 0, 5, 9, 4, 7, 1, 0, 5, 7, 3, 1, 6, 5, 6, 1, 4, 8, 3, 8, 3, 2, 7, 5, 3, 5, 2, 6, 1, 7, 3, 4, 8, 5, 7, 8, 0, 8, 1, 3, 7, 1, 4, 3, 1, 0, 0, 1, 5, 8, 0, 9, 3, 1, 6, 4, 0, 5, 8, 7, 7, 0, 8, 7, 5, 1, 8, 0, 2, 2, 9, 4, 2, 1, 8, 4, 9, 0, 8, 0, 2, 9, 4, 6, 8, 7, 7, 3, 7, 7, 6, 9, 9, 4, 5, 2, 7, 0, 5, 1, 7, 6, 0, 5, 6, 0, 6, 2, 7, 4, 7, 0, 1, 8, 6, 4, 9, 5, 9, 4, 3, 7, 5, 0, 4, 4, 0, 4, 4, 4, 4, 3, 3, 5, 8, 6, 3, 5, 8, 2, 8, 4, 1, 7, 4, 9, 7, 0, 7, 1, 3, 7, 1, 0, 1, 7, 0, 4, 3, 7, 0, 2, 1, 0, 1, 2, 1, 1, 0, 8, 2, 3, 8, 0, 1, 6, 3, 3, 6, 3, 5, 9, 7, 4, 0, 0, 7, 0, 7, 2, 9, 5, 6, 1, 8, 2, 2, 3, 8, 2, 9, 1, 4, 7, 9, 0, 9, 8, 3, 9, 9, 9, 0, 1, 6, 3, 1, 2, 8, 3, 5, 6, 3, 3, 4, 9, 6, 1, 6, 6, 2, 9, 4, 5, 0, 2, 4, 0, 2, 4, 8, 6, 3, 5, 2, 6, 8, 5, 8, 3, 3, 1, 2, 1, 7, 8, 3, 3, 4, 8, 4, 7, 8, 4, 7, 0, 4, 8, 1, 1, 6, 1, 9, 7, 6, 2, 0, 2, 7, 7, 0, 9, 9, 1, 1, 8, 6, 4, 6, 1, 7, 1, 4, 8, 3, 2, 2, 3, 3, 9, 2, 9, 5, 3, 2, 9, 5, 8, 7, 8, 5, 8, 1, 3, 6, 0, 3, 3, 6, 2, 6, 5, 8, 7, 0, 2, 3, 4, 3, 8, 9, 0, 6, 3, 3, 4, 1, 8, 5, 7, 4, 4, 3, 5, 0, 4, 5, 9, 2, 0, 2, 6, 9, 8, 6, 8, 7, 7, 1, 5, 9, 3, 0, 9, 4, 1, 7, 2, 7, 5, 1, 8, 6, 8, 0, 4, 3, 4, 0, 3, 7, 5, 6, 7, 6, 4, 1, 7, 0, 3, 1, 3, 4, 5, 5, 2, 2, 5, 6, 2, 7, 4, 7, 2, 6, 5, 9, 9, 0, 4, 0, 9, 2, 6, 4, 0, 5, 2, 1, 7, 5, 1, 7, 7, 1, 2, 1, 3, 9, 1, 7, 7, 9, 9, 3, 1, 3, 2, 3, 3, 8, 6, 7, 4, 9, 9, 3, 4, 1, 2, 6, 4, 2, 0, 9, 1, 0, 5, 3, 9, 2, 6, 9, 2, 9, 4, 8, 8, 1, 4, 0, 0, 6, 2, 6, 5, 1, 2, 9, 5, 0, 3, 5, 5, 0, 2, 2, 8, 0, 7, 2, 6, 3, 1, 3, 0, 9, 3, 2, 5, 3, 6, 2, 3, 0, 2, 0, 8, 8, 0, 0, 3, 8, 9, 6, 1, 1, 5, 9, 9, 8, 4, 2, 5, 4, 8, 1, 5, 3, 9, 4, 0, 2, 1, 4, 2, 0, 6, 3, 2, 0, 8, 1, 7, 1, 5, 0, 5, 5, 9, 8, 9, 8, 0, 8, 6, 7, 3, 9, 8, 7, 5, 6, 3, 7, 1, 6, 9, 9, 9, 8, 8, 2, 7, 2, 8, 2, 0, 5, 5, 8, 1, 4, 9, 9, 8, 1, 1, 0, 7, 4, 5, 1, 0, 9, 7, 6, 1, 5, 1, 9, 4, 6, 0, 7, 8, 0, 2, 4, 7, 1, 9, 1, 6, 0, 4, 6, 4, 4, 4, 4, 8, 5, 1, 4, 0, 3, 7, 5, 8, 8, 9, 6, 2, 2, 7, 8, 0, 8, 6, 1, 3, 5, 7, 7, 6, 1, 4, 9, 5, 2, 9, 1, 5, 9, 4, 3, 1, 7, 3, 7, 5, 3, 6, 8, 7, 0, 9, 5, 0, 3, 7, 8, 7, 9, 3, 8, 0, 3, 6, 4, 0, 5, 7, 0, 6, 7, 3, 4, 5, 9, 7, 9, 8, 8, 7, 6, 1, 5, 2, 9, 5, 5, 4, 0, 0, 4, 1, 4, 6, 5, 9, 9, 3, 5, 1, 3, 2, 1, 9, 6, 6, 3, 4, 4, 9, 7, 9, 7, 1, 1, 7, 2, 2, 8, 2, 4, 5, 3, 4, 0, 6, 1, 1, 0, 7, 9, 4, 1, 6, 3, 0, 6, 1, 8, 2, 5, 9, 7, 9, 3, 0, 7, 9, 6, 6, 5, 9, 7, 1, 0, 7, 8, 2, 8, 7, 9, 2, 9, 3, 1, 0, 8, 7, 3, 2, 3, 3, 2, 6, 7, 4, 4, 8, 2, 1, 5, 3, 0, 5, 9, 3, 8, 1, 8, 7, 3, 8, 5, 3, 5, 8, 1, 3, 6, 6, 5, 4, 5, 7, 8, 4, 0, 5, 0, 5, 8, 3, 2, 5, 6, 4, 6, 5, 6, 5, 1, 2, 5, 8, 4, 2, 5, 5, 1, 6, 3, 2, 0, 4, 3, 7, 3, 3, 5, 7, 3, 6, 4, 9, 7, 9, 8, 3, 0, 9, 9, 6, 0, 2, 6, 0, 6, 2, 0, 4, 8, 0, 0, 8, 4, 0, 6, 5, 8, 5, 2, 5, 8, 6, 3, 9, 0, 2, 0, 3, 9, 6, 7, 2, 7, 7, 0, 7, 9, 2, 2, 2, 4, 3, 2, 1, 8, 7, 8, 6, 8, 7, 5, 6, 2, 6, 8, 0, 6, 5, 0, 0, 5, 9, 1, 7, 9, 0, 4, 0, 4, 9, 3, 7, 5, 4, 1, 9, 2, 4, 6, 5, 4, 0, 5, 3, 3, 2, 0, 3, 7, 1, 4, 3, 1, 4, 3, 1, 7, 6, 2, 4, 1, 4, 4, 1, 9, 7, 1, 3, 6, 9, 1, 0, 4, 8, 8, 0, 6, 7, 9, 3, 8, 1, 7, 5, 2, 0, 9, 6, 5, 8, 8, 2, 4, 2, 1, 5, 8, 4, 8, 4, 9, 9, 8, 2, 1, 3, 1, 1, 0, 6, 8, 9, 1, 4, 2, 4, 7, 8, 5, 0, 6, 6, 4, 1, 9, 5, 4, 8, 5, 6, 9, 1, 1, 3, 3, 3, 9, 3, 9, 6, 2, 3, 5, 2, 7, 6, 8, 4, 7, 3, 1, 0, 0, 6, 3, 1, 0, 4, 1, 6, 8, 9, 2, 3, 9, 8, 4, 8, 7, 5, 3, 2, 2, 5, 6, 6, 3, 6, 8, 5, 3, 0, 1, 0, 3, 7, 3, 6, 6, 2, 1, 8, 4, 0, 0, 5, 8, 3, 3, 1, 2, 0, 1, 3, 8, 0, 4, 8, 4, 7, 5, 7, 2, 7, 5, 5, 6, 5, 2, 8, 1, 9, 3, 8, 3, 5, 0, 4, 7, 2, 1, 1, 8, 6, 3, 5, 2, 8, 9, 8, 9, 0, 3, 5, 8, 2, 4, 6, 9, 0, 3, 2, 9, 2, 9, 6, 6, 1, 2, 5, 4, 8, 3, 5, 0, 7, 0, 8, 4, 6, 6, 7, 9, 6, 1, 0, 1, 3, 6, 3, 0, 8, 9, 7, 7, 6, 2, 9, 2, 0, 6, 2, 7, 6, 8, 8, 1, 9, 6, 5, 4, 4, 9, 6, 4, 0, 7, 4, 9, 1, 1, 3, 4, 1, 8, 1, 5, 3, 1, 8, 6, 5, 1, 8, 1, 2, 0, 3, 0, 5, 8, 0, 1, 7, 5, 4, 7, 5, 9, 2, 5, 8, 0, 5, 2, 6, 3, 5, 7, 0, 3, 1, 7, 6, 8, 1, 7, 6, 5, 7, 8, 7, 8, 5, 4, 6, 4, 3, 9, 0, 9, 4, 6, 1, 4, 1, 4, 6, 9, 4, 4, 0, 4, 2, 5, 2, 5, 2, 1, 0, 2, 9, 2, 7, 3, 0, 3, 5, 8, 0, 8, 6, 5, 1, 8, 9, 5, 2, 5, 0, 3, 8, 1, 9, 3, 3, 2, 1, 6, 6, 6, 4, 5, 6, 6, 6, 8, 4, 4, 4, 4, 3, 8, 7, 0, 5, 9, 3, 2, 9, 3, 4, 0, 8, 8, 8, 4, 1, 7, 3, 5, 0, 4, 5, 2, 5, 2, 7, 1, 9, 5, 1, 3, 7, 9, 1, 6, 6, 5, 3, 0, 6, 5, 0, 0, 2, 7, 2, 9, 2, 7, 3, 1, 8, 5, 5, 1, 4, 7, 0, 5, 7, 2, 8, 4, 1, 2, 8, 8, 1, 5, 9, 3, 2, 5, 9, 8, 3, 6, 9, 8, 6, 5, 2, 6, 2, 8, 5, 9, 2, 3, 7, 0, 3, 2, 7, 5, 7, 9, 1, 5, 2, 2, 8, 9, 0, 4, 5, 9, 5, 6, 7, 1, 4, 4, 1, 8, 7, 4, 7, 5, 2, 6, 5, 6, 7, 8, 0, 8, 2, 7, 1, 9, 6, 1, 7, 9, 4, 9, 4, 2, 6, 8, 9, 2, 1, 2, 4, 5, 6, 8, 0, 7, 1, 3, 4, 5, 2, 8, 2, 7, 0, 1, 4, 9, 8, 9, 9, 6, 4, 4, 3, 1, 1, 1, 5, 5, 6, 0, 8, 5, 1, 7, 2, 1, 9, 0, 0, 5, 4, 7, 4, 5, 9, 7, 4, 7, 7, 4, 1, 3, 4, 1, 6, 3, 4, 4, 1, 4, 7, 3, 2, 0, 7, 7, 5, 5, 6, 1, 0, 0, 3, 7, 7, 3, 6, 5, 7, 2, 3, 2, 6, 9, 0, 1, 6, 6, 7, 9, 7, 5, 1, 5, 4, 0, 8, 0, 1, 9, 9, 3, 6, 2, 2, 2, 0, 0, 1, 8, 0, 7, 4, 3, 4, 1, 6, 4, 2, 0, 6, 0, 4, 7, 4, 5, 6, 7, 9, 9, 2, 3, 2, 5, 7, 1, 3, 2, 7, 5, 7, 5, 0, 9, 9, 4, 3, 9, 5, 2, 9, 9, 8, 4, 3, 4, 5, 3, 5, 9, 0, 7, 8, 5, 9, 5, 8, 3, 8, 4, 3, 6, 9, 7, 1, 8, 7, 1, 7, 2, 8, 0, 4, 2, 5, 2, 0, 1, 7, 1, 1, 6, 4, 0, 9, 9, 0, 6, 6, 8, 3, 8, 9, 3, 4, 5, 6, 6, 6, 4, 6, 7, 1, 5, 7, 5, 1, 5, 8, 9, 3, 0, 5, 9, 9, 6, 8, 8, 4, 3, 5, 1, 6, 6, 1, 1, 5, 9, 4, 2, 2, 8, 6, 5, 6, 0, 3, 8, 3, 6, 8, 5, 6, 7, 7, 9, 3, 6, 3, 2, 0, 2, 8, 7, 5, 1, 4, 7, 2, 0, 6, 1, 0, 5, 3, 1, 0, 6, 4, 6, 3, 7, 3, 2, 5, 5, 5, 2, 4, 8, 3, 4, 9, 0, 2, 6, 2, 0, 1, 6, 6, 0, 2, 8, 4, 3, 6, 8, 3, 7, 8, 3, 4, 5, 9, 3, 7, 4, 3, 6, 4, 2, 0, 8, 4, 2, 0, 4, 7, 9, 7, 2, 1, 7, 4, 4, 1, 1, 1, 6, 9, 2, 4, 0, 5, 2, 7, 4, 7, 7, 7, 3, 8, 5, 7, 7, 6, 9, 8, 2, 0, 5, 7, 2, 6, 1, 0, 4, 4, 3, 9, 4, 3, 1, 7, 4, 9, 9, 9, 6, 3, 4, 0, 3, 9, 4, 7, 2, 2, 2, 2, 3, 2, 4, 3, 6, 9, 7, 7, 6, 4, 1, 4, 1, 4, 7, 6, 2, 5, 9, 0, 2, 6, 4, 9, 6, 3, 5, 1, 6, 1, 6, 9, 1, 3, 2, 1, 1, 0, 6, 8, 5, 9, 5, 9, 7, 1, 9, 4, 4, 8, 8, 6, 7, 3, 4, 0, 7, 3, 2, 4, 3, 9, 9, 1, 4, 1, 0, 4, 1, 9, 7, 8, 6, 1, 7, 9, 0, 4, 5, 9, 5, 5, 1, 7, 0, 2, 0, 0, 6, 8, 6, 0, 2, 6, 0, 1, 1, 0, 7, 2, 9, 8, 8, 6, 7, 8, 9, 2, 4, 4, 4, 1, 3, 5, 1, 6, 9, 3, 6, 2, 5, 4, 9, 9, 6, 0, 8, 0, 3, 2, 5, 3, 8, 7, 3, 0, 0, 1, 1, 6, 8, 4, 2, 3, 7, 4, 9, 3, 9, 3, 7, 7, 8, 3, 0, 1, 9, 3, 0, 4, 3, 6, 3, 6, 3, 2, 9, 0, 4, 3, 4, 3, 2, 4, 2, 7, 3, 0, 3, 3, 5, 0, 8, 4, 0, 4, 5, 9, 6, 3, 2, 6, 4, 2, 3, 7, 6, 5, 0, 8, 3, 7, 0, 3, 0, 4, 3, 9, 2, 7, 0, 3, 9, 1, 9, 9, 1, 5, 7, 7, 4, 8, 2, 5, 1, 5, 3, 3, 5, 9, 9, 1, 8, 1, 8, 4, 5, 4, 0, 3, 3, 0, 9, 5, 8, 1, 5, 6, 9, 2, 2, 9, 1, 2, 3, 0, 0, 7, 0, 3, 7, 4, 4, 3, 6, 0, 9, 5, 3, 5, 3, 7, 3, 8, 1, 7, 0, 3, 5, 5, 1, 1, 8, 2, 4, 8, 1, 4, 1, 6, 9, 6, 1, 5, 0, 5, 6, 4, 6, 8, 2, 4, 0, 7, 3, 5, 5, 6, 5, 9, 8, 7, 4, 5, 6, 6, 8, 5, 1, 7, 1, 7, 8, 7, 4, 2, 8, 9, 9, 7, 9, 2, 6, 7, 0, 1, 0, 9, 1, 6, 8, 4, 7, 8, 6, 1, 7, 5, 9, 3, 4, 0, 4, 4, 4, 4, 7, 2, 7, 1, 6, 4, 1, 7, 6, 9, 8, 7, 7, 9, 9, 0, 0, 9, 0, 1, 0, 4, 0, 7, 3, 1, 3, 5, 4, 6, 2, 9, 2, 5, 0, 7, 0, 2, 0, 3, 1, 2, 3, 1, 6, 4, 4, 1, 6, 3, 5, 0, 3, 8, 4, 1, 8, 6, 2, 1, 0, 2, 5, 0, 0, 5, 6, 0, 9, 0, 5, 7, 0, 4, 4, 1, 2, 7, 4, 2, 9, 9, 6, 6, 9, 6, 6, 7, 0, 6, 1, 3, 5, 8, 6, 5, 7, 1, 0, 6, 3, 1, 0, 4, 5, 1, 0, 9, 0, 2, 3, 4, 6, 7, 8, 4, 0, 5, 3, 2, 7, 9, 1, 9, 2, 8, 6, 9, 8, 9, 8, 8, 4, 6, 7, 7, 9, 9, 0, 6, 6, 2, 4, 9, 6, 0, 2, 7, 6, 6, 4, 1, 7, 0, 8, 3, 5, 7, 5, 9, 5, 2, 7, 8, 3, 5, 4, 6, 1, 7, 6, 8, 7, 1, 3, 5, 7, 5, 1, 3, 1, 3, 7, 5, 2, 8, 7, 0, 1, 5, 5, 3, 2, 0, 7, 3, 4, 0, 3, 6, 8, 7, 6, 9, 7, 1, 7, 0, 8, 1, 3, 2, 0, 3, 0, 3, 0, 1, 4, 0, 0, 5, 7, 3, 3, 5, 9, 8, 9, 1, 2, 5, 2, 4, 6, 5, 0, 7, 0, 1, 7, 0, 4, 4, 3, 2, 0, 0, 2, 0, 5, 8, 2, 9, 1, 6, 1, 2, 6, 9, 5, 9, 3, 3, 2, 6, 2, 5, 3, 1, 8, 4, 9, 4, 2, 1, 8, 9, 2, 2, 6, 1, 5, 9, 8, 5, 4, 2, 1, 2, 3, 1, 7, 7, 5, 6, 1, 3, 5, 7, 5, 2, 1, 3, 3, 3, 1, 8, 5, 2, 6, 9, 2, 9, 0, 6, 0, 1, 9, 6, 7, 6, 6, 3, 2, 4, 6, 2, 0, 6, 6, 5, 7, 7, 3, 9, 5, 1, 3, 5, 1, 4, 8, 1, 1, 6, 0, 3, 2, 7, 2, 9, 1, 1, 4, 5, 8, 7, 9, 2, 9, 5, 4, 7, 5, 0, 7, 0, 7, 0, 0, 5, 5, 2, 0, 8, 2, 5, 0, 1, 1, 8, 1, 5, 3, 6, 9, 4, 8, 3, 0, 0, 9, 3, 3, 4, 5, 7, 2, 2, 6, 5, 8, 9, 8, 2, 2, 4, 5, 7, 9, 2, 1, 6, 5, 2, 5, 6, 7, 7, 5, 0, 2, 9, 7, 3, 3, 7, 8, 5, 1, 4, 5, 8, 7, 8, 6, 7, 1, 4, 0, 4, 5, 9, 8, 7, 8, 3, 5, 7, 6, 9, 3, 8, 3, 8, 1, 7, 6, 5, 4, 3, 9, 2, 6, 9, 1, 5, 4, 7, 3, 4, 9, 6, 5, 9, 6, 7, 5, 3, 3, 9, 1, 1, 7, 8, 1, 8, 6, 1, 3, 8, 5, 6, 1, 7, 1, 0, 2, 6, 3, 0, 6, 5, 1, 5, 5, 1, 5, 8, 5, 7, 5, 8, 0, 8, 5, 4, 7, 1, 9, 4, 3, 5, 7, 0, 3, 3, 7, 8, 5, 9, 0, 9, 0, 0, 4, 1, 2, 0, 9, 0, 7, 1, 4, 1, 1, 0, 8, 6, 9, 2, 3, 2, 1, 0, 5, 6, 1, 1, 6, 8, 2, 6, 7, 0, 2, 5, 5, 0, 1, 0, 8, 9, 4, 8, 7, 5, 3, 0, 7, 2, 9, 2, 3, 7, 9, 4, 4, 6, 4, 1, 9, 6, 2, 1, 4, 1, 8, 8, 1, 3, 7, 5, 6, 8, 2, 6, 1, 5, 2, 2, 1, 2, 3, 2, 0, 0, 9, 9, 1, 3, 5, 0, 4, 9, 5, 8, 1, 4, 7, 7, 5, 3, 4, 9, 4, 6, 7, 0, 8, 8, 1, 4, 6, 2, 1, 3, 8, 7, 6, 0, 5, 0, 5, 2, 3, 4, 4, 9, 1, 6, 1, 0, 5, 8, 2, 5, 6, 1, 0, 6, 1, 6, 5, 7, 9, 9, 7, 2, 0, 7, 6, 6, 1, 4, 8, 0, 7, 0, 0, 1, 3, 2, 5, 0, 1, 6, 2, 3, 4, 0, 3, 5, 8, 2, 3, 3, 0, 9, 6, 9, 4, 7, 1, 2, 0, 9, 1, 2, 8, 6, 9, 2, 0, 6, 7, 4, 3, 2, 8, 2, 7, 0, 3, 7, 5, 0, 5, 0, 9, 2, 1, 8, 3, 1, 6, 5, 3, 9, 1, 0, 8, 9, 9, 6, 8, 1, 5, 2, 4, 8, 8, 9, 3, 7, 6, 6, 4, 9, 9, 5, 8, 7, 4, 3, 4, 5, 3, 6, 0, 9, 8, 6, 9, 9, 0, 9, 4, 7, 0, 8, 0, 9, 9, 8, 1, 1, 8, 8, 4, 2, 0, 2, 6, 5, 6, 2, 4, 5, 2, 5, 0, 0, 0, 9, 3, 0, 4, 5, 0, 4, 1, 4, 7, 1, 9, 5, 1, 2, 8, 4, 4, 7, 8, 0, 2, 2, 1, 3, 7, 0, 0, 6, 0, 2, 9, 2, 1, 0, 6, 4, 5, 8, 2, 7, 0, 9, 8, 5, 7, 4, 5, 5, 9, 0, 6, 7, 2, 7, 0, 3, 7, 3, 4, 4, 0, 0, 8, 3, 9, 9, 8, 9, 5, 6, 7, 4, 6, 1, 3, 0, 5, 8, 5, 1, 6, 7, 1, 1, 9, 0, 2, 5, 8, 4, 1, 9, 2, 5, 7, 4, 1, 2, 7, 4, 7, 4, 5, 5, 0, 4, 4, 3, 5, 1, 3, 3, 4, 7, 3, 9, 2, 6, 4, 0, 3, 0, 2, 3, 1, 1, 9, 6, 9, 7, 0, 1, 8, 7, 2, 8, 9, 8, 6, 0, 2, 1, 0, 8, 1, 8, 4, 7, 3, 4, 9, 3, 3, 3, 5, 4, 9, 9, 5, 5, 2, 0, 8, 9, 2, 2, 7, 9, 3, 5, 6, 4, 6, 2, 9, 9, 7, 7, 7, 0, 0, 3, 8, 9, 5, 0, 5, 0, 5, 5, 7, 1, 8, 2, 4, 0, 4, 4, 3, 3, 9, 0, 9, 2, 9, 3, 8, 9, 3, 1, 5, 0, 3, 7, 6, 1, 0, 4, 4, 9, 1, 1, 0, 0, 9, 0, 1, 6, 3, 4, 0, 3, 4, 4, 5, 3, 8, 7, 9, 8, 6, 7, 3, 5, 6, 5, 1, 1, 1, 4, 2, 9, 1, 5, 6, 7, 1, 4, 1, 0, 2, 2, 5, 9, 6, 0, 1, 3, 1, 1, 2, 1, 8, 5, 6, 9, 2, 4, 2, 8, 8, 3, 7, 1, 7, 1, 7, 5, 9, 7, 0, 7, 8, 3, 6, 1, 2, 2, 5, 9, 8, 4, 8, 9, 4, 2, 5, 9, 3, 7, 9, 9, 3, 7, 9, 2, 7, 8, 9, 0, 7, 3, 0, 1, 7, 1, 4, 6, 8, 2, 3, 4, 1, 6, 2, 6, 0, 3, 5, 1, 0, 9, 7, 0, 0, 9, 3, 4, 9, 8, 8, 0, 1, 6, 1, 4, 9, 0, 7, 8, 1, 0, 9, 5, 2, 4, 4, 7, 0, 4, 8, 9, 3, 1, 2, 2, 4, 4, 0, 4, 5, 1, 7, 3, 5, 7, 2, 4, 4, 5, 6, 4, 3, 8, 4, 6, 6, 5, 0, 4, 9, 9, 7, 8, 6, 7, 3, 3, 5, 9, 6, 0, 1, 3, 8, 9, 8, 8, 0, 6, 6, 0, 9, 8, 6, 4, 7, 7, 9, 9, 3, 0, 9, 5, 5, 6, 5, 0, 9, 5, 8, 0, 1, 0, 4, 0, 3, 3, 2, 1, 1, 4, 9, 9, 4, 2, 1, 1, 2, 7, 4, 5, 5, 6, 3, 1, 3, 1, 2, 1, 5, 3, 3, 2, 5, 6, 4, 5, 2, 7, 6, 4, 6, 1, 2, 7, 9, 0, 0, 4, 9, 3, 5, 2, 4, 8, 9, 0, 8, 2, 5, 1, 6, 6, 3, 3, 3, 2, 6, 6, 4, 7, 5, 1, 0, 5, 9, 0, 4, 0, 0, 6, 6, 1, 5, 0, 5, 2, 5, 4, 3, 7, 2, 5, 4, 6, 7, 3, 1, 9, 7, 4, 9, 0, 1, 5, 1, 7, 4, 7, 6, 1, 0, 6, 4, 6, 0, 9, 2, 0, 6, 2, 9, 1, 8, 3, 4, 5, 0, 0, 4, 1, 1, 8, 3, 2, 5, 1, 4, 1, 8, 5, 8, 2, 1, 3, 5, 1, 4, 2, 2, 7, 7, 8, 0, 4, 2, 2, 7, 0, 5, 2, 0, 0, 0, 6, 3, 7, 7, 8, 6, 9, 0, 0, 2, 2, 6, 3, 4, 0, 7, 6, 2, 5, 6, 1, 8, 8, 0, 5, 8, 7, 1, 9, 3, 3, 4, 3, 6, 0, 6, 8, 0, 9, 3, 0, 0, 6, 0, 7, 3, 4, 4, 8, 1, 4, 9, 3, 1, 2, 9, 1, 7, 4, 7, 4, 2, 0, 0, 2, 3, 7, 5, 9, 0, 6, 5, 5, 0, 2, 1, 9, 1, 2, 6, 6, 9, 7, 3, 1, 9, 5, 2, 0, 3, 5, 4, 8, 6, 1, 0, 8, 8, 5, 7, 5, 2, 6, 6, 3, 1, 3, 0, 3, 7, 2, 8, 8, 9, 9, 9, 1, 3, 7, 5, 1, 3, 9, 5, 6, 1, 7, 5, 8, 3, 7, 5, 5, 1, 0, 1, 8, 1, 1, 2, 7, 4, 5, 7, 2, 9, 4, 9, 9, 5, 1, 5, 3, 5, 5, 7, 7, 0, 3, 0, 4, 5, 4, 0, 3, 4, 0, 4, 6, 5, 9, 2, 2, 7, 6, 0, 6, 7, 9, 2, 7, 5, 2, 2, 6, 1, 8, 8, 9, 9, 7, 4, 3, 6, 5, 5, 0, 9, 1, 7, 2, 8, 3, 5, 5, 4, 0, 5, 2, 0, 9, 7, 9, 7, 0, 1, 4, 1, 3, 1, 2, 4, 7, 9, 1, 6, 7, 9, 8, 5, 1, 5, 6, 5, 1, 6, 4, 5, 2, 7, 3, 4, 6, 9, 0, 4, 7, 6, 4, 1, 1, 0, 1, 4, 0, 4, 2, 6, 8, 4, 7, 4, 9, 1, 9, 0, 4, 8, 4, 8, 8, 0, 6, 4, 4, 3, 8, 5, 1, 5, 7, 3, 3, 5, 3, 8, 5, 6, 6, 2, 9, 3, 1, 7, 4, 4, 3, 2, 8, 8, 8, 8, 0, 5, 2, 1, 0, 7, 9, 8, 2, 3, 2, 6, 5, 4, 0, 3, 4, 7, 3, 9, 1, 9, 5, 1, 6, 1, 5, 0, 8, 2, 7, 4, 9, 1, 6, 1, 4, 4, 4, 3, 2, 6, 4, 8, 9, 8, 5, 7, 3, 4, 4, 2, 1, 5, 8, 9, 7, 2, 2, 3, 4, 2, 1, 1, 0, 8, 8, 6, 6, 4, 7, 4, 7, 7, 8, 8, 5, 4, 6, 5, 3, 8, 9, 9, 1, 0, 2, 6, 9, 6, 5, 8, 2, 7, 5, 7, 2, 4, 6, 6, 3, 6, 3, 9, 4, 3, 7, 6, 8, 2, 5, 0, 4, 6, 9, 4, 1, 1, 6, 8, 5, 4, 6, 4, 8, 8, 3, 8, 1, 9, 4, 3, 8, 2, 4, 1, 8, 3, 7, 9, 9, 6, 6, 2, 6, 9, 9, 6, 0, 4, 9, 2, 4, 2, 6, 8, 7, 8, 1, 4, 4, 9, 5, 8, 3, 7, 2, 5, 4, 1, 2, 6, 7, 9, 6, 0, 5, 9, 8, 5, 9, 7, 1, 6, 6, 2, 2, 8, 9, 9, 9, 7, 9, 0, 7, 2, 9, 2, 3, 7, 2, 8, 3, 2, 1, 3, 7, 1, 9, 7, 6, 6, 2, 9, 1, 4, 8, 4, 5, 9, 8, 4, 7, 2, 9, 1, 6, 8, 9, 4, 5, 7, 5, 3, 0, 5, 7, 6, 8, 5, 8, 2, 4, 6, 3, 3, 8, 1, 6, 3, 4, 5, 0, 9, 9, 8, 3, 3, 1, 4, 8, 4, 3, 5, 7, 8, 6, 0, 9, 3, 9, 1, 8, 6, 2, 0, 3, 7, 4, 3, 7, 3, 7, 4, 0, 8, 4, 7, 2, 5, 5, 9, 6, 7, 1, 3, 3, 3, 7, 2, 5, 2, 8, 7, 0, 4, 6, 9, 5, 9, 4, 5, 6, 4, 8, 2, 1, 2, 6, 6, 1, 5, 8, 9, 6, 1, 6, 1, 2, 4, 0, 5, 9, 8, 5, 4, 1, 5, 2, 5, 5, 9, 8, 7, 9, 2, 2, 7, 2, 8, 3, 1, 9, 2, 5, 6, 8, 6, 5, 4, 8, 3, 2, 8, 2, 5, 7, 0, 8, 4, 5, 3, 9, 7, 1, 7, 8, 8, 5, 8, 7, 8, 7, 5, 4, 3, 8, 9, 7, 0, 6, 6, 8, 7, 0, 4, 8, 4, 6, 1, 6, 2, 0, 7, 3, 5, 3, 9, 1, 4, 3, 5, 7, 5, 6, 7, 8, 5, 3, 5, 9, 6, 5, 6, 4, 4, 1, 9, 3, 3, 2, 5, 5, 3, 0, 5, 2, 2, 9, 8, 6, 4, 3, 5, 5, 7, 7, 1, 8, 8, 8, 7, 9, 6, 2, 1, 0, 3, 3, 8, 5, 0, 2, 2, 0, 7, 2, 4, 8, 3, 6, 6, 6, 2, 6, 1, 8, 7, 5, 9, 4, 4, 6, 1, 3, 0, 8, 8, 1, 3, 8, 5, 6, 4, 5, 1, 0, 3, 4, 8, 8, 4, 7, 3, 6, 3, 7, 0, 3, 7, 1, 9, 4, 5, 9, 7, 7, 5, 6, 9, 7, 1, 4, 8, 8, 1, 9, 2, 6, 9, 3, 2, 7, 4, 9, 5, 6, 9, 9, 6, 0, 6, 1, 9, 3, 8, 3, 8, 0, 5, 2, 5, 3, 3, 1, 1, 6, 5, 8, 7, 8, 1, 2, 3, 2, 5, 4, 1, 4, 9, 5, 8, 0, 9, 3, 9, 7, 3, 3, 3, 3, 1, 4, 2, 9, 1, 1, 5, 1, 4, 2, 9, 2, 4, 5, 5, 8, 8, 4, 4, 6, 4, 2, 4, 6, 6, 2, 1, 8, 2, 3, 6, 5, 3, 7, 5, 1, 9, 7, 6, 8, 6, 5, 5, 4, 0, 9, 1, 9, 1, 7, 7, 2, 4, 3, 0, 5, 5, 3, 2, 8, 2, 0, 3, 9, 0, 9, 2, 7, 7, 9, 0, 1, 9, 6, 6, 3, 8, 5, 6, 6, 8, 8, 2, 5, 6, 5, 4, 6, 4, 6, 1, 0, 3, 2, 9, 1, 5, 1, 4, 1, 4, 6, 9, 6, 3, 0, 4, 6, 3, 6, 0, 0, 9, 9, 3, 7, 3, 5, 9, 3, 7, 3, 9, 9, 1, 1, 1, 5, 5, 0, 8, 7, 2, 0, 0, 7, 0, 7, 3, 4, 2, 3, 9, 1, 6, 5, 6, 0, 5, 4, 7, 4, 6, 8, 8, 6, 2, 9, 7, 8, 5, 0, 8, 1, 7, 4, 3, 7, 9, 3, 6, 6, 2, 1, 6, 1, 0, 2, 3, 7, 8, 3, 4, 4, 3, 6, 0, 0, 1, 5, 3, 3, 3, 9, 1, 5, 6, 0, 8, 3, 3, 0, 8, 5, 3, 9, 0, 5, 5, 8, 3, 8, 8, 4, 6, 1, 8, 2, 2, 4, 8, 7, 7, 7, 2, 0, 3, 4, 1, 8, 1, 8, 7, 3, 2, 3, 6, 4, 5, 3, 6, 0, 2, 4, 8, 2, 8, 0, 2, 5, 5, 7, 9, 0, 5, 8, 5, 4, 2, 6, 3, 5, 6, 3, 4, 8, 8, 3, 2, 4, 3, 8, 8, 4, 1, 7, 2, 5, 4, 3, 0, 1, 3, 2, 7, 7, 1, 1, 4, 2, 0, 7, 5, 4, 2, 4, 3, 2, 4, 5, 6, 5, 6, 5, 9, 8, 6, 8, 2, 3, 8, 1, 6, 5, 1, 0, 7, 6, 8, 8, 0, 0, 3, 7, 7, 6, 9, 2, 3, 2, 2, 2, 5, 4, 9, 3, 8, 4, 3, 7, 4, 9, 2, 0, 6, 4, 9, 8, 7, 8, 7, 2, 0, 0, 6, 1, 2, 3, 4, 1, 0, 3, 3, 3, 5, 1, 9, 6, 7, 6, 0, 3, 3, 5, 2, 5, 6, 1, 9, 6, 0, 0, 8, 4, 8, 4, 0, 7, 5, 6, 9, 8, 0, 8, 3, 5, 9, 2, 0, 0, 2, 1, 5, 8, 0, 5, 9, 7, 7, 2, 1, 4, 9, 9, 9, 4, 1, 4, 9, 2, 3, 9, 0, 9, 3, 1, 3, 4, 2, 9, 4, 9, 2, 7, 5, 8, 5, 8, 7, 7, 2, 1, 8, 5, 6, 0, 1, 0, 2, 3, 2, 5, 9, 2, 9, 3, 0, 5, 7, 0, 1, 7, 4, 9, 3, 9, 8, 5, 0, 2, 4, 8, 9, 0, 8, 5, 7, 8, 7, 3, 9, 8, 5, 5, 1, 1, 7, 5, 6, 4, 9, 2, 0, 7, 3, 2, 3, 1, 1, 1, 2, 5, 8, 8, 8, 0, 8, 0, 1, 3, 6, 9, 3, 4, 7, 1, 0, 0, 8, 9, 4, 7, 9, 0, 3, 8, 2, 6, 8, 5, 0, 8, 6, 2, 5, 8, 4, 0, 2, 6, 4, 9, 9, 4, 9, 4, 4, 5, 9, 0, 7, 2, 5, 1, 8, 9, 4, 4, 6, 7, 5, 1, 2, 1, 7, 2, 3, 2, 3, 0, 4, 6, 3, 7, 0, 9, 5, 2, 5, 3, 2, 4, 3, 7, 3, 7, 2, 5, 8, 0, 4, 4, 3, 2, 1, 1, 8, 9, 0, 2, 9, 7, 6, 5, 2, 3, 0, 1, 3, 5, 0, 9, 4, 6, 5, 9, 7, 6, 4, 9, 5, 8, 3, 6, 7, 1, 1, 7, 9, 3, 8, 0, 1, 1, 5, 6, 7, 2, 1, 0, 0, 2, 7, 0, 2, 9, 2, 3, 0, 3, 4, 4, 6, 3, 2, 8, 1, 5, 4, 8, 1, 3, 2, 7, 0, 0, 5, 1, 5, 0, 5, 1, 6, 1, 2, 1, 2, 0, 5, 6, 6, 1, 6, 5, 8, 5, 3, 1, 6, 0, 3, 5, 5, 8, 5, 1, 5, 5, 2, 3, 2, 0, 0, 0, 8, 8, 3, 4, 7, 7, 2, 8, 0, 7, 4, 6, 0, 3, 6, 6, 1, 7, 9, 1, 2, 3, 9, 6, 5, 3, 8, 0, 9, 1, 2, 4, 0, 6, 6, 2, 5, 6, 8, 3, 3, 9, 6, 5, 0, 7, 2, 5, 8, 9, 0, 7, 3, 0, 6, 0, 1, 4, 6, 7, 5, 4, 9, 8, 1, 9, 7, 4, 9, 6, 9, 3, 2, 2, 5, 5, 9, 3, 4, 2, 0, 5, 8, 9, 8, 0, 8, 5, 9, 1, 7, 9, 5, 1, 9, 8, 1, 2, 1, 9, 5, 5, 7, 1, 7, 0, 5, 3, 4, 7, 6, 0, 3, 0, 7, 8, 4, 5, 7, 7, 5, 7, 5, 1, 0, 3, 8, 4, 5, 9, 3, 0, 9, 5, 6, 4, 9, 2, 3, 9, 8, 9, 4, 5, 9, 7, 9, 9, 9, 9, 7, 1, 0, 5, 8, 7, 0, 8, 5, 6, 8, 3, 7, 3, 9, 0, 5, 0, 0, 0, 5, 1, 1, 7, 5, 8, 1, 8, 6, 6, 7, 8, 8, 4, 9, 2, 2, 9, 7, 4, 2, 9, 7, 8, 3, 3, 2, 5, 6, 1, 7, 3, 4, 0, 4, 2, 0, 4, 6, 3, 4, 9, 4, 6, 1, 2, 7, 9, 4, 9, 5, 5, 9, 5, 6, 1, 0, 8, 6, 4, 5, 1, 7, 7, 2, 2, 5, 9, 9, 0, 9, 1, 8, 2, 8, 1, 5, 7, 7, 8, 9, 4, 7, 1, 6, 5, 8, 2, 2, 3, 7, 3, 2, 2, 0, 8, 5, 3, 4, 8, 0, 1, 5, 3, 5, 8, 1, 8, 0, 4, 3, 5, 3, 0, 5, 6, 5, 2, 5, 1, 0, 4, 5, 5, 4, 4, 7, 3, 5, 8, 1, 9, 4, 6, 7, 0, 0, 4, 8, 7, 9, 2, 7, 3, 8, 2, 0, 1, 2, 1, 4, 5, 8, 2, 5, 9, 7, 1, 8, 1, 0, 5, 9, 7, 0, 7, 2, 0, 7, 6, 1, 9, 1, 1, 2, 2, 6, 3, 7, 7, 4, 1, 5, 1, 8, 3, 4, 2, 4, 9, 6, 0, 9, 4, 7, 6, 9, 2, 4, 3, 9, 7, 2, 1, 4, 4, 3, 1, 9, 2, 0, 4, 7, 0, 7, 3, 7, 0, 7, 0, 3, 0, 0, 3, 6, 0, 5, 5, 2, 0, 0, 9, 0, 9, 8, 8, 9, 4, 4, 7, 6, 4, 1, 8, 5, 6, 2, 6, 0, 7, 5, 5, 5, 2, 6, 1, 9, 1, 1, 7, 9, 2, 6, 1, 2, 7, 8, 4, 0, 8, 1, 8, 0, 8, 0, 7, 7, 4, 4, 5, 7, 5, 8, 1, 8, 2, 8, 3, 8, 6, 2, 0, 4, 8, 0, 0, 4, 0, 9, 7, 6, 4, 8, 3, 2, 9, 3, 8, 4, 5, 7, 0, 9, 9, 0, 7, 1, 5, 4, 9, 9, 0, 9, 8, 0, 2, 0, 6, 9, 4, 9, 7, 3, 5, 4, 4, 6, 0, 8, 0, 5, 9, 2, 2, 6, 2, 1, 6, 7, 0, 1, 0, 7, 7, 9, 3, 5, 6, 6, 7, 3, 0, 9, 1, 6, 6, 0, 6, 3, 8, 5, 3, 6, 5, 2, 4, 0, 6, 5, 0, 4, 4, 5, 3, 2, 2, 5, 3, 1, 5, 6, 2, 6, 2, 9, 3, 4, 9, 5, 8, 5, 2, 5, 4, 9, 9, 6, 7, 9, 7, 4, 3, 1, 0, 9, 7, 3, 5, 0, 3, 8, 5, 1, 4, 8, 1, 2, 4, 1, 6, 9, 4, 3, 1, 3, 1, 8, 5, 6, 6, 3, 2, 1, 0, 7, 6, 3, 3, 5, 7, 0, 7, 7, 0, 8, 8, 2, 1, 2, 1, 6, 1, 9, 4, 4, 7, 4, 9, 7, 4, 9, 6, 0, 6, 0, 1, 9, 2, 0, 3, 2, 1, 2, 7, 4, 9, 2, 2, 6, 8, 8, 7, 0, 6, 2, 5, 3, 7, 4, 1, 7, 8, 8, 8, 4, 8, 4, 9, 8, 1, 0, 1, 9, 5, 5, 4, 4, 6, 5, 4, 6, 8, 5, 4, 2, 2, 1, 6, 8, 9, 9, 7, 1, 6, 9, 1, 3, 4, 0, 8, 5, 9, 6, 6, 0, 8, 6, 3, 8, 9, 7, 8, 5, 9, 5, 5, 9, 4, 7, 3, 3, 2, 8, 1, 6, 5, 7, 2, 2, 0, 0, 0, 8, 1, 3, 7, 3, 3, 0, 1, 9, 5, 0, 9, 0, 9, 0, 8, 2, 7, 9, 2, 9, 9, 1, 3, 1, 1, 3, 1, 6, 8, 9, 2, 0, 6, 8, 5, 9, 4, 3, 2, 2, 5, 3, 3, 8, 7, 5, 0, 2, 6, 5, 2, 7, 5, 8, 6, 4, 3, 3, 4, 5, 0, 3, 2, 9, 8, 1, 8, 7, 7, 1, 2, 8, 6, 5, 0, 9, 6, 5, 8, 9, 6, 1, 8, 0, 6, 9, 0, 9, 5, 5, 8, 0, 1, 5, 1, 3, 8, 7, 5, 1, 8, 5, 8, 5, 8, 9, 5, 9, 3, 9, 6, 8, 6, 8, 7, 4, 4, 3, 4, 0, 2, 3, 0, 2, 3, 0, 8, 8, 2, 6, 5, 6, 3, 4, 8, 5, 2, 7, 8, 3, 5, 6, 8, 3, 1, 8, 2, 8, 7, 8, 3, 9, 8, 6, 0, 7, 1, 4, 3, 1, 3, 9, 8, 8, 7, 1, 2, 5, 3, 0, 2, 3, 0, 2, 8, 4, 7, 4, 6, 4, 8, 4, 0, 1, 7, 0, 3, 4, 4, 4, 6, 8, 2, 6, 6, 9, 9, 8, 6, 8, 7, 8, 0, 4, 5, 2, 8, 7, 6, 8, 7, 4, 3, 5, 8, 9, 9, 3, 7, 5, 1, 3, 3, 2, 2, 5, 0, 4, 4, 4, 2, 5, 0, 5, 6, 3, 0, 4, 3, 5, 5, 4, 4, 7, 7, 0, 1, 9, 4, 5, 1, 0, 2, 3, 6, 2, 2, 6, 5, 1, 2, 7, 3, 0, 9, 8, 0, 8, 2, 5, 3, 4, 5, 6, 5, 1, 2, 2, 2, 9, 8, 6, 6, 3, 5, 6, 0, 9, 1, 0, 3, 8, 4, 3, 8, 4, 6, 5, 8, 6, 1, 0, 3, 7, 6, 9, 8, 1, 5, 1, 8, 0, 8, 8, 0, 3, 7, 3, 3, 8, 1, 0, 2, 1, 5, 3, 5, 3, 4, 0, 5, 5, 2, 0, 2, 2, 4, 9, 4, 3, 7, 1, 6, 4, 0, 2, 0, 6, 3, 7, 1, 9, 0, 9, 9, 7, 1, 3, 4, 3, 3, 7, 8, 6, 8, 3, 4, 6, 5, 6, 5, 9, 3, 1, 0, 7, 5, 6, 3, 0, 7, 9, 3, 3, 2, 6, 7, 6, 4, 0, 6, 0, 6, 2, 2, 1, 8, 5, 1, 6, 4, 8, 2, 5, 9, 3, 1, 4, 3, 2, 2, 4, 2, 2, 0, 2, 0, 3, 9, 7, 0, 2, 2, 6, 7, 0, 9, 8, 0, 0, 5, 7, 3, 1, 5, 1, 9, 2, 3, 0, 8, 9, 1, 9, 8, 8, 9, 8, 1, 9, 0, 3, 3, 8, 3, 5, 0, 2, 1, 5, 9, 1, 6, 4, 3, 0, 2, 0, 0, 7, 9, 9, 9, 7, 6, 5, 8, 3, 8, 4, 6, 5, 3, 4, 8, 9, 7, 6, 8, 2, 3, 9, 4, 1, 0, 8, 6, 7, 9, 4, 7, 5, 1, 3, 6, 1, 3, 0, 6, 5, 6, 4, 9, 5, 2, 4, 9, 0, 7, 5, 3, 6, 4, 6, 7, 2, 6, 5, 5, 0, 9, 4, 0, 8, 6, 1, 4, 0, 6, 7, 5, 4, 2, 4, 1, 8, 9, 8, 4, 6, 6, 9, 2, 3, 1, 4, 7, 7, 9, 0, 5, 6, 2, 3, 2, 5, 0, 8, 3, 8, 2, 2, 0, 8, 0, 7, 7, 0, 7, 2, 9, 8, 3, 1, 1, 7, 0, 6, 9, 1, 2, 8, 7, 8, 5, 1, 9, 6, 9, 1, 0, 8, 2, 7, 9, 3, 8, 2, 2, 0, 2, 0, 9, 1, 1, 0, 3, 8, 6, 8, 2, 5, 5, 5, 7, 4, 3, 7, 9, 4, 1, 8, 1, 9, 2, 3, 8, 0, 0, 5, 8, 2, 1, 2, 0, 6, 3, 0, 5, 9, 5, 3, 9, 8, 4, 8, 8, 6, 4, 9, 9, 5, 8, 7, 2, 9, 3, 0, 2, 7, 0, 4, 6, 9, 2, 0, 5, 7, 1, 0, 4, 6, 5, 0, 2, 2, 2, 4, 3, 6, 2, 9, 8, 6, 8, 1, 3, 3, 0, 8, 8, 5, 7, 5, 2, 9, 7, 9, 2, 0, 3, 2, 2, 8, 4, 5, 6, 5, 5, 4, 6, 6, 3, 5, 2, 9, 6, 4, 9, 3, 3, 5, 5, 4, 2, 0, 0, 2, 5, 0, 7, 5, 5, 7, 0, 4, 3, 2, 0, 4, 0, 9, 8, 4, 9, 9, 7, 5, 7, 9, 8, 1, 9, 3, 5, 8, 6, 4, 6, 9, 9, 9, 3, 7, 5, 9, 7, 8, 0, 8, 6, 9, 8, 6, 7, 1, 7, 7, 9, 8, 0, 9, 2, 6, 5, 8, 0, 5, 4, 3, 2, 8, 2, 6, 4, 0, 7, 7, 4, 0, 7, 8, 0, 2, 3, 5, 1, 6, 2, 2, 8, 2, 4, 9, 2, 4, 3, 3, 0, 9, 5, 6, 6, 4, 0, 1, 0, 3, 2, 6, 0, 4, 2, 7, 3, 6, 6, 7, 1, 4, 2, 2, 6, 4, 8, 5, 3, 5, 4, 1, 3, 8, 6, 3, 9, 2, 0, 2, 7, 2, 8, 7, 8, 2, 0, 5, 0, 0, 8, 9, 0, 3, 8, 4, 1, 6, 5, 7, 9, 8, 1, 5, 3, 5, 1, 6, 7, 9, 7, 7, 0, 7, 6, 8, 1, 3, 7, 0, 4, 2, 9, 4, 3, 6, 2, 1, 7, 8, 2, 3, 6, 3, 8, 1, 8, 4, 9, 6, 2, 3, 1, 8, 1, 4, 3, 9, 4, 1, 0, 6, 7, 4, 9, 9, 5, 5, 9, 6, 2, 3, 5, 1, 5, 9, 4, 0, 1, 4, 3, 1, 1, 8, 7, 0, 1, 5, 9, 8, 9, 7, 6, 2, 9, 0, 9, 1, 1, 3, 6, 6, 5, 7, 9, 0, 6, 6, 5, 1, 8, 1, 8, 0, 9, 5, 5, 1, 2, 0, 8, 7, 9, 1, 9, 5, 7, 5, 3, 0, 7, 4, 8, 0, 2, 5, 2, 7, 9, 7, 8, 4, 8, 5, 2, 2, 5, 9, 1, 4, 5, 1, 6, 5, 2, 9, 7, 5, 4, 7, 9, 3, 7, 2, 3, 6, 5, 8, 8, 7, 1, 0, 5, 4, 7, 2, 9, 2, 5, 8, 4, 2, 1, 7, 3, 9, 8, 2, 1, 6, 0, 1, 5, 9, 8, 6, 5, 8, 8, 8, 3, 7, 4, 3, 3, 3, 2, 6, 9, 7, 3, 9, 6, 6, 3, 7, 8, 5, 3, 0, 0, 2, 4, 4, 0, 2, 2, 5, 5, 4, 0, 6, 2, 1, 0, 8, 8, 6, 4, 5, 3, 1, 2, 4, 6, 7, 6, 8, 1, 4, 3, 9, 9, 7, 4, 7, 3, 7, 9, 5, 1, 6, 1, 8, 5, 7, 4, 4, 7, 9, 5, 7, 3, 2, 5, 2, 3, 2, 8, 7, 8, 9, 1, 6, 0, 5, 0, 1, 3, 0, 7, 3, 0, 0, 0, 7, 6, 6, 0, 7, 7, 0, 4, 0, 4, 9, 8, 7, 6, 3, 9, 0, 2, 8, 8, 2, 8, 4, 4, 8, 4, 4, 3, 4, 5, 5, 4, 2, 6, 9, 6, 4, 5, 0, 4, 2, 2, 6, 4, 6, 1, 1, 5, 1, 4, 7, 6, 8, 2, 3, 0, 3, 5, 8, 3, 6, 3, 1, 9, 1, 7, 9, 8, 9, 2, 7, 0, 6, 0, 7, 3, 6, 0, 3, 6, 3, 5, 5, 8, 4, 7, 0, 6, 6, 6, 8, 2, 4, 3, 6, 7, 9, 4, 2, 3, 8, 1, 4, 6, 3, 0, 8, 7, 4, 1, 9, 8, 8, 3, 5, 0, 4, 1, 0, 1, 2, 6, 1, 3, 6, 0, 0, 5, 6, 9, 6, 8, 4, 0, 9, 2, 2, 8, 5, 5, 3, 2, 1, 9, 4, 9, 3]\n",
      "(9000, 10)\n",
      "0\n",
      "255\n",
      "[4 2 2 ..., 9 1 1]\n",
      "(5000, 10)\n",
      "0\n",
      "255\n",
      "[3 8 8 ..., 5 1 7]\n",
      "(10000, 10)\n"
     ]
    }
   ],
   "source": [
    "\"\"\"\n",
    "DON'T MODIFY ANYTHING IN THIS CELL\n",
    "\"\"\"\n",
    "# Preprocess Training, Validation, and Testing Data\n",
    "helper.preprocess_and_save_data(cifar10_dataset_folder_path, normalize, one_hot_encode)"
   ]
  },
  {
   "cell_type": "markdown",
   "metadata": {
    "deletable": true,
    "editable": true
   },
   "source": [
    "# Check Point\n",
    "This is your first checkpoint.  If you ever decide to come back to this notebook or have to restart the notebook, you can start from here.  The preprocessed data has been saved to disk."
   ]
  },
  {
   "cell_type": "code",
   "execution_count": 7,
   "metadata": {
    "collapsed": true,
    "deletable": true,
    "editable": true
   },
   "outputs": [],
   "source": [
    "\"\"\"\n",
    "DON'T MODIFY ANYTHING IN THIS CELL\n",
    "\"\"\"\n",
    "import pickle\n",
    "import problem_unittests as tests\n",
    "import helper\n",
    "\n",
    "# Load the Preprocessed Validation data\n",
    "valid_features, valid_labels = pickle.load(open('preprocess_validation.p', mode='rb'))"
   ]
  },
  {
   "cell_type": "markdown",
   "metadata": {
    "deletable": true,
    "editable": true
   },
   "source": [
    "## Build the network\n",
    "For the neural network, you'll build each layer into a function.  Most of the code you've seen has been outside of functions. To test your code more thoroughly, we require that you put each layer in a function.  This allows us to give you better feedback and test for simple mistakes using our unittests before you submit your project.\n",
    "\n",
    ">**Note:** If you're finding it hard to dedicate enough time for this course each week, we've provided a small shortcut to this part of the project. In the next couple of problems, you'll have the option to use classes from the [TensorFlow Layers](https://www.tensorflow.org/api_docs/python/tf/layers) or [TensorFlow Layers (contrib)](https://www.tensorflow.org/api_guides/python/contrib.layers) packages to build each layer, except the layers you build in the \"Convolutional and Max Pooling Layer\" section.  TF Layers is similar to Keras's and TFLearn's abstraction to layers, so it's easy to pickup.\n",
    "\n",
    ">However, if you would like to get the most out of this course, try to solve all the problems _without_ using anything from the TF Layers packages. You **can** still use classes from other packages that happen to have the same name as ones you find in TF Layers! For example, instead of using the TF Layers version of the `conv2d` class, [tf.layers.conv2d](https://www.tensorflow.org/api_docs/python/tf/layers/conv2d), you would want to use the TF Neural Network version of `conv2d`, [tf.nn.conv2d](https://www.tensorflow.org/api_docs/python/tf/nn/conv2d). \n",
    "\n",
    "Let's begin!\n",
    "\n",
    "### Input\n",
    "The neural network needs to read the image data, one-hot encoded labels, and dropout keep probability. Implement the following functions\n",
    "* Implement `neural_net_image_input`\n",
    " * Return a [TF Placeholder](https://www.tensorflow.org/api_docs/python/tf/placeholder)\n",
    " * Set the shape using `image_shape` with batch size set to `None`.\n",
    " * Name the TensorFlow placeholder \"x\" using the TensorFlow `name` parameter in the [TF Placeholder](https://www.tensorflow.org/api_docs/python/tf/placeholder).\n",
    "* Implement `neural_net_label_input`\n",
    " * Return a [TF Placeholder](https://www.tensorflow.org/api_docs/python/tf/placeholder)\n",
    " * Set the shape using `n_classes` with batch size set to `None`.\n",
    " * Name the TensorFlow placeholder \"y\" using the TensorFlow `name` parameter in the [TF Placeholder](https://www.tensorflow.org/api_docs/python/tf/placeholder).\n",
    "* Implement `neural_net_keep_prob_input`\n",
    " * Return a [TF Placeholder](https://www.tensorflow.org/api_docs/python/tf/placeholder) for dropout keep probability.\n",
    " * Name the TensorFlow placeholder \"keep_prob\" using the TensorFlow `name` parameter in the [TF Placeholder](https://www.tensorflow.org/api_docs/python/tf/placeholder).\n",
    "\n",
    "These names will be used at the end of the project to load your saved model.\n",
    "\n",
    "Note: `None` for shapes in TensorFlow allow for a dynamic size."
   ]
  },
  {
   "cell_type": "code",
   "execution_count": 8,
   "metadata": {
    "collapsed": false,
    "deletable": true,
    "editable": true
   },
   "outputs": [
    {
     "name": "stdout",
     "output_type": "stream",
     "text": [
      "Image Input Tests Passed.\n",
      "Label Input Tests Passed.\n",
      "Keep Prob Tests Passed.\n"
     ]
    }
   ],
   "source": [
    "import tensorflow as tf\n",
    "\n",
    "def neural_net_image_input(image_shape):\n",
    "    \"\"\"\n",
    "    Return a Tensor for a bach of image input\n",
    "    : image_shape: Shape of the images\n",
    "    : return: Tensor for image input.\n",
    "    \"\"\"\n",
    "    # TODO: Implement Function\n",
    "    return tf.placeholder(tf.float32, shape = [None, *image_shape], name = \"x\")\n",
    "\n",
    "\n",
    "def neural_net_label_input(n_classes):\n",
    "    \"\"\"\n",
    "    Return a Tensor for a batch of label input\n",
    "    : n_classes: Number of classes\n",
    "    : return: Tensor for label input.\n",
    "    \"\"\"\n",
    "    # TODO: Implement Function\n",
    "    return tf.placeholder(tf.float32, shape = [None, n_classes], name = \"y\")\n",
    "\n",
    "\n",
    "def neural_net_keep_prob_input():\n",
    "    \"\"\"\n",
    "    Return a Tensor for keep probability\n",
    "    : return: Tensor for keep probability.\n",
    "    \"\"\"\n",
    "    # TODO: Implement Function\n",
    "    return tf.placeholder(tf.float32, name = \"keep_prob\")\n",
    "\n",
    "\n",
    "\"\"\"\n",
    "DON'T MODIFY ANYTHING IN THIS CELL THAT IS BELOW THIS LINE\n",
    "\"\"\"\n",
    "tf.reset_default_graph()\n",
    "tests.test_nn_image_inputs(neural_net_image_input)\n",
    "tests.test_nn_label_inputs(neural_net_label_input)\n",
    "tests.test_nn_keep_prob_inputs(neural_net_keep_prob_input)"
   ]
  },
  {
   "cell_type": "markdown",
   "metadata": {
    "deletable": true,
    "editable": true
   },
   "source": [
    "### Convolution and Max Pooling Layer\n",
    "Convolution layers have a lot of success with images. For this code cell, you should implement the function `conv2d_maxpool` to apply convolution then max pooling:\n",
    "* Create the weight and bias using `conv_ksize`, `conv_num_outputs` and the shape of `x_tensor`.\n",
    "* Apply a convolution to `x_tensor` using weight and `conv_strides`.\n",
    " * We recommend you use same padding, but you're welcome to use any padding.\n",
    "* Add bias\n",
    "* Add a nonlinear activation to the convolution.\n",
    "* Apply Max Pooling using `pool_ksize` and `pool_strides`.\n",
    " * We recommend you use same padding, but you're welcome to use any padding.\n",
    "\n",
    "**Note:** You **can't** use [TensorFlow Layers](https://www.tensorflow.org/api_docs/python/tf/layers) or [TensorFlow Layers (contrib)](https://www.tensorflow.org/api_guides/python/contrib.layers) for **this** layer, but you can still use TensorFlow's [Neural Network](https://www.tensorflow.org/api_docs/python/tf/nn) package. You may still use the shortcut option for all the **other** layers."
   ]
  },
  {
   "cell_type": "code",
   "execution_count": 20,
   "metadata": {
    "collapsed": false,
    "deletable": true,
    "editable": true
   },
   "outputs": [
    {
     "name": "stdout",
     "output_type": "stream",
     "text": [
      "Tests Passed\n"
     ]
    }
   ],
   "source": [
    "def conv2d_maxpool(x_tensor, conv_num_outputs, conv_ksize, conv_strides, pool_ksize, pool_strides):\n",
    "    \"\"\"\n",
    "    Apply convolution then max pooling to x_tensor\n",
    "    :param x_tensor: TensorFlow Tensor\n",
    "    :param conv_num_outputs: Number of outputs for the convolutional layer\n",
    "    :param conv_ksize: kernal size 2-D Tuple for the convolutional layer\n",
    "    :param conv_strides: Stride 2-D Tuple for convolution\n",
    "    :param pool_ksize: kernal size 2-D Tuple for pool\n",
    "    :param pool_strides: Stride 2-D Tuple for pool\n",
    "    : return: A tensor that represents convolution and max pooling of x_tensor\n",
    "    \"\"\"\n",
    "    # TODO: Implement Function\n",
    "    w = tf.Variable(tf.truncated_normal([conv_ksize[0],conv_ksize[1],x_tensor.get_shape().as_list()[3],conv_num_outputs],stddev = .1))\n",
    "    b = tf.Variable(tf.zeros([conv_num_outputs])) #previously was set to zeros and model didnt learn\n",
    "    y = tf.nn.conv2d(input = x_tensor, filter = w, padding = 'SAME', strides = [1, conv_strides[0], conv_strides[1],1])\n",
    "    y = tf.nn.bias_add(value = y, bias = b)\n",
    "    y = tf.nn.relu(y)   \n",
    "    y = tf.nn.max_pool(value = y, strides = [1, pool_strides[0], pool_strides[1],1], ksize = [1,pool_ksize[0],pool_ksize[1],1], padding = 'VALID')\n",
    "    return y\n",
    "\n",
    "\n",
    "\"\"\"\n",
    "DON'T MODIFY ANYTHING IN THIS CELL THAT IS BELOW THIS LINE\n",
    "\"\"\"\n",
    "tests.test_con_pool(conv2d_maxpool)"
   ]
  },
  {
   "cell_type": "markdown",
   "metadata": {
    "deletable": true,
    "editable": true
   },
   "source": [
    "### Flatten Layer\n",
    "Implement the `flatten` function to change the dimension of `x_tensor` from a 4-D tensor to a 2-D tensor.  The output should be the shape (*Batch Size*, *Flattened Image Size*). Shortcut option: you can use classes from the [TensorFlow Layers](https://www.tensorflow.org/api_docs/python/tf/layers) or [TensorFlow Layers (contrib)](https://www.tensorflow.org/api_guides/python/contrib.layers) packages for this layer. For more of a challenge, only use other TensorFlow packages."
   ]
  },
  {
   "cell_type": "code",
   "execution_count": 21,
   "metadata": {
    "collapsed": false,
    "deletable": true,
    "editable": true
   },
   "outputs": [
    {
     "name": "stdout",
     "output_type": "stream",
     "text": [
      "Tests Passed\n"
     ]
    }
   ],
   "source": [
    "def flatten(x_tensor):\n",
    "    \"\"\"\n",
    "    Flatten x_tensor to (Batch Size, Flattened Image Size)\n",
    "    : x_tensor: A tensor of size (Batch Size, ...), where ... are the image dimensions.\n",
    "    : return: A tensor of size (Batch Size, Flattened Image Size).\n",
    "    \"\"\"\n",
    "    # TODO: Implement Function\n",
    "    return tf.contrib.layers.flatten(x_tensor)\n",
    "\n",
    "\n",
    "\"\"\"\n",
    "DON'T MODIFY ANYTHING IN THIS CELL THAT IS BELOW THIS LINE\n",
    "\"\"\"\n",
    "tests.test_flatten(flatten)"
   ]
  },
  {
   "cell_type": "markdown",
   "metadata": {
    "deletable": true,
    "editable": true
   },
   "source": [
    "### Fully-Connected Layer\n",
    "Implement the `fully_conn` function to apply a fully connected layer to `x_tensor` with the shape (*Batch Size*, *num_outputs*). Shortcut option: you can use classes from the [TensorFlow Layers](https://www.tensorflow.org/api_docs/python/tf/layers) or [TensorFlow Layers (contrib)](https://www.tensorflow.org/api_guides/python/contrib.layers) packages for this layer. For more of a challenge, only use other TensorFlow packages."
   ]
  },
  {
   "cell_type": "code",
   "execution_count": 29,
   "metadata": {
    "collapsed": false,
    "deletable": true,
    "editable": true
   },
   "outputs": [
    {
     "name": "stdout",
     "output_type": "stream",
     "text": [
      "(?, 128)\n",
      "40\n",
      "(?, 40)\n",
      "Tests Passed\n"
     ]
    }
   ],
   "source": [
    "def fully_conn(x_tensor, num_outputs):\n",
    "    \"\"\"\n",
    "    Apply a fully connected layer to x_tensor using weight and bias\n",
    "    : x_tensor: A 2-D tensor where the first dimension is batch size.\n",
    "    : num_outputs: The number of output that the new tensor should be.\n",
    "    : return: A 2-D tensor where the second dimension is num_outputs.\n",
    "    \"\"\"\n",
    "    # TODO: Implement Function\n",
    "    print(np.shape(x_tensor))\n",
    "    print(num_outputs)\n",
    "    \n",
    "    weights = tf.Variable(tf.truncated_normal((x_tensor.get_shape().as_list()[1], num_outputs),stddev=.1))\n",
    "    biases = tf.Variable(tf.zeros([num_outputs]))\n",
    "    layer = tf.nn.relu(tf.matmul(x_tensor, weights) + biases)\n",
    "    print(np.shape(layer))\n",
    "    return layer\n",
    "\n",
    "\n",
    "\"\"\"\n",
    "DON'T MODIFY ANYTHING IN THIS CELL THAT IS BELOW THIS LINE\n",
    "\"\"\"\n",
    "tests.test_fully_conn(fully_conn)"
   ]
  },
  {
   "cell_type": "markdown",
   "metadata": {
    "deletable": true,
    "editable": true
   },
   "source": [
    "### Output Layer\n",
    "Implement the `output` function to apply a fully connected layer to `x_tensor` with the shape (*Batch Size*, *num_outputs*). Shortcut option: you can use classes from the [TensorFlow Layers](https://www.tensorflow.org/api_docs/python/tf/layers) or [TensorFlow Layers (contrib)](https://www.tensorflow.org/api_guides/python/contrib.layers) packages for this layer. For more of a challenge, only use other TensorFlow packages.\n",
    "\n",
    "**Note:** Activation, softmax, or cross entropy should **not** be applied to this."
   ]
  },
  {
   "cell_type": "code",
   "execution_count": 30,
   "metadata": {
    "collapsed": false,
    "deletable": true,
    "editable": true
   },
   "outputs": [
    {
     "name": "stdout",
     "output_type": "stream",
     "text": [
      "Tests Passed\n"
     ]
    }
   ],
   "source": [
    "def output(x_tensor, num_outputs):\n",
    "    \"\"\"\n",
    "    Apply a output layer to x_tensor using weight and bias\n",
    "    : x_tensor: A 2-D tensor where the first dimension is batch size.\n",
    "    : num_outputs: The number of output that the new tensor should be.\n",
    "    : return: A 2-D tensor where the second dimension is num_outputs.\n",
    "    \"\"\"\n",
    "    # TODO: Implement Function\n",
    "    weights = tf.Variable(tf.truncated_normal((x_tensor.get_shape().as_list()[1], num_outputs),stddev=.1))\n",
    "    biases = tf.Variable(tf.zeros([num_outputs]))\n",
    "    layer = tf.matmul(x_tensor, weights) + biases\n",
    "    return layer\n",
    "\n",
    "\n",
    "\"\"\"\n",
    "DON'T MODIFY ANYTHING IN THIS CELL THAT IS BELOW THIS LINE\n",
    "\"\"\"\n",
    "tests.test_output(output)"
   ]
  },
  {
   "cell_type": "markdown",
   "metadata": {
    "deletable": true,
    "editable": true
   },
   "source": [
    "### Create Convolutional Model\n",
    "Implement the function `conv_net` to create a convolutional neural network model. The function takes in a batch of images, `x`, and outputs logits.  Use the layers you created above to create this model:\n",
    "\n",
    "* Apply 1, 2, or 3 Convolution and Max Pool layers\n",
    "* Apply a Flatten Layer\n",
    "* Apply 1, 2, or 3 Fully Connected Layers\n",
    "* Apply an Output Layer\n",
    "* Return the output\n",
    "* Apply [TensorFlow's Dropout](https://www.tensorflow.org/api_docs/python/tf/nn/dropout) to one or more layers in the model using `keep_prob`. "
   ]
  },
  {
   "cell_type": "code",
   "execution_count": 44,
   "metadata": {
    "collapsed": false,
    "deletable": true,
    "editable": true
   },
   "outputs": [
    {
     "name": "stdout",
     "output_type": "stream",
     "text": [
      "(?, 128)\n",
      "512\n",
      "(?, 512)\n",
      "(?, 512)\n",
      "512\n",
      "(?, 512)\n",
      "(?, 512)\n",
      "512\n",
      "(?, 512)\n",
      "(?, 128)\n",
      "512\n",
      "(?, 512)\n",
      "(?, 512)\n",
      "512\n",
      "(?, 512)\n",
      "(?, 512)\n",
      "512\n",
      "(?, 512)\n",
      "Neural Network Built!\n"
     ]
    }
   ],
   "source": [
    "def conv_net(x, keep_prob):\n",
    "    \"\"\"\n",
    "    Create a convolutional neural network model\n",
    "    : x: Placeholder tensor that holds image data.\n",
    "    : keep_prob: Placeholder tensor that hold dropout keep probability.\n",
    "    : return: Tensor that represents logits\n",
    "    \"\"\"\n",
    "    # TODO: Apply 1, 2, or 3 Convolution and Max Pool layers\n",
    "    #    Play around with different number of outputs, kernel size and stride\n",
    "    # Function Definition from Above:\n",
    "    #    conv2d_maxpool(x_tensor, conv_num_outputs, conv_ksize, conv_strides, pool_ksize, pool_strides)\n",
    "    #    new_height = (input_height - filter_height + 2 * P)/S + 1\n",
    "    #    new_width = (input_width - filter_width + 2 * P)/S + 1\n",
    "    \n",
    "    \n",
    "    conv_ksize = (4,4)\n",
    "    conv_strides = (2,2) \n",
    "    pool_ksize = (3,3)\n",
    "    pool_strides = (2,2)\n",
    "    \n",
    "    \n",
    "    # Layer 1 = 32x32x3 to 16*16*64?\n",
    "    conv_num_outputs = 32\n",
    "    conv1 = conv2d_maxpool(x,conv_num_outputs, conv_ksize, conv_strides, pool_ksize, pool_strides)\n",
    "    \n",
    "    # Layer 2 = 16x16x64 to 6x6x128?\n",
    "    conv_num_outputs = 64\n",
    "    conv2 = conv2d_maxpool(conv1,conv_num_outputs, conv_ksize, conv_strides, pool_ksize, pool_strides)\n",
    "\n",
    "    # Layer 3 = \n",
    "    conv_num_outputs = 128\n",
    "    conv3 = conv2d_maxpool(conv1,conv_num_outputs, conv_ksize, conv_strides, pool_ksize, pool_strides)\n",
    "\n",
    "\n",
    "    # TODO: Apply a Flatten Layer\n",
    "    # Function Definition from Above:\n",
    "    #   flatten(x_tensor)\n",
    "    \n",
    "    flat = flatten(conv3)\n",
    "\n",
    "    # TODO: Apply 1, 2, or 3 Fully Connected Layers\n",
    "    #    Play around with different number of outputs\n",
    "    # Function Definition from Above:\n",
    "    #   fully_conn(x_tensor, num_outputs)\n",
    "    \n",
    "    num_outputs = 512\n",
    "    fc1 = fully_conn(flat, num_outputs)\n",
    "    fc1 = tf.nn.dropout(fc1, keep_prob)\n",
    "    fc2 = fully_conn(fc1, num_outputs)\n",
    "    fc2 = tf.nn.dropout(fc2, keep_prob)\n",
    "    fc3 = fully_conn(fc2, num_outputs)\n",
    "    fc3 = tf.nn.dropout(fc3, keep_prob)\n",
    "    \n",
    "    \n",
    "    \n",
    "    #fc2\n",
    "    #fc3 = \n",
    "    \n",
    "    \n",
    "    # TODO: Apply an Output Layer\n",
    "    #    Set this to the number of classes\n",
    "    # Function Definition from Above:\n",
    "    #   output(x_tensor, num_outputs)\n",
    "    \n",
    "    out = output(fc3,10)\n",
    "    \n",
    "    # TODO: return output\n",
    "    return out\n",
    "\n",
    "\n",
    "\"\"\"\n",
    "DON'T MODIFY ANYTHING IN THIS CELL THAT IS BELOW THIS LINE\n",
    "\"\"\"\n",
    "\n",
    "##############################\n",
    "## Build the Neural Network ##\n",
    "##############################\n",
    "\n",
    "# Remove previous weights, bias, inputs, etc..\n",
    "tf.reset_default_graph()\n",
    "\n",
    "# Inputs\n",
    "x = neural_net_image_input((32, 32, 3))\n",
    "y = neural_net_label_input(10)\n",
    "keep_prob = neural_net_keep_prob_input()\n",
    "\n",
    "# Model\n",
    "logits = conv_net(x, keep_prob)\n",
    "\n",
    "# Name logits Tensor, so that is can be loaded from disk after training\n",
    "logits = tf.identity(logits, name='logits')\n",
    "\n",
    "# Loss and Optimizer\n",
    "cost = tf.reduce_mean(tf.nn.softmax_cross_entropy_with_logits(logits=logits, labels=y))\n",
    "optimizer = tf.train.AdamOptimizer().minimize(cost)\n",
    "\n",
    "# Accuracy\n",
    "correct_pred = tf.equal(tf.argmax(logits, 1), tf.argmax(y, 1))\n",
    "accuracy = tf.reduce_mean(tf.cast(correct_pred, tf.float32), name='accuracy')\n",
    "\n",
    "tests.test_conv_net(conv_net)"
   ]
  },
  {
   "cell_type": "markdown",
   "metadata": {
    "deletable": true,
    "editable": true
   },
   "source": [
    "## Train the Neural Network\n",
    "### Single Optimization\n",
    "Implement the function `train_neural_network` to do a single optimization.  The optimization should use `optimizer` to optimize in `session` with a `feed_dict` of the following:\n",
    "* `x` for image input\n",
    "* `y` for labels\n",
    "* `keep_prob` for keep probability for dropout\n",
    "\n",
    "This function will be called for each batch, so `tf.global_variables_initializer()` has already been called.\n",
    "\n",
    "Note: Nothing needs to be returned. This function is only optimizing the neural network."
   ]
  },
  {
   "cell_type": "code",
   "execution_count": 45,
   "metadata": {
    "collapsed": false,
    "deletable": true,
    "editable": true
   },
   "outputs": [
    {
     "name": "stdout",
     "output_type": "stream",
     "text": [
      "Tests Passed\n"
     ]
    }
   ],
   "source": [
    "def train_neural_network(session, optimizer, keep_probability, feature_batch, label_batch):\n",
    "    \"\"\"\n",
    "    Optimize the session on a batch of images and labels\n",
    "    : session: Current TensorFlow session\n",
    "    : optimizer: TensorFlow optimizer function\n",
    "    : keep_probability: keep probability\n",
    "    : feature_batch: Batch of Numpy image data\n",
    "    : label_batch: Batch of Numpy label data\n",
    "    \"\"\"   \n",
    "\n",
    "    session.run(optimizer, feed_dict={x: feature_batch, y: label_batch, keep_prob: keep_probability})    \n",
    "    \n",
    "\"\"\"\n",
    "DON'T MODIFY ANYTHING IN THIS CELL THAT IS BELOW THIS LINE\n",
    "\"\"\"\n",
    "tests.test_train_nn(train_neural_network)"
   ]
  },
  {
   "cell_type": "markdown",
   "metadata": {
    "deletable": true,
    "editable": true
   },
   "source": [
    "### Show Stats\n",
    "Implement the function `print_stats` to print loss and validation accuracy.  Use the global variables `valid_features` and `valid_labels` to calculate validation accuracy.  Use a keep probability of `1.0` to calculate the loss and validation accuracy."
   ]
  },
  {
   "cell_type": "code",
   "execution_count": 46,
   "metadata": {
    "collapsed": false,
    "deletable": true,
    "editable": true
   },
   "outputs": [],
   "source": [
    "def print_stats(session, feature_batch, label_batch, cost, accuracy):\n",
    "    \"\"\"\n",
    "    Print information about loss and validation accuracy\n",
    "    : session: Current TensorFlow session\n",
    "    : feature_batch: Batch of Numpy image data\n",
    "    : label_batch: Batch of Numpy label data\n",
    "    : cost: TensorFlow cost function\n",
    "    : accuracy: TensorFlow accuracy function\n",
    "    \"\"\"\n",
    "    loss = session.run(cost, feed_dict = {x: feature_batch,y: label_batch, keep_prob: 1.0})\n",
    "    acc = session.run(accuracy,feed_dict = {x: valid_features, y: valid_labels, keep_prob: 1.0})\n",
    "    print('Loss at {}'.format(loss), 'Validation Accuracy at {}'.format(acc))"
   ]
  },
  {
   "cell_type": "markdown",
   "metadata": {
    "deletable": true,
    "editable": true
   },
   "source": [
    "### Hyperparameters\n",
    "Tune the following parameters:\n",
    "* Set `epochs` to the number of iterations until the network stops learning or start overfitting\n",
    "* Set `batch_size` to the highest number that your machine has memory for.  Most people set them to common sizes of memory:\n",
    " * 64\n",
    " * 128\n",
    " * 256\n",
    " * ...\n",
    "* Set `keep_probability` to the probability of keeping a node using dropout"
   ]
  },
  {
   "cell_type": "code",
   "execution_count": 54,
   "metadata": {
    "collapsed": true,
    "deletable": true,
    "editable": true
   },
   "outputs": [],
   "source": [
    "# TODO: Tune Parameters\n",
    "epochs = 25\n",
    "batch_size = 128\n",
    "keep_probability = .8"
   ]
  },
  {
   "cell_type": "markdown",
   "metadata": {
    "deletable": true,
    "editable": true
   },
   "source": [
    "### Train on a Single CIFAR-10 Batch\n",
    "Instead of training the neural network on all the CIFAR-10 batches of data, let's use a single batch. This should save time while you iterate on the model to get a better accuracy.  Once the final validation accuracy is 50% or greater, run the model on all the data in the next section."
   ]
  },
  {
   "cell_type": "code",
   "execution_count": 52,
   "metadata": {
    "collapsed": false,
    "deletable": true,
    "editable": true
   },
   "outputs": [
    {
     "name": "stdout",
     "output_type": "stream",
     "text": [
      "Checking the Training on a Single Batch...\n",
      "Epoch  1, CIFAR-10 Batch 1:  Loss at 1.783094882965088 Validation Accuracy at 0.34119999408721924\n",
      "Epoch  2, CIFAR-10 Batch 1:  Loss at 1.4462518692016602 Validation Accuracy at 0.42979997396469116\n",
      "Epoch  3, CIFAR-10 Batch 1:  Loss at 1.1542258262634277 Validation Accuracy at 0.4657999575138092\n",
      "Epoch  4, CIFAR-10 Batch 1:  Loss at 1.0050376653671265 Validation Accuracy at 0.4795999825000763\n",
      "Epoch  5, CIFAR-10 Batch 1:  Loss at 0.8239828944206238 Validation Accuracy at 0.4887999892234802\n",
      "Epoch  6, CIFAR-10 Batch 1:  Loss at 0.763324499130249 Validation Accuracy at 0.5077999830245972\n",
      "Epoch  7, CIFAR-10 Batch 1:  Loss at 0.6273709535598755 Validation Accuracy at 0.5087999701499939\n",
      "Epoch  8, CIFAR-10 Batch 1:  Loss at 0.6611166000366211 Validation Accuracy at 0.509399950504303\n",
      "Epoch  9, CIFAR-10 Batch 1:  Loss at 0.487949401140213 Validation Accuracy at 0.5109999179840088\n",
      "Epoch 10, CIFAR-10 Batch 1:  Loss at 0.3866581320762634 Validation Accuracy at 0.5191999673843384\n",
      "Epoch 11, CIFAR-10 Batch 1:  Loss at 0.33885133266448975 Validation Accuracy at 0.5001999735832214\n",
      "Epoch 12, CIFAR-10 Batch 1:  Loss at 0.37546953558921814 Validation Accuracy at 0.4955999255180359\n",
      "Epoch 13, CIFAR-10 Batch 1:  Loss at 0.3498151898384094 Validation Accuracy at 0.4723999500274658\n",
      "Epoch 14, CIFAR-10 Batch 1:  Loss at 0.27558624744415283 Validation Accuracy at 0.4957999587059021\n",
      "Epoch 15, CIFAR-10 Batch 1:  Loss at 0.1907702088356018 Validation Accuracy at 0.5025999546051025\n"
     ]
    }
   ],
   "source": [
    "\"\"\"\n",
    "DON'T MODIFY ANYTHING IN THIS CELL\n",
    "\"\"\"\n",
    "print('Checking the Training on a Single Batch...')\n",
    "with tf.Session() as sess:\n",
    "    # Initializing the variables\n",
    "    sess.run(tf.global_variables_initializer())\n",
    "    \n",
    "    # Training cycle\n",
    "    for epoch in range(epochs):\n",
    "        batch_i = 1\n",
    "        for batch_features, batch_labels in helper.load_preprocess_training_batch(batch_i, batch_size):\n",
    "            train_neural_network(sess, optimizer, keep_probability, batch_features, batch_labels)\n",
    "        print('Epoch {:>2}, CIFAR-10 Batch {}:  '.format(epoch + 1, batch_i), end='')\n",
    "        print_stats(sess, batch_features, batch_labels, cost, accuracy)"
   ]
  },
  {
   "cell_type": "markdown",
   "metadata": {
    "deletable": true,
    "editable": true
   },
   "source": [
    "### Fully Train the Model\n",
    "Now that you got a good accuracy with a single CIFAR-10 batch, try it with all five batches."
   ]
  },
  {
   "cell_type": "code",
   "execution_count": 55,
   "metadata": {
    "collapsed": false,
    "deletable": true,
    "editable": true
   },
   "outputs": [
    {
     "name": "stdout",
     "output_type": "stream",
     "text": [
      "Training...\n",
      "Epoch  1, CIFAR-10 Batch 1:  Loss at 1.886843204498291 Validation Accuracy at 0.3303999900817871\n",
      "Epoch  1, CIFAR-10 Batch 2:  Loss at 1.8319858312606812 Validation Accuracy at 0.37039998173713684\n",
      "Epoch  1, CIFAR-10 Batch 3:  Loss at 1.4031524658203125 Validation Accuracy at 0.41919997334480286\n",
      "Epoch  1, CIFAR-10 Batch 4:  Loss at 1.4633634090423584 Validation Accuracy at 0.4681999683380127\n",
      "Epoch  1, CIFAR-10 Batch 5:  Loss at 1.448107123374939 Validation Accuracy at 0.5023999214172363\n",
      "Epoch  2, CIFAR-10 Batch 1:  Loss at 1.3877536058425903 Validation Accuracy at 0.5003999471664429\n",
      "Epoch  2, CIFAR-10 Batch 2:  Loss at 1.3880767822265625 Validation Accuracy at 0.486799955368042\n",
      "Epoch  2, CIFAR-10 Batch 3:  Loss at 1.0718058347702026 Validation Accuracy at 0.5119999647140503\n",
      "Epoch  2, CIFAR-10 Batch 4:  Loss at 1.2690269947052002 Validation Accuracy at 0.5323999524116516\n",
      "Epoch  2, CIFAR-10 Batch 5:  Loss at 1.1694839000701904 Validation Accuracy at 0.5309998989105225\n",
      "Epoch  3, CIFAR-10 Batch 1:  Loss at 1.1774137020111084 Validation Accuracy at 0.5265999436378479\n",
      "Epoch  3, CIFAR-10 Batch 2:  Loss at 1.1240187883377075 Validation Accuracy at 0.5441999435424805\n",
      "Epoch  3, CIFAR-10 Batch 3:  Loss at 0.8347862362861633 Validation Accuracy at 0.5457999110221863\n",
      "Epoch  3, CIFAR-10 Batch 4:  Loss at 0.9965965747833252 Validation Accuracy at 0.5631999969482422\n",
      "Epoch  3, CIFAR-10 Batch 5:  Loss at 0.938524603843689 Validation Accuracy at 0.5593999624252319\n",
      "Epoch  4, CIFAR-10 Batch 1:  Loss at 1.0423212051391602 Validation Accuracy at 0.5717999339103699\n",
      "Epoch  4, CIFAR-10 Batch 2:  Loss at 0.9372148513793945 Validation Accuracy at 0.5723999738693237\n",
      "Epoch  4, CIFAR-10 Batch 3:  Loss at 0.7690111398696899 Validation Accuracy at 0.5351999402046204\n",
      "Epoch  4, CIFAR-10 Batch 4:  Loss at 0.7948833107948303 Validation Accuracy at 0.5729999542236328\n",
      "Epoch  4, CIFAR-10 Batch 5:  Loss at 0.790417492389679 Validation Accuracy at 0.5709999203681946\n",
      "Epoch  5, CIFAR-10 Batch 1:  Loss at 0.9240094423294067 Validation Accuracy at 0.5925998687744141\n",
      "Epoch  5, CIFAR-10 Batch 2:  Loss at 0.8561045527458191 Validation Accuracy at 0.5887999534606934\n",
      "Epoch  5, CIFAR-10 Batch 3:  Loss at 0.6375405788421631 Validation Accuracy at 0.5655999183654785\n",
      "Epoch  5, CIFAR-10 Batch 4:  Loss at 0.7237809300422668 Validation Accuracy at 0.5747999548912048\n",
      "Epoch  5, CIFAR-10 Batch 5:  Loss at 0.6461226940155029 Validation Accuracy at 0.5837998986244202\n",
      "Epoch  6, CIFAR-10 Batch 1:  Loss at 0.7947731018066406 Validation Accuracy at 0.6115999221801758\n",
      "Epoch  6, CIFAR-10 Batch 2:  Loss at 0.7795088291168213 Validation Accuracy at 0.5805999040603638\n",
      "Epoch  6, CIFAR-10 Batch 3:  Loss at 0.5074832439422607 Validation Accuracy at 0.5907999277114868\n",
      "Epoch  6, CIFAR-10 Batch 4:  Loss at 0.6257920265197754 Validation Accuracy at 0.5581998825073242\n",
      "Epoch  6, CIFAR-10 Batch 5:  Loss at 0.6016186475753784 Validation Accuracy at 0.5759999752044678\n",
      "Epoch  7, CIFAR-10 Batch 1:  Loss at 0.6953222751617432 Validation Accuracy at 0.6131999492645264\n",
      "Epoch  7, CIFAR-10 Batch 2:  Loss at 0.6666213274002075 Validation Accuracy at 0.6057998538017273\n",
      "Epoch  7, CIFAR-10 Batch 3:  Loss at 0.422397255897522 Validation Accuracy at 0.6023999452590942\n",
      "Epoch  7, CIFAR-10 Batch 4:  Loss at 0.5891662836074829 Validation Accuracy at 0.6021999716758728\n",
      "Epoch  7, CIFAR-10 Batch 5:  Loss at 0.5022574067115784 Validation Accuracy at 0.5791999101638794\n",
      "Epoch  8, CIFAR-10 Batch 1:  Loss at 0.5686793923377991 Validation Accuracy at 0.6201998591423035\n",
      "Epoch  8, CIFAR-10 Batch 2:  Loss at 0.5443580150604248 Validation Accuracy at 0.6081998944282532\n",
      "Epoch  8, CIFAR-10 Batch 3:  Loss at 0.4646800458431244 Validation Accuracy at 0.5933999419212341\n",
      "Epoch  8, CIFAR-10 Batch 4:  Loss at 0.5141199231147766 Validation Accuracy at 0.5881999135017395\n",
      "Epoch  8, CIFAR-10 Batch 5:  Loss at 0.47955718636512756 Validation Accuracy at 0.5705999135971069\n",
      "Epoch  9, CIFAR-10 Batch 1:  Loss at 0.5965944528579712 Validation Accuracy at 0.6171998977661133\n",
      "Epoch  9, CIFAR-10 Batch 2:  Loss at 0.4838584363460541 Validation Accuracy at 0.6205998659133911\n",
      "Epoch  9, CIFAR-10 Batch 3:  Loss at 0.36527061462402344 Validation Accuracy at 0.5959998965263367\n",
      "Epoch  9, CIFAR-10 Batch 4:  Loss at 0.42832446098327637 Validation Accuracy at 0.6123999357223511\n",
      "Epoch  9, CIFAR-10 Batch 5:  Loss at 0.37884119153022766 Validation Accuracy at 0.5881999135017395\n",
      "Epoch 10, CIFAR-10 Batch 1:  Loss at 0.5047217011451721 Validation Accuracy at 0.6223999261856079\n",
      "Epoch 10, CIFAR-10 Batch 2:  Loss at 0.4344896674156189 Validation Accuracy at 0.6195999383926392\n",
      "Epoch 10, CIFAR-10 Batch 3:  Loss at 0.3347102999687195 Validation Accuracy at 0.603399932384491\n",
      "Epoch 10, CIFAR-10 Batch 4:  Loss at 0.35899680852890015 Validation Accuracy at 0.6247998476028442\n",
      "Epoch 10, CIFAR-10 Batch 5:  Loss at 0.26599979400634766 Validation Accuracy at 0.5933998823165894\n",
      "Epoch 11, CIFAR-10 Batch 1:  Loss at 0.4313582181930542 Validation Accuracy at 0.6359999179840088\n",
      "Epoch 11, CIFAR-10 Batch 2:  Loss at 0.37344998121261597 Validation Accuracy at 0.6195999383926392\n",
      "Epoch 11, CIFAR-10 Batch 3:  Loss at 0.28133028745651245 Validation Accuracy at 0.6057998538017273\n",
      "Epoch 11, CIFAR-10 Batch 4:  Loss at 0.28919288516044617 Validation Accuracy at 0.6255999207496643\n",
      "Epoch 11, CIFAR-10 Batch 5:  Loss at 0.2715376615524292 Validation Accuracy at 0.5883999466896057\n",
      "Epoch 12, CIFAR-10 Batch 1:  Loss at 0.3955366313457489 Validation Accuracy at 0.6275998950004578\n",
      "Epoch 12, CIFAR-10 Batch 2:  Loss at 0.3353162705898285 Validation Accuracy at 0.6145998239517212\n",
      "Epoch 12, CIFAR-10 Batch 3:  Loss at 0.25486457347869873 Validation Accuracy at 0.6081998944282532\n",
      "Epoch 12, CIFAR-10 Batch 4:  Loss at 0.29073262214660645 Validation Accuracy at 0.6167999505996704\n",
      "Epoch 12, CIFAR-10 Batch 5:  Loss at 0.195869579911232 Validation Accuracy at 0.616399884223938\n",
      "Epoch 13, CIFAR-10 Batch 1:  Loss at 0.3747828006744385 Validation Accuracy at 0.6225998997688293\n",
      "Epoch 13, CIFAR-10 Batch 2:  Loss at 0.22747766971588135 Validation Accuracy at 0.6223998665809631\n",
      "Epoch 13, CIFAR-10 Batch 3:  Loss at 0.20656844973564148 Validation Accuracy at 0.6179999113082886\n",
      "Epoch 13, CIFAR-10 Batch 4:  Loss at 0.23253147304058075 Validation Accuracy at 0.6265998482704163\n",
      "Epoch 13, CIFAR-10 Batch 5:  Loss at 0.2164197862148285 Validation Accuracy at 0.5947999358177185\n",
      "Epoch 14, CIFAR-10 Batch 1:  Loss at 0.31473079323768616 Validation Accuracy at 0.6255998611450195\n",
      "Epoch 14, CIFAR-10 Batch 2:  Loss at 0.20771348476409912 Validation Accuracy at 0.6275999546051025\n",
      "Epoch 14, CIFAR-10 Batch 3:  Loss at 0.1415669023990631 Validation Accuracy at 0.6339998841285706\n",
      "Epoch 14, CIFAR-10 Batch 4:  Loss at 0.2105453610420227 Validation Accuracy at 0.6221998929977417\n",
      "Epoch 14, CIFAR-10 Batch 5:  Loss at 0.1627398431301117 Validation Accuracy at 0.6097999215126038\n",
      "Epoch 15, CIFAR-10 Batch 1:  Loss at 0.23177596926689148 Validation Accuracy at 0.639799952507019\n",
      "Epoch 15, CIFAR-10 Batch 2:  Loss at 0.2093709111213684 Validation Accuracy at 0.6035999059677124\n",
      "Epoch 15, CIFAR-10 Batch 3:  Loss at 0.12630818784236908 Validation Accuracy at 0.6303999423980713\n",
      "Epoch 15, CIFAR-10 Batch 4:  Loss at 0.20471352338790894 Validation Accuracy at 0.6109998822212219\n",
      "Epoch 15, CIFAR-10 Batch 5:  Loss at 0.14424821734428406 Validation Accuracy at 0.6025998592376709\n",
      "Epoch 16, CIFAR-10 Batch 1:  Loss at 0.2494494616985321 Validation Accuracy at 0.6335998773574829\n",
      "Epoch 16, CIFAR-10 Batch 2:  Loss at 0.18582382798194885 Validation Accuracy at 0.6243999004364014\n",
      "Epoch 16, CIFAR-10 Batch 3:  Loss at 0.12302649766206741 Validation Accuracy at 0.6341999173164368\n",
      "Epoch 16, CIFAR-10 Batch 4:  Loss at 0.17285913228988647 Validation Accuracy at 0.6233998537063599\n",
      "Epoch 16, CIFAR-10 Batch 5:  Loss at 0.1185152530670166 Validation Accuracy at 0.6227998733520508\n",
      "Epoch 17, CIFAR-10 Batch 1:  Loss at 0.22916485369205475 Validation Accuracy at 0.6327998638153076\n",
      "Epoch 17, CIFAR-10 Batch 2:  Loss at 0.1677749902009964 Validation Accuracy at 0.6129999160766602\n",
      "Epoch 17, CIFAR-10 Batch 3:  Loss at 0.13809266686439514 Validation Accuracy at 0.6349998712539673\n",
      "Epoch 17, CIFAR-10 Batch 4:  Loss at 0.17960450053215027 Validation Accuracy at 0.616399884223938\n",
      "Epoch 17, CIFAR-10 Batch 5:  Loss at 0.11526702344417572 Validation Accuracy at 0.6263998746871948\n",
      "Epoch 18, CIFAR-10 Batch 1:  Loss at 0.1563257873058319 Validation Accuracy at 0.638999879360199\n",
      "Epoch 18, CIFAR-10 Batch 2:  Loss at 0.15687614679336548 Validation Accuracy at 0.6111999154090881\n",
      "Epoch 18, CIFAR-10 Batch 3:  Loss at 0.08655870705842972 Validation Accuracy at 0.6385998725891113\n",
      "Epoch 18, CIFAR-10 Batch 4:  Loss at 0.14670947194099426 Validation Accuracy at 0.6177998781204224\n",
      "Epoch 18, CIFAR-10 Batch 5:  Loss at 0.09645365178585052 Validation Accuracy at 0.6293998956680298\n",
      "Epoch 19, CIFAR-10 Batch 1:  Loss at 0.15977375209331512 Validation Accuracy at 0.6319999098777771\n",
      "Epoch 19, CIFAR-10 Batch 2:  Loss at 0.13105878233909607 Validation Accuracy at 0.616399884223938\n",
      "Epoch 19, CIFAR-10 Batch 3:  Loss at 0.07073066383600235 Validation Accuracy at 0.6363999247550964\n",
      "Epoch 19, CIFAR-10 Batch 4:  Loss at 0.15002937614917755 Validation Accuracy at 0.6139998435974121\n",
      "Epoch 19, CIFAR-10 Batch 5:  Loss at 0.08129088580608368 Validation Accuracy at 0.6305999159812927\n",
      "Epoch 20, CIFAR-10 Batch 1:  Loss at 0.13950546085834503 Validation Accuracy at 0.6365998983383179\n",
      "Epoch 20, CIFAR-10 Batch 2:  Loss at 0.09219473600387573 Validation Accuracy at 0.6121999025344849\n",
      "Epoch 20, CIFAR-10 Batch 3:  Loss at 0.08482542634010315 Validation Accuracy at 0.6277998685836792\n",
      "Epoch 20, CIFAR-10 Batch 4:  Loss at 0.09784884005784988 Validation Accuracy at 0.6149998903274536\n",
      "Epoch 20, CIFAR-10 Batch 5:  Loss at 0.1061146929860115 Validation Accuracy at 0.6187999248504639\n",
      "Epoch 21, CIFAR-10 Batch 1:  Loss at 0.11996724456548691 Validation Accuracy at 0.6277998685836792\n",
      "Epoch 21, CIFAR-10 Batch 2:  Loss at 0.11110372096300125 Validation Accuracy at 0.6165999174118042\n",
      "Epoch 21, CIFAR-10 Batch 3:  Loss at 0.050405845046043396 Validation Accuracy at 0.627799928188324\n",
      "Epoch 21, CIFAR-10 Batch 4:  Loss at 0.09750361740589142 Validation Accuracy at 0.613399863243103\n",
      "Epoch 21, CIFAR-10 Batch 5:  Loss at 0.08158719539642334 Validation Accuracy at 0.631199836730957\n",
      "Epoch 22, CIFAR-10 Batch 1:  Loss at 0.1042754054069519 Validation Accuracy at 0.6219998598098755\n",
      "Epoch 22, CIFAR-10 Batch 2:  Loss at 0.09963574260473251 Validation Accuracy at 0.6193999648094177\n",
      "Epoch 22, CIFAR-10 Batch 3:  Loss at 0.060439661145210266 Validation Accuracy at 0.6323999166488647\n",
      "Epoch 22, CIFAR-10 Batch 4:  Loss at 0.09384959936141968 Validation Accuracy at 0.6151999235153198\n",
      "Epoch 22, CIFAR-10 Batch 5:  Loss at 0.0937182828783989 Validation Accuracy at 0.6099998950958252\n",
      "Epoch 23, CIFAR-10 Batch 1:  Loss at 0.10303330421447754 Validation Accuracy at 0.6225998997688293\n",
      "Epoch 23, CIFAR-10 Batch 2:  Loss at 0.11789482831954956 Validation Accuracy at 0.6273999214172363\n",
      "Epoch 23, CIFAR-10 Batch 3:  Loss at 0.03985270857810974 Validation Accuracy at 0.6269998550415039\n",
      "Epoch 23, CIFAR-10 Batch 4:  Loss at 0.07330372184515 Validation Accuracy at 0.6123998761177063\n",
      "Epoch 23, CIFAR-10 Batch 5:  Loss at 0.08941860496997833 Validation Accuracy at 0.6273999214172363\n",
      "Epoch 24, CIFAR-10 Batch 1:  Loss at 0.13823449611663818 Validation Accuracy at 0.6107999086380005\n",
      "Epoch 24, CIFAR-10 Batch 2:  Loss at 0.09218482673168182 Validation Accuracy at 0.619399905204773\n",
      "Epoch 24, CIFAR-10 Batch 3:  Loss at 0.04991544038057327 Validation Accuracy at 0.6307998895645142\n",
      "Epoch 24, CIFAR-10 Batch 4:  Loss at 0.10156084597110748 Validation Accuracy at 0.6243999004364014\n",
      "Epoch 24, CIFAR-10 Batch 5:  Loss at 0.05340912938117981 Validation Accuracy at 0.6225998997688293\n",
      "Epoch 25, CIFAR-10 Batch 1:  Loss at 0.06460888683795929 Validation Accuracy at 0.6441998481750488\n",
      "Epoch 25, CIFAR-10 Batch 2:  Loss at 0.1179281622171402 Validation Accuracy at 0.6149999499320984\n",
      "Epoch 25, CIFAR-10 Batch 3:  Loss at 0.06767865270376205 Validation Accuracy at 0.616399884223938\n",
      "Epoch 25, CIFAR-10 Batch 4:  Loss at 0.05357728153467178 Validation Accuracy at 0.6363998651504517\n",
      "Epoch 25, CIFAR-10 Batch 5:  Loss at 0.07098104059696198 Validation Accuracy at 0.6301999092102051\n"
     ]
    }
   ],
   "source": [
    "\"\"\"\n",
    "DON'T MODIFY ANYTHING IN THIS CELL\n",
    "\"\"\"\n",
    "save_model_path = './image_classification'\n",
    "\n",
    "print('Training...')\n",
    "with tf.Session() as sess:\n",
    "    # Initializing the variables\n",
    "    sess.run(tf.global_variables_initializer())\n",
    "    \n",
    "    # Training cycle\n",
    "    for epoch in range(epochs):\n",
    "        # Loop over all batches\n",
    "        n_batches = 5\n",
    "        for batch_i in range(1, n_batches + 1):\n",
    "            for batch_features, batch_labels in helper.load_preprocess_training_batch(batch_i, batch_size):\n",
    "                train_neural_network(sess, optimizer, keep_probability, batch_features, batch_labels)\n",
    "            print('Epoch {:>2}, CIFAR-10 Batch {}:  '.format(epoch + 1, batch_i), end='')\n",
    "            print_stats(sess, batch_features, batch_labels, cost, accuracy)\n",
    "            \n",
    "    # Save Model\n",
    "    saver = tf.train.Saver()\n",
    "    save_path = saver.save(sess, save_model_path)"
   ]
  },
  {
   "cell_type": "markdown",
   "metadata": {
    "deletable": true,
    "editable": true
   },
   "source": [
    "# Checkpoint\n",
    "The model has been saved to disk.\n",
    "## Test Model\n",
    "Test your model against the test dataset.  This will be your final accuracy. You should have an accuracy greater than 50%. If you don't, keep tweaking the model architecture and parameters."
   ]
  },
  {
   "cell_type": "code",
   "execution_count": 64,
   "metadata": {
    "collapsed": false,
    "deletable": true,
    "editable": true
   },
   "outputs": [
    {
     "name": "stdout",
     "output_type": "stream",
     "text": [
      "Testing Accuracy: 0.6392405063291139\n",
      "\n"
     ]
    },
    {
     "data": {
      "image/png": "[encoded data removed]",
      "text/plain": [
       "<matplotlib.figure.Figure at 0x7f79bdaedeb8>"
      ]
     },
     "metadata": {
      "image/png": {
       "height": 319,
       "width": 355
      }
     },
     "output_type": "display_data"
    }
   ],
   "source": [
    "\"\"\"\n",
    "DON'T MODIFY ANYTHING IN THIS CELL\n",
    "\"\"\"\n",
    "%matplotlib inline\n",
    "%config InlineBackend.figure_format = 'retina'\n",
    "\n",
    "import tensorflow as tf\n",
    "import pickle\n",
    "import helper\n",
    "import random\n",
    "\n",
    "# Set batch size if not already set\n",
    "try:\n",
    "    if batch_size:\n",
    "        pass\n",
    "except NameError:\n",
    "    batch_size = 64\n",
    "\n",
    "save_model_path = './image_classification'\n",
    "n_samples = 4\n",
    "top_n_predictions = 3\n",
    "\n",
    "def test_model():\n",
    "    \"\"\"\n",
    "    Test the saved model against the test dataset\n",
    "    \"\"\"\n",
    "\n",
    "    test_features, test_labels = pickle.load(open('preprocess_training.p', mode='rb'))\n",
    "    loaded_graph = tf.Graph()\n",
    "\n",
    "    with tf.Session(graph=loaded_graph) as sess:\n",
    "        # Load model\n",
    "        loader = tf.train.import_meta_graph(save_model_path + '.meta')\n",
    "        loader.restore(sess, save_model_path)\n",
    "\n",
    "        # Get Tensors from loaded model\n",
    "        loaded_x = loaded_graph.get_tensor_by_name('x:0')\n",
    "        loaded_y = loaded_graph.get_tensor_by_name('y:0')\n",
    "        loaded_keep_prob = loaded_graph.get_tensor_by_name('keep_prob:0')\n",
    "        loaded_logits = loaded_graph.get_tensor_by_name('logits:0')\n",
    "        loaded_acc = loaded_graph.get_tensor_by_name('accuracy:0')\n",
    "        \n",
    "        # Get accuracy in batches for memory limitations\n",
    "        test_batch_acc_total = 0\n",
    "        test_batch_count = 0\n",
    "        \n",
    "        for train_feature_batch, train_label_batch in helper.batch_features_labels(test_features, test_labels, batch_size):\n",
    "            test_batch_acc_total += sess.run(\n",
    "                loaded_acc,\n",
    "                feed_dict={loaded_x: train_feature_batch, loaded_y: train_label_batch, loaded_keep_prob: 1.0})\n",
    "            test_batch_count += 1\n",
    "\n",
    "        print('Testing Accuracy: {}\\n'.format(test_batch_acc_total/test_batch_count))\n",
    "\n",
    "        # Print Random Samples\n",
    "        random_test_features, random_test_labels = tuple(zip(*random.sample(list(zip(test_features, test_labels)), n_samples)))\n",
    "        random_test_predictions = sess.run(\n",
    "            tf.nn.top_k(tf.nn.softmax(loaded_logits), top_n_predictions),\n",
    "            feed_dict={loaded_x: random_test_features, loaded_y: random_test_labels, loaded_keep_prob: 1.0})\n",
    "        helper.display_image_predictions(random_test_features, random_test_labels, random_test_predictions)\n",
    "\n",
    "\n",
    "test_model()"
   ]
  },
  {
   "cell_type": "markdown",
   "metadata": {
    "deletable": true,
    "editable": true
   },
   "source": [
    "## Why 50-70% Accuracy?\n",
    "You might be wondering why you can't get an accuracy any higher. First things first, 50% isn't bad for a simple CNN.  Pure guessing would get you 10% accuracy. However, you might notice people are getting scores [well above 70%](http://rodrigob.github.io/are_we_there_yet/build/classification_datasets_results.html#43494641522d3130).  That's because we haven't taught you all there is to know about neural networks. We still need to cover a few more techniques.\n",
    "## Submitting This Project\n",
    "When submitting this project, make sure to run all the cells before saving the notebook.  Save the notebook file as \"dlnd_image_classification.ipynb\" and save it as a HTML file under \"File\" -> \"Download as\".  Include the \"helper.py\" and \"problem_unittests.py\" files in your submission."
   ]
  }
 ],
 "metadata": {
  "kernelspec": {
   "display_name": "Python 3",
   "language": "python",
   "name": "python3"
  },
  "language_info": {
   "codemirror_mode": {
    "name": "ipython",
    "version": 3
   },
   "file_extension": ".py",
   "mimetype": "text/x-python",
   "name": "python",
   "nbconvert_exporter": "python",
   "pygments_lexer": "ipython3",
   "version": "3.5.2"
  },
  "widgets": {
   "state": {},
   "version": "1.1.2"
  }
 },
 "nbformat": 4,
 "nbformat_minor": 0
}
